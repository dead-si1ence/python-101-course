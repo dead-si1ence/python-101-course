{
 "cells": [
  {
   "cell_type": "markdown",
   "metadata": {},
   "source": [
    "# Introduction to Python Course\n",
    "\n",
    "## Class 1: Introduction to Python and Setup\n",
    "\n",
    "### 1. What is Python? (10 minutes)\n",
    "\n",
    "Python is a high-level, interpreted programming language known for its simplicity and readability. Created by Guido van Rossum and first released in 1991, Python has grown to become one of the most popular programming languages in the world.\n",
    "\n",
    "#### Brief history and philosophy of Python\n",
    "\n",
    "- **Created**: 1991 by Guido van Rossum\n",
    "- **Philosophy**: Emphasizes code readability with its notable use of significant whitespace\n",
    "\n",
    "#### Why Python is popular\n",
    "\n",
    "- **Readability**: Clean and easy-to-understand syntax\n",
    "- **Versatility**: Suitable for various applications (web development, data science, AI, etc.)\n",
    "- **Large community**: Extensive libraries and frameworks available\n",
    "\n",
    "#### Real-world applications of Python\n",
    "\n",
    "- Web development (Django, Flask)\n",
    "- Data analysis and visualization (Pandas, Matplotlib)\n",
    "- Machine Learning and AI (TensorFlow, PyTorch)\n",
    "- Scientific computing (NumPy, SciPy)\n",
    "- Automation and scripting\n",
    "\n",
    "<img src=\"Python Logo.png\">"
   ]
  },
  {
   "cell_type": "markdown",
   "metadata": {},
   "source": [
    "### 2. Installing Python (20 minutes)\n",
    "\n",
    "#### Downloading Python\n",
    "\n",
    "1. Visit [python.org](https://www.python.org/)\n",
    "2. Navigate to the Downloads section\n",
    "3. Choose the appropriate version for your operating system (Windows, macOS, or Linux)\n",
    "\n",
    "#### Step-by-step installation guide\n",
    "\n",
    "**Windows:**\n",
    "1. Download the installer (.exe file)\n",
    "2. Run the installer\n",
    "3. Check \"Add Python to PATH\"\n",
    "4. Click \"Install Now\"\n",
    "\n",
    "**macOS:**\n",
    "1. Download the installer (.pkg file)\n",
    "2. Run the installer\n",
    "3. Follow the installation wizard\n",
    "\n",
    "**Linux:**\n",
    "Most Linux distributions come with Python pre-installed. If not:\n",
    "1. Open terminal\n",
    "2. Use package manager to install Python:\n",
    "   ```\n",
    "   sudo apt-get update\n",
    "   sudo apt-get install python3\n",
    "   ```\n",
    "\n",
    "#### Verifying the installation\n",
    "\n",
    "Open a command prompt (Windows) or terminal (macOS/Linux) and type:"
   ]
  },
  {
   "cell_type": "code",
   "execution_count": null,
   "metadata": {},
   "outputs": [],
   "source": [
    "!python --version"
   ]
  },
  {
   "cell_type": "markdown",
   "metadata": {},
   "source": [
    "You should see the installed Python version, e.g., \"Python 3.9.5\""
   ]
  },
  {
   "cell_type": "markdown",
   "metadata": {},
   "source": [
    "### 3. Setting Up a Development Environment (20 minutes)\n",
    "\n",
    "#### Introduction to Integrated Development Environments (IDEs)\n",
    "\n",
    "An Integrated Development Environment (IDE) is a software application that provides comprehensive facilities for software development. It typically includes:\n",
    "\n",
    "- Code editor\n",
    "- Debugger\n",
    "- Compiler/interpreter\n",
    "- Syntax highlighting and auto-completion\n",
    "\n",
    "#### Installing and setting up Visual Studio Code\n",
    "\n",
    "1. Visit [code.visualstudio.com](https://code.visualstudio.com/)\n",
    "2. Download the appropriate version for your OS\n",
    "3. Run the installer and follow the installation wizard\n",
    "4. Launch VS Code\n",
    "\n",
    "#### Installing the Python extension in VS Code\n",
    "\n",
    "1. Open VS Code\n",
    "2. Click on the Extensions view icon on the Sidebar (or press Ctrl+Shift+X)\n",
    "3. Search for \"Python\"\n",
    "4. Find the Python extension by Microsoft and click \"Install\"\n",
    "\n",
    "<img src=\"Python Extension Pack.png\">\n"
   ]
  },
  {
   "cell_type": "markdown",
   "metadata": {},
   "source": [
    "### 4. Your First Python Program (10 minutes)\n",
    "\n",
    "#### Creating a new Python file\n",
    "\n",
    "1. In VS Code, go to File > New File (or press Ctrl+N)\n",
    "2. Save the file with a .py extension (e.g., \"hello_world.py\")\n",
    "\n",
    "#### Writing and running \"Hello, World!\"\n",
    "\n",
    "Type the following code into your new Python file:"
   ]
  },
  {
   "cell_type": "code",
   "execution_count": 5,
   "metadata": {},
   "outputs": [
    {
     "name": "stdout",
     "output_type": "stream",
     "text": [
      "Hello, World!\n"
     ]
    }
   ],
   "source": [
    "print(\"Hello, World!\")"
   ]
  },
  {
   "cell_type": "markdown",
   "metadata": {},
   "source": [
    "To run the program:\n",
    "1. Open a terminal in VS Code (Terminal > New Terminal)\n",
    "2. Navigate to the directory containing your Python file\n",
    "3. Run the command: `python hello_world.py`\n",
    "\n",
    "#### Understanding the print function and string literals\n",
    "\n",
    "- `print()` is a built-in Python function used to output text to the console\n",
    "- The text inside the parentheses is a string literal, denoted by quotation marks\n",
    "- String literals can use single quotes ('') or double quotes (\"\"), but be consistent\n",
    "\n",
    "**Exercise:** Try modifying the \"Hello, World!\" program to print your name instead."
   ]
  },
  {
   "cell_type": "code",
   "execution_count": null,
   "metadata": {},
   "outputs": [],
   "source": [
    "# Your code here"
   ]
  },
  {
   "cell_type": "markdown",
   "metadata": {},
   "source": [
    "## Class 2: Python Basics - Part 1\n",
    "\n",
    "### 1. Basic Syntax\n",
    "\n",
    "#### Indentation and its importance\n",
    "\n",
    "Python uses indentation to define code blocks. Consistent indentation is crucial for correct execution."
   ]
  },
  {
   "cell_type": "code",
   "execution_count": 7,
   "metadata": {},
   "outputs": [
    {
     "name": "stdout",
     "output_type": "stream",
     "text": [
      "True\n",
      "False\n"
     ]
    }
   ],
   "source": [
    "if True:\n",
    "    print(\"True\")\n",
    "    \n",
    "print(\"False\")\n",
    "    "
   ]
  },
  {
   "cell_type": "markdown",
   "metadata": {},
   "source": [
    "#### Comments\n",
    "\n",
    "Comments are used to explain code and are ignored by the Python interpreter."
   ]
  },
  {
   "cell_type": "code",
   "execution_count": null,
   "metadata": {},
   "outputs": [],
   "source": [
    "# This is a comment in Python\n",
    "\n",
    "\"\"\"\n",
    "asd\n",
    "\n",
    "\n",
    "asd\n",
    "\"\"\"\n",
    "\n",
    "print(\"Hello, World!\")  # This is an inline comment"
   ]
  },
  {
   "cell_type": "markdown",
   "metadata": {},
   "source": [
    "#### Continuation of lines\n",
    "\n",
    "Long lines can be broken into multiple lines for better readability:"
   ]
  },
  {
   "cell_type": "code",
   "execution_count": 12,
   "metadata": {},
   "outputs": [
    {
     "name": "stdout",
     "output_type": "stream",
     "text": [
      "This is a very long string that we \n",
      "want to split across multiple lines for better readability.\n",
      "This is a very long string that we \n",
      "want to split across multiple lines for better readability.\n"
     ]
    }
   ],
   "source": [
    "long_string = \"This is a very long string that we \\nwant to split across multiple lines \" \\\n",
    "              \"for better readability.\"\n",
    "\n",
    "print(long_string)\n",
    "print(long_string)"
   ]
  },
  {
   "cell_type": "markdown",
   "metadata": {},
   "source": [
    "### 2. Variables and Data Types\n",
    "\n",
    "#### Creating and naming variables\n",
    "\n",
    "- Variables are created when you assign a value to them\n",
    "- Use descriptive names, lowercase letters, and underscores for readability\n",
    "- Cannot start with a number or contain spaces"
   ]
  },
  {
   "cell_type": "code",
   "execution_count": 11,
   "metadata": {},
   "outputs": [
    {
     "name": "stdout",
     "output_type": "stream",
     "text": [
      "Alice\n"
     ]
    }
   ],
   "source": [
    "user_name = \"Alice\" # string\n",
    "age = 30 # int\n",
    "height_in_meters = 1.75 # float\n",
    "\n",
    "print(user_name)"
   ]
  },
  {
   "cell_type": "markdown",
   "metadata": {},
   "source": [
    "#### Python's dynamic typing\n",
    "\n",
    "Python is dynamically typed, meaning you don't need to declare the type of a variable explicitly."
   ]
  },
  {
   "cell_type": "code",
   "execution_count": null,
   "metadata": {},
   "outputs": [],
   "source": [
    "x = 5       # x is now an integer\n",
    "x = \"five\"  # x is now a string"
   ]
  },
  {
   "cell_type": "markdown",
   "metadata": {},
   "source": [
    "#### Basic data types\n",
    "\n",
    "1. **int** (integer): Whole numbers\n",
    "2. **float**: Decimal numbers\n",
    "3. **str** (string): Text\n",
    "4. **bool** (boolean): True or False"
   ]
  },
  {
   "cell_type": "code",
   "execution_count": 14,
   "metadata": {},
   "outputs": [
    {
     "name": "stdout",
     "output_type": "stream",
     "text": [
      "<class 'int'>\n",
      "<class 'float'>\n",
      "<class 'str'>\n",
      "<class 'bool'>\n",
      "<class 'int'>\n"
     ]
    }
   ],
   "source": [
    "age = 25        # int\n",
    "height = 1.75   # float\n",
    "name = \"Alice\"  # str\n",
    "is_student = True  # bool\n",
    "\n",
    "print(type(age))\n",
    "print(type(height))\n",
    "print(type(name))\n",
    "print(type(is_student))\n",
    "\n",
    "print(type(age))"
   ]
  },
  {
   "cell_type": "markdown",
   "metadata": {},
   "source": [
    "**Exercise:** Create variables for your name, age, height, and whether you're a student. Print out their types."
   ]
  },
  {
   "cell_type": "code",
   "execution_count": null,
   "metadata": {},
   "outputs": [],
   "source": [
    "# Your code here"
   ]
  },
  {
   "cell_type": "markdown",
   "metadata": {},
   "source": [
    "### 3. Basic Operators\n",
    "\n",
    "#### Arithmetic operators"
   ]
  },
  {
   "cell_type": "code",
   "execution_count": 15,
   "metadata": {},
   "outputs": [
    {
     "name": "stdout",
     "output_type": "stream",
     "text": [
      "13\n",
      "13\n",
      "7\n",
      "30\n",
      "3.3333333333333335\n",
      "3\n",
      "1\n",
      "1000\n"
     ]
    }
   ],
   "source": [
    "a = 10\n",
    "b = 3\n",
    "\n",
    "print(a + b)   # Addition\n",
    "print(a - b)   # Subtraction\n",
    "print(a * b)   # Multiplication\n",
    "print(a / b)   # Division\n",
    "print(a // b)  # Floor division\n",
    "print(a % b)   # Modulus (remainder)\n",
    "print(a ** b)  # Exponentiation"
   ]
  },
  {
   "cell_type": "markdown",
   "metadata": {},
   "source": [
    "#### Comparison operators"
   ]
  },
  {
   "cell_type": "code",
   "execution_count": 20,
   "metadata": {},
   "outputs": [
    {
     "name": "stdout",
     "output_type": "stream",
     "text": [
      "False\n",
      "True\n",
      "False\n",
      "True\n",
      "False\n",
      "True\n"
     ]
    }
   ],
   "source": [
    "x = 5\n",
    "y = 10\n",
    "\n",
    "print(x == y)  # Equal to\n",
    "print(x != y)  # Not equal to\n",
    "print(x > y)   # Greater than\n",
    "print(x < y)   # Less than\n",
    "print(x >= y)  # Greater than or equal to\n",
    "print(x <= y)  # Less than or equal to"
   ]
  },
  {
   "cell_type": "markdown",
   "metadata": {},
   "source": [
    "#### Logical operators"
   ]
  },
  {
   "cell_type": "code",
   "execution_count": 21,
   "metadata": {},
   "outputs": [
    {
     "name": "stdout",
     "output_type": "stream",
     "text": [
      "False\n",
      "True\n",
      "False\n"
     ]
    }
   ],
   "source": [
    "p = True\n",
    "q = False\n",
    "\n",
    "print(p and q)  # Logical AND\n",
    "print(p or q)   # Logical OR\n",
    "print(not p)    # Logical NOT"
   ]
  },
  {
   "cell_type": "markdown",
   "metadata": {},
   "source": [
    "**Exercise:** Write a program that calculates the area of a rectangle. Use variables for length and width, and print the result."
   ]
  },
  {
   "cell_type": "code",
   "execution_count": null,
   "metadata": {},
   "outputs": [],
   "source": [
    "# Your code here"
   ]
  },
  {
   "cell_type": "markdown",
   "metadata": {},
   "source": [
    "## Class 3: Python Basics - Part 2\n",
    "\n",
    "### 1. String Operations (20 minutes)\n",
    "\n",
    "#### String concatenation"
   ]
  },
  {
   "cell_type": "code",
   "execution_count": 27,
   "metadata": {},
   "outputs": [
    {
     "name": "stdout",
     "output_type": "stream",
     "text": [
      "John Doe\n"
     ]
    }
   ],
   "source": [
    "first_name = \"John\"\n",
    "last_name = \"Doe\"\n",
    "\n",
    "\n",
    "\n",
    "full_name = first_name + \" \" + last_name\n",
    "print(full_name)"
   ]
  },
  {
   "cell_type": "markdown",
   "metadata": {},
   "source": [
    "#### String methods"
   ]
  },
  {
   "cell_type": "code",
   "execution_count": null,
   "metadata": {},
   "outputs": [],
   "source": [
    "message = \"Hello, World!\"\n",
    "\n",
    "print(message.upper())      # Convert to uppercase\n",
    "print(message.lower())      # Convert to lowercase\n",
    "print(message.capitalize()) # Capitalize first letter\n",
    "print(message.count('l'))   # Count occurrences of 'l'\n",
    "print(message.replace('Hello', 'Hi')) # Replace substring"
   ]
  },
  {
   "cell_type": "code",
   "execution_count": 38,
   "metadata": {},
   "outputs": [
    {
     "name": "stdout",
     "output_type": "stream",
     "text": [
      "hi my name is monataser hello\n"
     ]
    }
   ],
   "source": [
    "message = \"hello my name is monataser hello\"\n",
    "\n",
    "print(message.replace(\"hello\", \"hi\", 1))"
   ]
  },
  {
   "cell_type": "markdown",
   "metadata": {},
   "source": [
    "#### String formatting (f-strings)"
   ]
  },
  {
   "cell_type": "code",
   "execution_count": null,
   "metadata": {},
   "outputs": [],
   "source": [
    "name = \"Alice\"\n",
    "age = 30\n",
    "\n",
    "# Using f-strings (Python 3.6+)\n",
    "print(f\"My name is {name} and I am {age} years old.\")\n",
    "\n",
    "# Using .format() method\n",
    "print(\"My name is {} and I am {} years old.\".format(name, age))"
   ]
  },
  {
   "cell_type": "code",
   "execution_count": 43,
   "metadata": {},
   "outputs": [
    {
     "name": "stdout",
     "output_type": "stream",
     "text": [
      "My name is Alice, I am 30 years old\n"
     ]
    }
   ],
   "source": [
    "name = \"Alice\"\n",
    "age = 30\n",
    "\n",
    "x = \"My name is {}, I am {} years old\".format(name, age)\n",
    "print(x)"
   ]
  },
  {
   "cell_type": "markdown",
   "metadata": {},
   "source": [
    "**Exercise:** Create a string with your favorite quote. Use string methods to manipulate it and print the results."
   ]
  },
  {
   "cell_type": "code",
   "execution_count": null,
   "metadata": {},
   "outputs": [],
   "source": [
    "# Your code here"
   ]
  },
  {
   "cell_type": "markdown",
   "metadata": {},
   "source": [
    "### 2. Input and Output (20 minutes)\n",
    "\n",
    "#### Using the input() function"
   ]
  },
  {
   "cell_type": "code",
   "execution_count": 3,
   "metadata": {},
   "outputs": [
    {
     "name": "stdout",
     "output_type": "stream",
     "text": [
      "you are 21 years old\n"
     ]
    }
   ],
   "source": [
    "age = input(\"Enter your age: \")\n",
    "print(f\"you are {age} years old\")"
   ]
  },
  {
   "cell_type": "code",
   "execution_count": 4,
   "metadata": {},
   "outputs": [
    {
     "name": "stdout",
     "output_type": "stream",
     "text": [
      "Montaser\n"
     ]
    }
   ],
   "source": [
    "name = input(\"Enter you name: \")\n",
    "\n",
    "print(name.capitalize())"
   ]
  },
  {
   "cell_type": "markdown",
   "metadata": {},
   "source": [
    "#### Handling different types of input"
   ]
  },
  {
   "cell_type": "code",
   "execution_count": 4,
   "metadata": {},
   "outputs": [
    {
     "name": "stdout",
     "output_type": "stream",
     "text": [
      "<class 'str'>\n",
      "<class 'int'>\n"
     ]
    }
   ],
   "source": [
    "name = input()\n",
    "print(type(name))\n",
    "x = float(name)\n",
    "y = int(x)\n",
    "print(type(y))"
   ]
  },
  {
   "cell_type": "code",
   "execution_count": 6,
   "metadata": {},
   "outputs": [
    {
     "name": "stdout",
     "output_type": "stream",
     "text": [
      "You are 1 years old and 1.0 meters tall.\n"
     ]
    }
   ],
   "source": [
    "age = int(input(\"How old are you? \"))\n",
    "height = float(input(\"What's your height in meters? \"))\n",
    "\n",
    "print(f\"You are {age} years old and {height} meters tall.\")"
   ]
  },
  {
   "cell_type": "markdown",
   "metadata": {},
   "source": [
    "#### Formatting output with print()"
   ]
  },
  {
   "cell_type": "code",
   "execution_count": 8,
   "metadata": {},
   "outputs": [
    {
     "name": "stdout",
     "output_type": "stream",
     "text": [
      "3.1\n"
     ]
    }
   ],
   "source": [
    "pi = 3.14159265359\n",
    "\n",
    "print(f\"Pi to 2 decimal places: {pi:.2f}\")\n",
    "print(f\"Pi to 4 decimal places: {pi:.4f}\")"
   ]
  },
  {
   "cell_type": "markdown",
   "metadata": {},
   "source": [
    "**Exercise:** Write a program that asks the user for their name, age, and favorite color, then prints a formatted message using this information."
   ]
  },
  {
   "cell_type": "code",
   "execution_count": null,
   "metadata": {},
   "outputs": [],
   "source": [
    "# Your code here"
   ]
  },
  {
   "cell_type": "markdown",
   "metadata": {},
   "source": [
    "### 3. Type Conversion (20 minutes)\n",
    "\n",
    "#### Implicit vs. explicit type conversion\n",
    "\n",
    "Implicit conversion: Python automatically converts one data type to another if needed.\n",
    "Explicit conversion: You manually convert from one type to another using functions."
   ]
  },
  {
   "cell_type": "code",
   "execution_count": null,
   "metadata": {},
   "outputs": [],
   "source": [
    "# Implicit conversion\n",
    "x = 10\n",
    "y = 3.14\n",
    "z = x + y  # z will be a float\n",
    "print(z)\n",
    "\n",
    "# Explicit conversion\n",
    "age_str = \"25\"\n",
    "age_int = int(age_str)\n",
    "print(age_int + 5)"
   ]
  },
  {
   "cell_type": "markdown",
   "metadata": {},
   "source": [
    "#### Using int(), float(), str() functions"
   ]
  },
  {
   "cell_type": "code",
   "execution_count": 10,
   "metadata": {},
   "outputs": [
    {
     "name": "stdout",
     "output_type": "stream",
     "text": [
      "3 100 5.0 3.14 42 3.14\n",
      "<class 'str'>\n"
     ]
    }
   ],
   "source": [
    "# Converting to integer\n",
    "x = int(3.14)    # x will be 3\n",
    "y = int(\"100\")   # y will be 100\n",
    "\n",
    "# Converting to float\n",
    "a = float(5)     # a will be 5.0\n",
    "b = float(\"3.14\") # b will be 3.14\n",
    "\n",
    "# Converting to string\n",
    "c = str(42)      # c will be \"42\"\n",
    "d = str(3.14)    # d will be \"3.14\"\n",
    "\n",
    "print(x, y, a, b, c, d)\n",
    "print(type(c))"
   ]
  },
  {
   "cell_type": "markdown",
   "metadata": {},
   "source": [
    "**Exercise:** Write a program that converts temperatures between Celsius and Fahrenheit. Ask the user for the temperature and the unit they're converting from, then print the result."
   ]
  },
  {
   "cell_type": "code",
   "execution_count": null,
   "metadata": {},
   "outputs": [],
   "source": [
    "# Your code here"
   ]
  },
  {
   "cell_type": "markdown",
   "metadata": {},
   "source": [
    "This concludes our introduction to Python basics. In the next classes, we'll dive deeper into control structures, functions, and more advanced concepts. Remember to practice regularly and experiment with the code to reinforce your learning!"
   ]
  }
 ],
 "metadata": {
  "kernelspec": {
   "display_name": "Python 3",
   "language": "python",
   "name": "python3"
  },
  "language_info": {
   "codemirror_mode": {
    "name": "ipython",
    "version": 3
   },
   "file_extension": ".py",
   "mimetype": "text/x-python",
   "name": "python",
   "nbconvert_exporter": "python",
   "pygments_lexer": "ipython3",
   "version": "3.12.6"
  }
 },
 "nbformat": 4,
 "nbformat_minor": 4
}
