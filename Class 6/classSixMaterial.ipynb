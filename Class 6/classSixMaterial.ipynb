{
 "cells": [
  {
   "cell_type": "markdown",
   "metadata": {},
   "source": [
    "# Python 101: Libraries and Modules"
   ]
  },
  {
   "cell_type": "markdown",
   "metadata": {},
   "source": [
    "## Table of Contents\n",
    "1. [Introduction to Python Libraries](#1-introduction-to-python-libraries)\n",
    "2. [How to Use Libraries](#2-how-to-use-libraries)\n",
    "3. [When to Use Libraries](#3-when-to-use-libraries)\n",
    "4. [Built-in Libraries and Their Functions](#4-built-in-libraries-and-their-functions)\n",
    "5. [Installing External Libraries](#5-installing-external-libraries)\n",
    "6. [Popular External Libraries](#6-popular-external-libraries)\n",
    "7. [Creating Your Own Library/Module](#7-creating-your-own-librarymodule)\n",
    "8. [Organizing Code into Modules](#8-organizing-code-into-modules)\n",
    "9. [Table of Built-in Libraries](#9-table-of-built-in-libraries)"
   ]
  },
  {
   "cell_type": "markdown",
   "metadata": {},
   "source": [
    "## 1. Introduction to Python Libraries\n",
    "\n",
    "Python libraries are collections of pre-written code that you can use to perform common tasks without having to write the code from scratch. They are essential tools that help developers save time and effort by providing reusable code for various functionalities."
   ]
  },
  {
   "cell_type": "markdown",
   "metadata": {},
   "source": [
    "### What are Libraries?\n",
    "\n",
    "A library in Python is a collection of modules. Each module contains a set of functions, classes, and variables that you can use in your programs. Libraries can be thought of as toolboxes containing various tools (functions and classes) that you can use to build your software.\n",
    "\n",
    "Let's explore this concept with some examples:"
   ]
  },
  {
   "cell_type": "code",
   "execution_count": 2,
   "metadata": {},
   "outputs": [
    {
     "name": "stdout",
     "output_type": "stream",
     "text": [
      "3.141592653589793\n"
     ]
    }
   ],
   "source": [
    "import math\n",
    "\n",
    "print(math.pi)"
   ]
  },
  {
   "cell_type": "code",
   "execution_count": 1,
   "metadata": {},
   "outputs": [
    {
     "name": "stdout",
     "output_type": "stream",
     "text": [
      "The square root of 16 is: 4.0\n",
      "The sine of 0.7853981633974483 radians is: 0.7071\n"
     ]
    }
   ],
   "source": [
    "# Example 1: Using the math library\n",
    "import math\n",
    "\n",
    "# Calculate the square root of a number\n",
    "number = 16\n",
    "sqrt_result = math.sqrt(number)\n",
    "print(f\"The square root of {number} is: {sqrt_result}\")\n",
    "\n",
    "# Calculate the sine of an angle (in radians)\n",
    "angle_rad = math.pi / 4  # 45 degrees in radians\n",
    "sin_result = math.sin(angle_rad)\n",
    "print(f\"The sine of {angle_rad} radians is: {sin_result:.4f}\")"
   ]
  },
  {
   "cell_type": "code",
   "execution_count": 13,
   "metadata": {},
   "outputs": [
    {
     "name": "stdout",
     "output_type": "stream",
     "text": [
      "Random integer between 1 and 10: 10\n",
      "Randomly chosen fruit: apple\n"
     ]
    }
   ],
   "source": [
    "# Example 2: Using the random library\n",
    "import random\n",
    "\n",
    "# Generate a random integer between 1 and 10\n",
    "random_int = random.randint(1, 10)\n",
    "print(f\"Random integer between 1 and 10: {random_int}\")\n",
    "\n",
    "# Choose a random element from a list\n",
    "fruits = [\"apple\", \"banana\", \"cherry\", \"date\"]\n",
    "random_fruit = random.choice(fruits)\n",
    "print(f\"Randomly chosen fruit: {random_fruit}\")"
   ]
  },
  {
   "cell_type": "code",
   "execution_count": 14,
   "metadata": {},
   "outputs": [
    {
     "name": "stdout",
     "output_type": "stream",
     "text": [
      "<built-in function radians>\n"
     ]
    }
   ],
   "source": [
    "from math import pi, sqrt\n",
    "\n",
    "print()"
   ]
  },
  {
   "cell_type": "code",
   "execution_count": 16,
   "metadata": {},
   "outputs": [
    {
     "name": "stdout",
     "output_type": "stream",
     "text": [
      "Current date and time: 2024-09-25 19:18:33.484152\n",
      "Date after 7 days: 2024-10-02 19:18:33.484152\n"
     ]
    }
   ],
   "source": [
    "# Example 3: Using the datetime library\n",
    "from datetime import datetime, timedelta\n",
    "\n",
    "# Get the current date and time\n",
    "current_time = datetime.now()\n",
    "print(f\"Current date and time: {current_time}\")\n",
    "\n",
    "# Calculate a date in the future\n",
    "future_date = current_time + timedelta(days=7)\n",
    "print(f\"Date after 7 days: {future_date}\")"
   ]
  },
  {
   "cell_type": "markdown",
   "metadata": {},
   "source": [
    "In these examples, we've used three different libraries: `math`, `random`, and `datetime`. Each library provides specialized functions that make certain tasks much easier to perform."
   ]
  },
  {
   "cell_type": "markdown",
   "metadata": {},
   "source": [
    "**Task 1:** \n",
    "Use the `math` library to calculate the logarithm (base 10) of 100, and the exponential of 2 (e^2). Then, use the `random` library to shuffle a list of numbers from 1 to 5."
   ]
  },
  {
   "cell_type": "code",
   "execution_count": null,
   "metadata": {},
   "outputs": [],
   "source": [
    "# Your code here\n",
    "import math\n",
    "import random\n",
    "\n",
    "# Calculate logarithm and exponential\n",
    "log_result = # Your code here\n",
    "exp_result = # Your code here\n",
    "\n",
    "print(f\"Log base 10 of 100: {log_result}\")\n",
    "print(f\"e^2: {exp_result}\")\n",
    "\n",
    "# Shuffle a list\n",
    "numbers = [1, 2, 3, 4, 5]\n",
    "# Your code here to shuffle the list\n",
    "print(f\"Shuffled list: {numbers}\")"
   ]
  },
  {
   "cell_type": "markdown",
   "metadata": {},
   "source": [
    "## 2. How to Use Libraries\n",
    "\n",
    "To use a library in Python, you need to import it into your script. There are several ways to import libraries, and each has its use cases."
   ]
  },
  {
   "cell_type": "markdown",
   "metadata": {},
   "source": [
    "### Import Methods\n",
    "\n",
    "1. Import the entire library:\n",
    "   ```python\n",
    "   import math\n",
    "   ```\n",
    "   Use this when you need multiple functions from the library or when you want to avoid naming conflicts.\n",
    "\n",
    "2. Import specific functions or classes from a library:\n",
    "   ```python\n",
    "   from math import sqrt, pi\n",
    "   ```\n",
    "   Use this when you only need a few specific functions and want to use them without the library prefix.\n",
    "\n",
    "3. Import the entire library with an alias:\n",
    "   ```python\n",
    "   import math as m\n",
    "   ```\n",
    "   Use this to create a shorter name for the library, which can be helpful for libraries with long names.\n",
    "\n",
    "Let's see these methods in action:"
   ]
  },
  {
   "cell_type": "code",
   "execution_count": null,
   "metadata": {},
   "outputs": [],
   "source": [
    "import math as m\n",
    "\n",
    "print(m.pi)"
   ]
  },
  {
   "cell_type": "code",
   "execution_count": 17,
   "metadata": {},
   "outputs": [
    {
     "name": "stdout",
     "output_type": "stream",
     "text": [
      "Square root of 25: 5.0\n",
      "Value of pi: 3.141592653589793\n"
     ]
    }
   ],
   "source": [
    "# Method 1: Importing the entire library\n",
    "import math\n",
    "\n",
    "print(f\"Square root of 25: {math.sqrt(25)}\")\n",
    "print(f\"Value of pi: {math.pi}\")"
   ]
  },
  {
   "cell_type": "code",
   "execution_count": 18,
   "metadata": {},
   "outputs": [
    {
     "name": "stdout",
     "output_type": "stream",
     "text": [
      "Random number between 1 and 10: 6\n",
      "Random fruit: apple\n"
     ]
    }
   ],
   "source": [
    "# Method 2: Importing specific functions\n",
    "from random import randint, choice\n",
    "\n",
    "print(f\"Random number between 1 and 10: {randint(1, 10)}\")\n",
    "fruits = [\"apple\", \"banana\", \"cherry\"]\n",
    "print(f\"Random fruit: {choice(fruits)}\")"
   ]
  },
  {
   "cell_type": "code",
   "execution_count": 20,
   "metadata": {},
   "outputs": [
    {
     "name": "stdout",
     "output_type": "stream",
     "text": [
      "Current time: 2024-09-25 19:22:14.430283\n",
      "Sine of pi/4: 0.7071067811865476\n"
     ]
    }
   ],
   "source": [
    "# Method 3: Importing with an alias\n",
    "import datetime as dt\n",
    "\n",
    "current_time = dt.datetime.now()\n",
    "print(f\"Current time: {current_time}\")\n",
    "\n",
    "# Combining methods\n",
    "from math import sin\n",
    "import math as m\n",
    "\n",
    "angle = m.pi / 4\n",
    "print(f\"Sine of pi/4: {sin(angle)}\")"
   ]
  },
  {
   "cell_type": "markdown",
   "metadata": {},
   "source": [
    "### Exploring Library Contents\n",
    "\n",
    "To explore what functions and classes are available in a library, you can use the `dir()` function or refer to the library's documentation."
   ]
  },
  {
   "cell_type": "code",
   "execution_count": 21,
   "metadata": {},
   "outputs": [
    {
     "name": "stdout",
     "output_type": "stream",
     "text": [
      "Some contents of the math library:\n",
      "__doc__\n",
      "__loader__\n",
      "__name__\n",
      "__package__\n",
      "__spec__\n",
      "acos\n",
      "acosh\n",
      "asin\n",
      "asinh\n",
      "atan\n",
      "Help on built-in function sqrt in module math:\n",
      "\n",
      "sqrt(x, /)\n",
      "    Return the square root of x.\n",
      "\n"
     ]
    }
   ],
   "source": [
    "# Using dir() to explore library contents\n",
    "import math\n",
    "\n",
    "# Get all attributes and methods of the math library\n",
    "math_contents = dir(math)\n",
    "print(\"Some contents of the math library:\")\n",
    "for item in math_contents[:10]:  # Print first 10 items\n",
    "    print(item)\n",
    "\n",
    "# You can also use help() for more detailed information\n",
    "help(math.sqrt)"
   ]
  },
  {
   "cell_type": "markdown",
   "metadata": {},
   "source": [
    "**Task 2:** \n",
    "Import the `statistics` library (a built-in library for statistical calculations) and use it to calculate the mean, median, and mode of the following list of numbers: [4, 2, 7, 1, 8, 3, 5, 1, 9, 2]. Then, explore the contents of the `statistics` library using `dir()`."
   ]
  },
  {
   "cell_type": "code",
   "execution_count": null,
   "metadata": {},
   "outputs": [],
   "source": [
    "# Your code here\n",
    "from statistics import mean, median, mode\n",
    "\n",
    "numbers = [4, 2, 7, 1, 8, 3, 5, 1, 9, 2]\n",
    "\n",
    "# Calculate mean, median, and mode\n",
    "mean_value = # Your code here\n",
    "median_value = # Your code here\n",
    "mode_value = # Your code here\n",
    "\n",
    "print(f\"Mean: {mean_value}\")\n",
    "print(f\"Median: {median_value}\")\n",
    "print(f\"Mode: {mode_value}\")\n",
    "\n",
    "# Explore contents of the statistics library\n",
    "import statistics\n",
    "# Your code here to print some contents of the statistics library"
   ]
  },
  {
   "cell_type": "markdown",
   "metadata": {},
   "source": [
    "## 3. When to Use Libraries\n",
    "\n",
    "Libraries are beneficial in many scenarios. Understanding when to use them is crucial for efficient programming. Here are some common situations:\n",
    "\n",
    "1. **Complex Operations**: When you need to perform complex calculations or algorithms.\n",
    "2. **Avoiding Reinvention**: When a well-tested solution already exists.\n",
    "3. **System Interactions**: When interacting with system resources or external services.\n",
    "4. **Specialized Domains**: When working in specific fields like data science, web development, etc.\n",
    "\n",
    "Let's explore these scenarios with examples:"
   ]
  },
  {
   "cell_type": "code",
   "execution_count": 22,
   "metadata": {},
   "outputs": [
    {
     "name": "stdout",
     "output_type": "stream",
     "text": [
      "Result of matrix multiplication:\n",
      "[[19 22]\n",
      " [43 50]]\n"
     ]
    }
   ],
   "source": [
    "# Scenario 1: Complex Operations (using numpy for matrix operations)\n",
    "import numpy as np\n",
    "\n",
    "matrix1 = np.array([[1, 2], [3, 4]])\n",
    "matrix2 = np.array([[5, 6], [7, 8]])\n",
    "\n",
    "result = np.dot(matrix1, matrix2)\n",
    "print(\"Result of matrix multiplication:\")\n",
    "print(result)"
   ]
  },
  {
   "cell_type": "code",
   "execution_count": 23,
   "metadata": {},
   "outputs": [
    {
     "name": "stdout",
     "output_type": "stream",
     "text": [
      "100 days from 2023-01-01 is 2023-04-11\n"
     ]
    }
   ],
   "source": [
    "# Scenario 2: Avoiding Reinvention (using datetime for date calculations)\n",
    "from datetime import datetime, timedelta\n",
    "\n",
    "start_date = datetime(2023, 1, 1)\n",
    "end_date = start_date + timedelta(days=100)\n",
    "\n",
    "print(f\"100 days from {start_date.date()} is {end_date.date()}\")"
   ]
  },
  {
   "cell_type": "code",
   "execution_count": 26,
   "metadata": {},
   "outputs": [
    {
     "name": "stdout",
     "output_type": "stream",
     "text": [
      "Current working directory: d:\\dev\\projects\\coursak\\Python 101\\Class 6\n",
      "Files in the current directory:\n",
      "classSixMaterial.ipynb\n",
      "example.py\n"
     ]
    }
   ],
   "source": [
    "# Scenario 3: System Interactions (using os for file operations)\n",
    "import os\n",
    "\n",
    "current_dir = os.getcwd()\n",
    "print(f\"Current working directory: {current_dir}\")\n",
    "\n",
    "file_list = os.listdir(current_dir)\n",
    "print(\"Files in the current directory:\")\n",
    "for file in file_list[:5]:  # Print first 5 files\n",
    "    print(file)"
   ]
  },
  {
   "cell_type": "code",
   "execution_count": 27,
   "metadata": {},
   "outputs": [
    {
     "data": {
      "image/png": "[encoded data removed]",
      "text/plain": [
       "<Figure size 640x480 with 1 Axes>"
      ]
     },
     "metadata": {},
     "output_type": "display_data"
    }
   ],
   "source": [
    "# Scenario 4: Specialized Domains (using matplotlib for data visualization)\n",
    "import matplotlib.pyplot as plt\n",
    "\n",
    "x = [1, 2, 3, 4, 5]\n",
    "y = [2, 4, 6, 8, 10]\n",
    "\n",
    "plt.plot(x, y)\n",
    "plt.title(\"Simple Line Graph\")\n",
    "plt.xlabel(\"X-axis\")\n",
    "plt.ylabel(\"Y-axis\")\n",
    "plt.show()"
   ]
  },
  {
   "cell_type": "markdown",
   "metadata": {},
   "source": [
    "In each of these scenarios, using libraries significantly simplifies our code and allows us to leverage well-tested, efficient implementations."
   ]
  },
  {
   "cell_type": "markdown",
   "metadata": {},
   "source": [
    "**Task 3:** \n",
    "Use the `re` (regular expressions) library to find all email addresses in a given string. Then, use the `json` library to parse a JSON string into a Python dictionary."
   ]
  },
  {
   "cell_type": "code",
   "execution_count": null,
   "metadata": {},
   "outputs": [],
   "source": [
    "# Your code here\n",
    "import re\n",
    "import json\n",
    "\n",
    "# Find email addresses\n",
    "text = \"Contact us at info@example.com or support@example.com for assistance.\"\n",
    "# Your code here to find email addresses\n",
    "\n",
    "# Parse JSON\n",
    "json_string = '{\"name\": \"John Doe\", \"age\": 30, \"city\": \"New York\"}'\n",
    "# Your code here to parse JSON\n",
    "\n",
    "# Print results\n",
    "print(\"Email addresses found:\")\n",
    "# Your code to print email addresses\n",
    "\n",
    "print(\"\\nParsed JSON:\")\n",
    "# Your code to print parsed JSON"
   ]
  },
  {
   "cell_type": "markdown",
   "metadata": {},
   "source": [
    "## 4. Built-in Libraries and Their Functions\n",
    "\n",
    "Python comes with a rich set of built-in libraries, also known as the Python Standard Library. These libraries are available in every Python installation and cover a wide range of functionalities. Let's explore some commonly used built-in libraries:"
   ]
  },
  {
   "cell_type": "markdown",
   "metadata": {},
   "source": [
    "### math\n",
    "\n",
    "The `math` library provides mathematical functions."
   ]
  },
  {
   "cell_type": "code",
   "execution_count": 28,
   "metadata": {},
   "outputs": [
    {
     "name": "stdout",
     "output_type": "stream",
     "text": [
      "Square root of 16: 4.0\n",
      "5 to the power of 3: 125.0\n",
      "Absolute value of -7.25: 7.25\n",
      "Sine of 45°: 0.7071067811865476\n",
      "Cosine of 45°: 0.7071067811865476\n",
      "Value of pi: 3.141592653589793\n",
      "Value of e: 2.718281828459045\n"
     ]
    }
   ],
   "source": [
    "import math\n",
    "\n",
    "# Basic mathematical functions\n",
    "print(f\"Square root of 16: {math.sqrt(16)}\")\n",
    "print(f\"5 to the power of 3: {math.pow(5, 3)}\")\n",
    "print(f\"Absolute value of -7.25: {math.fabs(-7.25)}\")\n",
    "\n",
    "# Trigonometric functions\n",
    "angle = math.pi / 4  # 45 degrees in radians\n",
    "print(f\"Sine of 45°: {math.sin(angle)}\")\n",
    "print(f\"Cosine of 45°: {math.cos(angle)}\")\n",
    "\n",
    "# Constants\n",
    "print(f\"Value of pi: {math.pi}\")\n",
    "print(f\"Value of e: {math.e}\")"
   ]
  },
  {
   "cell_type": "markdown",
   "metadata": {},
   "source": [
    "### random\n",
    "\n",
    "The `random` library is used for generating random numbers."
   ]
  },
  {
   "cell_type": "code",
   "execution_count": 29,
   "metadata": {},
   "outputs": [
    {
     "name": "stdout",
     "output_type": "stream",
     "text": [
      "Random float between 0 and 1: 0.3655471885629026\n",
      "Random integer between 1 and 10: 10\n",
      "Random fruit: date\n",
      "Shuffled fruit list: ['apple', 'cherry', 'date', 'banana']\n",
      "3 random fruits: ['banana', 'cherry', 'date']\n"
     ]
    }
   ],
   "source": [
    "import random\n",
    "\n",
    "# Generate random numbers\n",
    "print(f\"Random float between 0 and 1: {random.random()}\")\n",
    "print(f\"Random integer between 1 and 10: {random.randint(1, 10)}\")\n",
    "\n",
    "# Work with sequences\n",
    "fruits = ['apple', 'banana', 'cherry', 'date']\n",
    "print(f\"Random fruit: {random.choice(fruits)}\")\n",
    "\n",
    "random.shuffle(fruits)\n",
    "print(f\"Shuffled fruit list: {fruits}\")\n",
    "\n",
    "print(f\"3 random fruits: {random.sample(fruits, 3)}\")"
   ]
  },
  {
   "cell_type": "markdown",
   "metadata": {},
   "source": [
    "### datetime\n",
    "\n",
    "The `datetime` library is used for working with dates and times."
   ]
  },
  {
   "cell_type": "code",
   "execution_count": 30,
   "metadata": {},
   "outputs": [
    {
     "name": "stdout",
     "output_type": "stream",
     "text": [
      "Current date and time: 2024-09-25 19:36:18.675494\n",
      "Date after a week: 2024-10-02 19:36:18.675494\n",
      "Formatted date: 2024-09-25 19:36:18\n",
      "Parsed date: 2023-06-15 00:00:00\n"
     ]
    }
   ],
   "source": [
    "from datetime import datetime, timedelta\n",
    "\n",
    "# Current date and time\n",
    "now = datetime.now()\n",
    "print(f\"Current date and time: {now}\")\n",
    "\n",
    "# Date arithmetic\n",
    "future_date = now + timedelta(days=7)\n",
    "print(f\"Date after a week: {future_date}\")\n",
    "\n",
    "# Formatting dates\n",
    "formatted_date = now.strftime(\"%Y-%m-%d %H:%M:%S\")\n",
    "print(f\"Formatted date: {formatted_date}\")\n",
    "\n",
    "# Parsing dates\n",
    "date_string = \"2023-06-15\"\n",
    "parsed_date = datetime.strptime(date_string, \"%Y-%m-%d\")\n",
    "print(f\"Parsed date: {parsed_date}\")"
   ]
  },
  {
   "cell_type": "markdown",
   "metadata": {},
   "source": [
    "### os\n",
    "\n",
    "The `os` library provides a way of using operating system dependent functionality."
   ]
  },
  {
   "cell_type": "code",
   "execution_count": 31,
   "metadata": {},
   "outputs": [
    {
     "name": "stdout",
     "output_type": "stream",
     "text": [
      "Current working directory: d:\\dev\\projects\\coursak\\Python 101\\Class 6\n",
      "Files and directories in the current folder:\n",
      "classSixMaterial.ipynb\n",
      "example.py\n",
      "Created a new folder named 'new_folder'\n",
      "Home directory: None\n"
     ]
    }
   ],
   "source": [
    "import os\n",
    "\n",
    "# Current working directory\n",
    "print(f\"Current working directory: {os.getcwd()}\")\n",
    "\n",
    "# List files and directories\n",
    "print(\"Files and directories in the current folder:\")\n",
    "for item in os.listdir()[:5]:  # Print first 5 items\n",
    "    print(item)\n",
    "\n",
    "# Create a new directory\n",
    "os.makedirs(\"new_folder\", exist_ok=True)\n",
    "print(\"Created a new folder named 'new_folder'\")\n",
    "\n",
    "# Get environment variables\n",
    "print(f\"Home directory: {os.getenv('HOME')}\")"
   ]
  },
  {
   "cell_type": "markdown",
   "metadata": {},
   "source": [
    "**Task 4:** \n",
    "Use the `collections` library to count the frequency of words in a given text. Then, use the `itertools` library to generate all possible combinations of 3 letters from the string \"ABCD\"."
   ]
  },
  {
   "cell_type": "code",
   "execution_count": null,
   "metadata": {},
   "outputs": [],
   "source": [
    "# Your code here\n",
    "from collections import Counter\n",
    "import itertools\n",
    "\n",
    "# Count word frequency\n",
    "text = \"the quick brown fox jumps over the lazy dog\"\n",
    "# Your code here to count word frequency\n",
    "\n",
    "# Generate combinations\n",
    "letters = \"ABCD\"\n",
    "# Your code here to generate combinations\n",
    "\n",
    "# Print results\n",
    "print(\"Word frequency:\")\n",
    "# Your code to print word frequency\n",
    "\n",
    "print(\"\\nCombinations of 3 letters from 'ABCD':\")\n",
    "# Your code to print combinations"
   ]
  },
  {
   "cell_type": "markdown",
   "metadata": {},
   "source": [
    "## 5. Installing External Libraries\n",
    "\n",
    "While Python comes with many built-in libraries, there are thousands of external libraries available for various specialized tasks. To install external libraries, you typically use a package manager called `pip`. Here's how you can use it:\n",
    "\n",
    "1. Open your command prompt or terminal.\n",
    "2. Type the following command:\n",
    "   ```\n",
    "   pip install library_name\n",
    "   ```\n",
    "   Replace `library_name` with the name of the library you want to install.\n",
    "\n",
    "For example, to install the popular `requests` library for making HTTP requests, you would type:\n",
    "```\n",
    "pip install requests\n",
    "```\n",
    "\n",
    "After installation, you can import and use the library in your Python scripts.\n",
    "\n",
    "Let's look at an example using the `requests` library:"
   ]
  },
  {
   "cell_type": "code",
   "execution_count": 32,
   "metadata": {},
   "outputs": [
    {
     "name": "stdout",
     "output_type": "stream",
     "text": [
      "Status code: 200\n",
      "Content: {\"current_user_url\":\"https://api.github.com/user\",\"current_user_authorizations_html_url\":\"https://gi...\n",
      "Response JSON: {'args': {}, 'data': '', 'files': {}, 'form': {'key': 'value'}, 'headers': {'Accept': '*/*', 'Accept-Encoding': 'gzip, deflate', 'Content-Length': '9', 'Content-Type': 'application/x-www-form-urlencoded', 'Host': 'httpbin.org', 'User-Agent': 'python-requests/2.32.3', 'X-Amzn-Trace-Id': 'Root=1-66f43e14-262449191d3ff663470c9651'}, 'json': None, 'origin': '176.29.236.223', 'url': 'https://httpbin.org/post'}\n"
     ]
    }
   ],
   "source": [
    "# First, install requests using: pip install requests\n",
    "\n",
    "import requests\n",
    "\n",
    "# Make a GET request to a website\n",
    "response = requests.get('https://api.github.com')\n",
    "\n",
    "# Print the status code\n",
    "print(f\"Status code: {response.status_code}\")\n",
    "\n",
    "# Print the content of the response\n",
    "print(f\"Content: {response.text[:100]}...\")  # Printing first 100 characters\n",
    "\n",
    "# Make a POST request\n",
    "data = {'key': 'value'}\n",
    "response = requests.post('https://httpbin.org/post', data=data)\n",
    "\n",
    "# Print the response JSON\n",
    "print(f\"Response JSON: {response.json()}\")"
   ]
  },
  {
   "cell_type": "markdown",
   "metadata": {},
   "source": [
    "Another useful external library is `pillow`, which is used for image processing:"
   ]
  },
  {
   "cell_type": "code",
   "execution_count": 36,
   "metadata": {},
   "outputs": [
    {
     "name": "stdout",
     "output_type": "stream",
     "text": [
      "Image format: JPEG\n",
      "Image size: (332, 152)\n",
      "Image mode: RGB\n",
      "Blurred image saved as 'blurred_example_image.jpg'\n"
     ]
    }
   ],
   "source": [
    "# First, install pillow using: pip install pillow\n",
    "\n",
    "from PIL import Image, ImageFilter\n",
    "\n",
    "# Open an image\n",
    "image = Image.open(\"images.jpeg\")\n",
    "\n",
    "# Display image information\n",
    "print(f\"Image format: {image.format}\")\n",
    "print(f\"Image size: {image.size}\")\n",
    "print(f\"Image mode: {image.mode}\")\n",
    "\n",
    "# Apply a filter\n",
    "blurred_image = image.filter(ImageFilter.BLUR)\n",
    "\n",
    "# Save the modified image\n",
    "blurred_image.save(\"blurred_example_image.jpg\")\n",
    "\n",
    "print(\"Blurred image saved as 'blurred_example_image.jpg'\")"
   ]
  },
  {
   "cell_type": "markdown",
   "metadata": {},
   "source": [
    "**Task 5:** \n",
    "Install the `matplotlib` library and use it to create a simple line plot of the function y = x^2 for x values from -10 to 10."
   ]
  },
  {
   "cell_type": "code",
   "execution_count": null,
   "metadata": {},
   "outputs": [],
   "source": [
    "# Your code here\n",
    "# First, install matplotlib using: pip install matplotlib\n",
    "\n",
    "import matplotlib.pyplot as plt\n",
    "import numpy as np\n",
    "\n",
    "# Generate x values\n",
    "x = np.linspace(-10, 10, 100)\n",
    "\n",
    "# Calculate y values\n",
    "y = # Your code here\n",
    "\n",
    "# Create the plot\n",
    "# Your code here to create and display the plot"
   ]
  },
  {
   "cell_type": "markdown",
   "metadata": {},
   "source": [
    "## 6. Popular External Libraries\n",
    "\n",
    "There are numerous external libraries available for Python, each serving different purposes. Here are some popular ones with examples:"
   ]
  },
  {
   "cell_type": "markdown",
   "metadata": {},
   "source": [
    "### numpy\n",
    "\n",
    "NumPy is a library for numerical computing in Python."
   ]
  },
  {
   "cell_type": "code",
   "execution_count": null,
   "metadata": {},
   "outputs": [],
   "source": [
    "import numpy as np\n",
    "\n",
    "# Create an array\n",
    "arr = np.array([1, 2, 3, 4, 5])\n",
    "print(f\"NumPy array: {arr}\")\n",
    "\n",
    "# Perform operations\n",
    "print(f\"Mean: {np.mean(arr)}\")\n",
    "print(f\"Standard deviation: {np.std(arr)}\")\n",
    "\n",
    "# Create a 2D array\n",
    "matrix = np.array([[1, 2, 3], [4, 5, 6], [7, 8, 9]])\n",
    "print(f\"Matrix:\\n{matrix}\")\n",
    "\n",
    "# Matrix operations\n",
    "print(f\"Transpose:\\n{matrix.T}\")\n",
    "\n",
    "# Element-wise operations\n",
    "print(f\"Square of each element:\\n{np.square(matrix)}\")\n",
    "\n",
    "# Array broadcasting\n",
    "broadcast_array = matrix + arr\n",
    "print(f\"Result of broadcasting:\\n{broadcast_array}\")"
   ]
  },
  {
   "cell_type": "markdown",
   "metadata": {},
   "source": [
    "NumPy is incredibly powerful for numerical computations and is the foundation for many other scientific computing libraries in Python."
   ]
  },
  {
   "cell_type": "markdown",
   "metadata": {},
   "source": [
    "### pandas\n",
    "\n",
    "Pandas is a data manipulation and analysis library. It's particularly useful for working with structured data."
   ]
  },
  {
   "cell_type": "code",
   "execution_count": 37,
   "metadata": {},
   "outputs": [
    {
     "name": "stdout",
     "output_type": "stream",
     "text": [
      "DataFrame:\n",
      "      Name  Age           City\n",
      "0    Alice   25       New York\n",
      "1      Bob   30  San Francisco\n",
      "2  Charlie   35    Los Angeles\n",
      "3    David   28        Chicago\n",
      "\n",
      "First 2 rows:\n",
      "    Name  Age           City\n",
      "0  Alice   25       New York\n",
      "1    Bob   30  San Francisco\n",
      "\n",
      "Summary statistics:\n",
      "             Age\n",
      "count   4.000000\n",
      "mean   29.500000\n",
      "std     4.203173\n",
      "min    25.000000\n",
      "25%    27.250000\n",
      "50%    29.000000\n",
      "75%    31.250000\n",
      "max    35.000000\n",
      "\n",
      "People older than 30:\n",
      "      Name  Age         City\n",
      "2  Charlie   35  Los Angeles\n",
      "\n",
      "Average age by city:\n",
      "City\n",
      "Chicago          28.0\n",
      "Los Angeles      35.0\n",
      "New York         25.0\n",
      "San Francisco    30.0\n",
      "Name: Age, dtype: float64\n",
      "\n",
      "Updated DataFrame:\n",
      "      Name  Age           City Country\n",
      "0    Alice   25       New York     USA\n",
      "1      Bob   30  San Francisco     USA\n",
      "2  Charlie   35    Los Angeles     USA\n",
      "3    David   28        Chicago     USA\n",
      "\n",
      "DataFrame saved to 'people_data.csv'\n"
     ]
    }
   ],
   "source": [
    "import pandas as pd\n",
    "\n",
    "# Create a DataFrame\n",
    "data = {\n",
    "    'Name': ['Alice', 'Bob', 'Charlie', 'David'],\n",
    "    'Age': [25, 30, 35, 28],\n",
    "    'City': ['New York', 'San Francisco', 'Los Angeles', 'Chicago']\n",
    "}\n",
    "df = pd.DataFrame(data)\n",
    "print(\"DataFrame:\")\n",
    "print(df)\n",
    "\n",
    "# Basic operations\n",
    "print(\"\\nFirst 2 rows:\")\n",
    "print(df.head(2))\n",
    "\n",
    "print(\"\\nSummary statistics:\")\n",
    "print(df.describe())\n",
    "\n",
    "# Filtering\n",
    "print(\"\\nPeople older than 30:\")\n",
    "print(df[df['Age'] > 30])\n",
    "\n",
    "# Grouping and aggregation\n",
    "print(\"\\nAverage age by city:\")\n",
    "print(df.groupby('City')['Age'].mean())\n",
    "\n",
    "# Adding a new column\n",
    "df['Country'] = 'USA'\n",
    "print(\"\\nUpdated DataFrame:\")\n",
    "print(df)\n",
    "\n",
    "# Save to CSV\n",
    "df.to_csv('people_data.csv', index=False)\n",
    "print(\"\\nDataFrame saved to 'people_data.csv'\")"
   ]
  },
  {
   "cell_type": "markdown",
   "metadata": {},
   "source": [
    "Pandas is essential for data analysis tasks, providing powerful tools for data manipulation, cleaning, and exploration."
   ]
  },
  {
   "cell_type": "markdown",
   "metadata": {},
   "source": [
    "### matplotlib\n",
    "\n",
    "Matplotlib is a plotting library for creating static, animated, and interactive visualizations in Python."
   ]
  },
  {
   "cell_type": "code",
   "execution_count": 38,
   "metadata": {},
   "outputs": [
    {
     "data": {
      "image/png": "[encoded data removed]",
      "text/plain": [
       "<Figure size 1000x600 with 1 Axes>"
      ]
     },
     "metadata": {},
     "output_type": "display_data"
    },
    {
     "data": {
      "image/png": "[encoded data removed]",
      "text/plain": [
       "<Figure size 800x600 with 2 Axes>"
      ]
     },
     "metadata": {},
     "output_type": "display_data"
    }
   ],
   "source": [
    "import matplotlib.pyplot as plt\n",
    "import numpy as np\n",
    "\n",
    "# Create data\n",
    "x = np.linspace(0, 10, 100)\n",
    "y1 = np.sin(x)\n",
    "y2 = np.cos(x)\n",
    "\n",
    "# Create a figure and axis\n",
    "fig, ax = plt.subplots(figsize=(10, 6))\n",
    "\n",
    "# Plot the data\n",
    "ax.plot(x, y1, label='sin(x)')\n",
    "ax.plot(x, y2, label='cos(x)')\n",
    "\n",
    "# Customize the plot\n",
    "ax.set_xlabel('x')\n",
    "ax.set_ylabel('y')\n",
    "ax.set_title('Sine and Cosine Functions')\n",
    "ax.legend()\n",
    "ax.grid(True)\n",
    "\n",
    "# Display the plot\n",
    "plt.show()\n",
    "\n",
    "# Create a scatter plot\n",
    "fig, ax = plt.subplots(figsize=(8, 6))\n",
    "n = 50\n",
    "x = np.random.rand(n)\n",
    "y = np.random.rand(n)\n",
    "colors = np.random.rand(n)\n",
    "sizes = 1000 * np.random.rand(n)\n",
    "\n",
    "scatter = ax.scatter(x, y, c=colors, s=sizes, alpha=0.5)\n",
    "\n",
    "ax.set_xlabel('X-axis')\n",
    "ax.set_ylabel('Y-axis')\n",
    "ax.set_title('Scatter Plot with Varying Color and Size')\n",
    "\n",
    "# Add a color bar\n",
    "plt.colorbar(scatter)\n",
    "\n",
    "plt.show()"
   ]
  },
  {
   "cell_type": "markdown",
   "metadata": {},
   "source": [
    "Matplotlib offers a wide range of plotting capabilities and is often used in conjunction with NumPy and Pandas for data visualization."
   ]
  },
  {
   "cell_type": "markdown",
   "metadata": {},
   "source": [
    "### requests\n",
    "\n",
    "Requests is a library for making HTTP requests in Python. It simplifies the process of sending HTTP/1.1 requests."
   ]
  },
  {
   "cell_type": "code",
   "execution_count": 40,
   "metadata": {},
   "outputs": [
    {
     "name": "stdout",
     "output_type": "stream",
     "text": [
      "Status Code: 200\n",
      "GitHub username: github\n",
      "Name: GitHub\n",
      "Followers: 43335\n",
      "\n",
      "POST request status code: 200\n",
      "POST request response: {'args': {}, 'data': '', 'files': {}, 'form': {'key1': 'value1', 'key2': 'value2'}, 'headers': {'Accept': '*/*', 'Accept-Encoding': 'gzip, deflate', 'Content-Length': '23', 'Content-Type': 'application/x-www-form-urlencoded', 'Host': 'httpbin.org', 'User-Agent': 'python-requests/2.32.3', 'X-Amzn-Trace-Id': 'Root=1-66f43ffa-1c6553be4a0fb9612da2d9b4'}, 'json': None, 'origin': '176.29.236.223', 'url': 'https://httpbin.org/post'}\n",
      "\n",
      "Image downloaded successfully.\n"
     ]
    }
   ],
   "source": [
    "import requests\n",
    "\n",
    "# Make a GET request\n",
    "response = requests.get('https://api.github.com/users/github')\n",
    "print(f\"Status Code: {response.status_code}\")\n",
    "\n",
    "# Parse JSON response\n",
    "user_data = response.json()\n",
    "print(f\"GitHub username: {user_data['login']}\")\n",
    "print(f\"Name: {user_data['name']}\")\n",
    "print(f\"Followers: {user_data['followers']}\")\n",
    "\n",
    "# Make a POST request\n",
    "data = {'key1': 'value1', 'key2': 'value2'}\n",
    "response = requests.post('https://httpbin.org/post', data=data)\n",
    "print(f\"\\nPOST request status code: {response.status_code}\")\n",
    "print(f\"POST request response: {response.json()}\")\n",
    "\n",
    "# Download an image\n",
    "image_url = 'https://via.placeholder.com/150'\n",
    "image_response = requests.get(image_url)\n",
    "if image_response.status_code == 200:\n",
    "    with open('sample_image.png', 'wb') as file:\n",
    "        file.write(image_response.content)\n",
    "    print(\"\\nImage downloaded successfully.\")\n",
    "else:\n",
    "    print(\"\\nFailed to download image.\")"
   ]
  },
  {
   "cell_type": "markdown",
   "metadata": {},
   "source": [
    "Requests is invaluable for interacting with web services, APIs, and performing web scraping tasks.\n"
   ]
  },
  {
   "cell_type": "markdown",
   "metadata": {},
   "source": [
    "### beautifulsoup4\n",
    "\n",
    "BeautifulSoup is a library for pulling data out of HTML and XML files. It's commonly used for web scraping tasks."
   ]
  },
  {
   "cell_type": "code",
   "execution_count": 41,
   "metadata": {},
   "outputs": [
    {
     "name": "stdout",
     "output_type": "stream",
     "text": [
      "Page title: Python (programming language) - Wikipedia\n",
      "\n",
      "Number of links found: 2427\n",
      "\n",
      "First 5 link texts:\n",
      "Jump to content\n",
      "Main page\n",
      "Contents\n",
      "Current events\n",
      "Random article\n",
      "\n",
      "Content div found: Yes\n",
      "\n",
      "Number of paragraphs in content: 85\n",
      "\n",
      "First paragraph text:\n",
      "\n",
      "\n"
     ]
    }
   ],
   "source": [
    "# First, install beautifulsoup4: pip install beautifulsoup4\n",
    "from bs4 import BeautifulSoup\n",
    "import requests\n",
    "\n",
    "# Fetch a web page\n",
    "url = 'https://en.wikipedia.org/wiki/Python_(programming_language)'\n",
    "response = requests.get(url)\n",
    "soup = BeautifulSoup(response.text, 'html.parser')\n",
    "\n",
    "# Extract the title\n",
    "title = soup.title.string\n",
    "print(f\"Page title: {title}\")\n",
    "\n",
    "# Find all links\n",
    "links = soup.find_all('a')\n",
    "print(f\"\\nNumber of links found: {len(links)}\")\n",
    "\n",
    "# Print the first 5 link texts\n",
    "print(\"\\nFirst 5 link texts:\")\n",
    "for link in links[:5]:\n",
    "    print(link.get_text())\n",
    "\n",
    "# Find a specific element by ID\n",
    "content = soup.find(id='content')\n",
    "print(f\"\\nContent div found: {'Yes' if content else 'No'}\")\n",
    "\n",
    "# Extract all paragraphs from the content\n",
    "paragraphs = content.find_all('p') if content else []\n",
    "print(f\"\\nNumber of paragraphs in content: {len(paragraphs)}\")\n",
    "\n",
    "# Print the text of the first paragraph\n",
    "if paragraphs:\n",
    "    print(\"\\nFirst paragraph text:\")\n",
    "    print(paragraphs[0].get_text())"
   ]
  },
  {
   "cell_type": "markdown",
   "metadata": {},
   "source": [
    "BeautifulSoup is a powerful tool for extracting data from web pages, making it easier to navigate and search the document tree."
   ]
  },
  {
   "cell_type": "markdown",
   "metadata": {},
   "source": [
    "**Task 6:** \n",
    "Use the `pandas` library to read a CSV file (you can create a small CSV file for this task), perform some basic data analysis (e.g., calculate mean, median, max of a numeric column), and then use `matplotlib` to create a bar chart of one of the columns."
   ]
  },
  {
   "cell_type": "code",
   "execution_count": null,
   "metadata": {},
   "outputs": [],
   "source": [
    "# Your code here\n",
    "import pandas as pd\n",
    "import matplotlib.pyplot as plt\n",
    "\n",
    "# Read the CSV file\n",
    "# Your code here\n",
    "\n",
    "# Perform basic analysis\n",
    "# Your code here\n",
    "\n",
    "# Create a bar chart\n",
    "# Your code here\n",
    "\n",
    "# Display the plot\n",
    "plt.show()"
   ]
  },
  {
   "cell_type": "markdown",
   "metadata": {},
   "source": [
    "## 7. Creating Your Own Library/Module\n",
    "\n",
    "In Python, you can create your own modules and packages (a package is a collection of modules). This allows you to organize your code and make it reusable. Let's go through the process of creating a simple module and then using it."
   ]
  },
  {
   "cell_type": "markdown",
   "metadata": {},
   "source": [
    "### Creating a Module\n",
    "\n",
    "First, let's create a file called `my_math.py`:"
   ]
  },
  {
   "cell_type": "code",
   "execution_count": null,
   "metadata": {},
   "outputs": [],
   "source": [
    "# my_math.py\n",
    "\n",
    "def square(x):\n",
    "    \"\"\"Return the square of a number.\"\"\"\n",
    "    return x ** 2\n",
    "\n",
    "def cube(x):\n",
    "    \"\"\"Return the cube of a number.\"\"\"\n",
    "    return x ** 3\n",
    "\n",
    "def factorial(n):\n",
    "    \"\"\"Return the factorial of a number.\"\"\"\n",
    "    if n == 0 or n == 1:\n",
    "        return 1\n",
    "    else:\n",
    "        return n * factorial(n-1)\n",
    "\n",
    "PI = 3.14159\n",
    "\n",
    "class Circle:\n",
    "    def __init__(self, radius):\n",
    "        self.radius = radius\n",
    "    \n",
    "    def area(self):\n",
    "        return PI * self.radius ** 2\n",
    "    \n",
    "    def circumference(self):\n",
    "        return 2 * PI * self.radius"
   ]
  },
  {
   "cell_type": "markdown",
   "metadata": {},
   "source": [
    "This module contains some basic mathematical functions, a constant, and a class."
   ]
  },
  {
   "cell_type": "markdown",
   "metadata": {},
   "source": [
    "### Using the Module\n",
    "\n",
    "Now, let's use this module in another script:"
   ]
  },
  {
   "cell_type": "code",
   "execution_count": null,
   "metadata": {},
   "outputs": [],
   "source": [
    "# main.py\n",
    "\n",
    "import my_math\n",
    "\n",
    "# Using functions from the module\n",
    "print(f\"Square of 5: {my_math.square(5)}\")\n",
    "print(f\"Cube of 3: {my_math.cube(3)}\")\n",
    "print(f\"Factorial of 5: {my_math.factorial(5)}\")\n",
    "\n",
    "# Using the constant from the module\n",
    "print(f\"Value of PI: {my_math.PI}\")\n",
    "\n",
    "# Using the class from the module\n",
    "circle = my_math.Circle(5)\n",
    "print(f\"Area of circle with radius 5: {circle.area()}\")\n",
    "print(f\"Circumference of circle with radius 5: {circle.circumference()}\")\n",
    "\n",
    "# We can also import specific items from the module\n",
    "from my_math import square, PI\n",
    "\n",
    "print(f\"Square of 7 (using imported function): {square(7)}\")\n",
    "print(f\"PI (using imported constant): {PI}\")"
   ]
  },
  {
   "cell_type": "markdown",
   "metadata": {},
   "source": [
    "### Creating a Package\n",
    "\n",
    "A package is a way of organizing related modules into a directory hierarchy. Let's create a simple package:\n",
    "\n",
    "1. Create a directory called `my_package`\n",
    "2. Inside `my_package`, create an empty file called `__init__.py`\n",
    "3. Create two module files: `module1.py` and `module2.py`\n",
    "\n",
    "Here's what the structure should look like:\n",
    "\n",
    "```\n",
    "my_package/\n",
    "    __init__.py\n",
    "    module1.py\n",
    "    module2.py\n",
    "```\n",
    "\n",
    "Now, let's add some content to these files:"
   ]
  },
  {
   "cell_type": "code",
   "execution_count": null,
   "metadata": {},
   "outputs": [],
   "source": [
    "# my_package/module1.py\n",
    "\n",
    "def greet(name):\n",
    "    return f\"Hello, {name}!\"\n",
    "\n",
    "# my_package/module2.py\n",
    "\n",
    "def farewell(name):\n",
    "    return f\"Goodbye, {name}!\"\n",
    "\n",
    "# my_package/__init__.py\n",
    "\n",
    "from .module1 import greet\n",
    "from .module2 import farewell"
   ]
  },
  {
   "cell_type": "markdown",
   "metadata": {},
   "source": [
    "The `__init__.py` file can be used to export certain functions from the modules, making them directly accessible when the package is imported.\n",
    "\n",
    "Using the package:"
   ]
  },
  {
   "cell_type": "code",
   "execution_count": null,
   "metadata": {},
   "outputs": [],
   "source": [
    "# main.py\n",
    "\n",
    "import my_package\n",
    "\n",
    "print(my_package.greet(\"Alice\"))\n",
    "print(my_package.farewell(\"Bob\"))\n",
    "\n",
    "# Or, we could import specific functions\n",
    "from my_package import greet, farewell\n",
    "\n",
    "print(greet(\"Charlie\"))\n",
    "print(farewell(\"David\"))"
   ]
  },
  {
   "cell_type": "markdown",
   "metadata": {},
   "source": [
    "**Task 7:** \n",
    "Create a module called `string_utils.py` with functions to count vowels, reverse a string, and check if a string is a palindrome. Then create a main script to use these functions."
   ]
  },
  {
   "cell_type": "code",
   "execution_count": null,
   "metadata": {},
   "outputs": [],
   "source": [
    "# Your code here for string_utils.py\n",
    "\n",
    "# Your code here for main.py to use string_utils.py"
   ]
  },
  {
   "cell_type": "markdown",
   "metadata": {},
   "source": [
    "## 8. Organizing Code into Modules\n",
    "\n",
    "As your projects grow larger, it becomes important to organize your code into modules. This helps in maintaining the code, makes it more readable, and allows for better reusability. Here are some tips for organizing your code:\n",
    "\n",
    "1. Group related functionality into separate modules.\n",
    "2. Use meaningful names for your modules and functions.\n",
    "3. Include docstrings to explain what each module and function does.\n",
    "4. Use `__init__.py` files to create packages.\n",
    "\n",
    "Let's create a more complex package structure as an example:\n",
    "\n",
    "```\n",
    "my_project/\n",
    "    __init__.py\n",
    "    data/\n",
    "        __init__.py\n",
    "        loader.py\n",
    "        saver.py\n",
    "    processing/\n",
    "        __init__.py\n",
    "        cleaner.py\n",
    "        transformer.py\n",
    "    analysis/\n",
    "        __init__.py\n",
    "        statistics.py\n",
    "        visualizer.py\n",
    "    utils/\n",
    "        __init__.py\n",
    "        helpers.py\n",
    "```\n",
    "\n",
    "Here's how we might structure the content of these files:"
   ]
  },
  {
   "cell_type": "code",
   "execution_count": null,
   "metadata": {},
   "outputs": [],
   "source": [
    "# my_project/data/loader.py\n",
    "\n",
    "def load_csv(filename):\n",
    "    \"\"\"Load data from a CSV file.\"\"\"\n",
    "    # Implementation here\n",
    "    pass\n",
    "\n",
    "def load_json(filename):\n",
    "    \"\"\"Load data from a JSON file.\"\"\"\n",
    "    # Implementation here\n",
    "    pass\n",
    "\n",
    "# my_project/data/saver.py\n",
    "\n",
    "def save_csv(data, filename):\n",
    "    \"\"\"Save data to a CSV file.\"\"\"\n",
    "    # Implementation here\n",
    "    pass\n",
    "\n",
    "def save_json(data, filename):\n",
    "    \"\"\"Save data to a JSON file.\"\"\"\n",
    "    # Implementation here\n",
    "    pass\n",
    "\n",
    "# my_project/processing/cleaner.py\n",
    "\n",
    "def remove_duplicates(data):\n",
    "    \"\"\"Remove duplicate entries from data.\"\"\"\n",
    "    # Implementation here\n",
    "    pass\n",
    "\n",
    "def handle_missing_values(data):\n",
    "    \"\"\"Handle missing values in the data.\"\"\"\n",
    "    # Implementation here\n",
    "    pass\n",
    "\n",
    "# my_project/processing/transformer.py\n",
    "\n",
    "def normalize_data(data):\n",
    "    \"\"\"Normalize the data.\"\"\"\n",
    "    # Implementation here\n",
    "    pass\n",
    "\n",
    "def encode_categorical(data):\n",
    "    \"\"\"Encode categorical variables.\"\"\"\n",
    "    # Implementation here\n",
    "    pass\n",
    "\n",
    "# my_project/analysis/statistics.py\n",
    "\n",
    "def calculate_mean(data):\n",
    "    \"\"\"Calculate the mean of the data.\"\"\"\n",
    "    # Implementation here\n",
    "    pass\n",
    "\n",
    "def calculate_median(data):\n",
    "    \"\"\"Calculate the median of the data.\"\"\"\n",
    "    # Implementation here\n",
    "    pass\n",
    "\n",
    "# my_project/analysis/visualizer.py\n",
    "\n",
    "def plot_histogram(data):\n",
    "    \"\"\"Plot a histogram of the data.\"\"\"\n",
    "    # Implementation here\n",
    "    pass\n",
    "\n",
    "def plot_scatter(x, y):\n",
    "    \"\"\"Plot a scatter plot of x vs y.\"\"\"\n",
    "    # Implementation here\n",
    "    pass\n",
    "\n",
    "# my_project/utils/helpers.py\n",
    "\n",
    "def timer(func):\n",
    "    \"\"\"A decorator to time functions.\"\"\"\n",
    "    # Implementation here\n",
    "    pass\n",
    "\n",
    "def logger(func):\n",
    "    \"\"\"A decorator to log function calls.\"\"\"\n",
    "    # Implementation here\n",
    "    pass\n",
    "\n",
    "# my_project/__init__.py\n",
    "\n",
    "from .data.loader import load_csv, load_json\n",
    "from .data.saver import save_csv, save_json\n",
    "from .processing.cleaner import remove_duplicates, handle_missing_values\n",
    "from .processing.transformer import normalize_data, encode_categorical\n",
    "from .analysis.statistics import calculate_mean, calculate_median\n",
    "from .analysis.visualizer import plot_histogram, plot_scatter\n",
    "from .utils.helpers import timer, logger"
   ]
  },
  {
   "cell_type": "markdown",
   "metadata": {},
   "source": [
    "This structure allows for a clear separation of concerns and makes it easy to navigate and maintain the project. You can then use this package in your main script:"
   ]
  },
  {
   "cell_type": "code",
   "execution_count": null,
   "metadata": {},
   "outputs": [],
   "source": [
    "# main.py\n",
    "\n",
    "from my_project import load_csv, remove_duplicates, normalize_data, calculate_mean, plot_histogram\n",
    "\n",
    "# Load data\n",
    "data = load_csv('data.csv')\n",
    "\n",
    "# Process data\n",
    "clean_data = remove_duplicates(data)\n",
    "normalized_data = normalize_data(clean_data)\n",
    "\n",
    "# Analyze data\n",
    "mean = calculate_mean(normalized_data)\n",
    "print(f\"Mean: {mean}\")\n",
    "\n",
    "# Visualize data\n",
    "plot_histogram(normalized_data)"
   ]
  },
  {
   "cell_type": "markdown",
   "metadata": {},
   "source": [
    "This organization makes it easy to understand what each part of your code does and where to find specific functionality.\n",
    "\n",
    "**Task 8:** \n",
    "Create a package called `geometry` with modules for calculating areas and perimeters of different shapes (e.g., `circle.py`, `rectangle.py`, `triangle.py`). Include an `__init__.py` file to make it easy to import functions from these modules. Then create a main script that uses functions from these modules to calculate and compare areas of different shapes."
   ]
  },
  {
   "cell_type": "code",
   "execution_count": null,
   "metadata": {},
   "outputs": [],
   "source": [
    "# Your code here for the geometry package\n",
    "\n",
    "# Your code here for main.py to use the geometry package"
   ]
  },
  {
   "cell_type": "markdown",
   "metadata": {},
   "source": [
    "## 9. Table of Built-in Libraries\n",
    "\n",
    "Here's a markdown table of some commonly used built-in libraries in Python:\n",
    "\n",
    "| Library | Purpose |\n",
    "|---------|---------|\n",
    "| `math` | Mathematical functions |\n",
    "| `random` | Random number generation |\n",
    "| `datetime` | Date and time operations |\n",
    "| `os` | Operating system interfaces |\n",
    "| `sys` | System-specific parameters and functions |\n",
    "| `json` | JSON encoder and decoder |\n",
    "| `csv` | CSV file reading and writing |\n",
    "| `re` | Regular expressions |\n",
    "| `collections` | Specialized container datatypes |\n",
    "| `itertools` | Functions creating iterators for efficient looping |\n",
    "| `functools` | Higher-order functions and operations on callable objects |\n",
    "| `hashlib` | Secure hash and message digest algorithms |\n",
    "| `sqlite3` | DB-API 2.0 interface for SQLite databases |\n",
    "| `urllib` | URL handling modules |\n",
    "| `email` | Email and MIME handling package |\n",
    "| `xml` | XML processing modules |\n",
    "| `unittest` | Unit testing framework |\n",
    "| `threading` | Thread-based parallelism |\n",
    "| `multiprocessing` | Process-based parallelism |\n",
    "| `socket` | Low-level networking interface |\n",
    "| `argparse` | Parser for command-line options, arguments |\n",
    "| `logging` | Logging facility for Python |\n",
    "| `time` | Time access and conversions |\n",
    "| `calendar` | General calendar-related functions |\n",
    "| `zlib` | Compression compatible with gzip |\n",
    "| `copy` | Shallow and deep copy operations |\n",
    "| `pprint` | Data pretty printer |\n",
    "| `typing` | Support for type hints |\n",
    "| `contextlib` | Utilities for with-statement contexts |\n",
    "\n",
    "This table covers many of the commonly used built-in libraries, but Python has many more. You can find a complete list in the Python Standard Library documentation."
   ]
  },
  {
   "cell_type": "markdown",
   "metadata": {},
   "source": [
    "## Final Tasks\n",
    "\n",
    "**Task 9: Comprehensive Library Usage**\n",
    "Create a Python script that demonstrates the use of at least 5 different libraries (built-in or external) to perform the following tasks:\n",
    "1. Read data from a CSV file\n",
    "2. Perform some data cleaning and analysis\n",
    "3. Create a visualization of the data\n",
    "4. Save the results to a JSON file\n",
    "5. Print out system information"
   ]
  },
  {
   "cell_type": "code",
   "execution_count": null,
   "metadata": {},
   "outputs": [],
   "source": [
    "# Your code here\n",
    "import pandas as pd\n",
    "import matplotlib.pyplot as plt\n",
    "import json\n",
    "import os\n",
    "import platform\n",
    "\n",
    "# 1. Read data from a CSV file\n",
    "# Your code here\n",
    "\n",
    "# 2. Perform data cleaning and analysis\n",
    "# Your code here\n",
    "\n",
    "# 3. Create a visualization\n",
    "# Your code here\n",
    "\n",
    "# 4. Save results to JSON\n",
    "# Your code here\n",
    "\n",
    "# 5. Print system information\n",
    "# Your code here"
   ]
  },
  {
   "cell_type": "markdown",
   "metadata": {},
   "source": [
    "**Task 10: Custom Module Creation**\n",
    "Create a custom module named `text_analyzer.py` that includes functions for:\n",
    "1. Counting words in a text\n",
    "2. Finding the most common words\n",
    "3. Calculating the average word length\n",
    "4. Detecting the sentiment of the text (you may use a simple approach based on positive/negative word lists)\n",
    "\n",
    "Then, create a main script that uses this module to analyze a given text."
   ]
  },
  {
   "cell_type": "code",
   "execution_count": null,
   "metadata": {},
   "outputs": [],
   "source": [
    "# Your code here for text_analyzer.py\n",
    "\n",
    "# Your code here for main.py to use text_analyzer.py"
   ]
  },
  {
   "cell_type": "markdown",
   "metadata": {},
   "source": [
    "## Conclusion\n",
    "\n",
    "In this comprehensive guide, we've explored the world of Python libraries and modules. We've covered:\n",
    "\n",
    "1. What libraries are and why they're important\n",
    "2. How to use built-in libraries\n",
    "3. When to use libraries in your projects\n",
    "4. An overview of several built-in libraries and their functions\n",
    "5. How to install and use external libraries\n",
    "6. Popular external libraries and their applications\n",
    "7. Creating your own libraries/modules\n",
    "8. Organizing code into modules and packages\n",
    "9. A table of commonly used built-in libraries\n",
    "\n",
    "Libraries and modules are fundamental to Python programming. They allow you to leverage existing code, organize your own code effectively, and tap into a vast ecosystem of powerful tools and functionalities. As you continue your Python journey, you'll find that understanding and effectively using libraries will significantly enhance your productivity and the capabilities of your programs.\n",
    "\n",
    "Remember, the Python community is constantly developing new libraries and improving existing ones. Stay curious, keep exploring, and don't hesitate to dive into the documentation of libraries that interest you. Happy coding!"
   ]
  }
 ],
 "metadata": {
  "kernelspec": {
   "display_name": "Python 3",
   "language": "python",
   "name": "python3"
  },
  "language_info": {
   "codemirror_mode": {
    "name": "ipython",
    "version": 3
   },
   "file_extension": ".py",
   "mimetype": "text/x-python",
   "name": "python",
   "nbconvert_exporter": "python",
   "pygments_lexer": "ipython3",
   "version": "3.12.6"
  }
 },
 "nbformat": 4,
 "nbformat_minor": 2
}
