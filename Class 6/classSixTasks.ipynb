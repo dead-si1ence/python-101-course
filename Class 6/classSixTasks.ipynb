{
 "cells": [
  {
   "cell_type": "markdown",
   "metadata": {},
   "source": [
    "**Task 1:** \n",
    "Use the `math` library to calculate the logarithm (base 10) of 100, and the exponential of 2 (e^2). Then, use the `random` library to shuffle a list of numbers from 1 to 5."
   ]
  },
  {
   "cell_type": "code",
   "execution_count": null,
   "metadata": {},
   "outputs": [],
   "source": [
    "# Your code here\n",
    "import math\n",
    "import random\n",
    "\n",
    "# Calculate logarithm and exponential\n",
    "log_result = # Your code here\n",
    "exp_result = # Your code here\n",
    "\n",
    "print(f\"Log base 10 of 100: {log_result}\")\n",
    "print(f\"e^2: {exp_result}\")\n",
    "\n",
    "# Shuffle a list\n",
    "numbers = [1, 2, 3, 4, 5]\n",
    "# Your code here to shuffle the list\n",
    "print(f\"Shuffled list: {numbers}\")"
   ]
  },
  {
   "cell_type": "markdown",
   "metadata": {},
   "source": [
    "**Task 2:** \n",
    "Import the `statistics` library (a built-in library for statistical calculations) and use it to calculate the mean, median, and mode of the following list of numbers: [4, 2, 7, 1, 8, 3, 5, 1, 9, 2]. Then, explore the contents of the `statistics` library using `dir()`."
   ]
  },
  {
   "cell_type": "code",
   "execution_count": null,
   "metadata": {},
   "outputs": [],
   "source": [
    "# Your code here\n",
    "from statistics import mean, median, mode\n",
    "\n",
    "numbers = [4, 2, 7, 1, 8, 3, 5, 1, 9, 2]\n",
    "\n",
    "# Calculate mean, median, and mode\n",
    "mean_value = # Your code here\n",
    "median_value = # Your code here\n",
    "mode_value = # Your code here\n",
    "\n",
    "print(f\"Mean: {mean_value}\")\n",
    "print(f\"Median: {median_value}\")\n",
    "print(f\"Mode: {mode_value}\")\n",
    "\n",
    "# Explore contents of the statistics library\n",
    "import statistics\n",
    "# Your code here to print some contents of the statistics library"
   ]
  },
  {
   "cell_type": "markdown",
   "metadata": {},
   "source": [
    "**Task 4:** \n",
    "Use the `collections` library to count the frequency of words in a given text. Then, use the `itertools` library to generate all possible combinations of 3 letters from the string \"ABCD\"."
   ]
  },
  {
   "cell_type": "code",
   "execution_count": null,
   "metadata": {},
   "outputs": [],
   "source": [
    "# Your code here\n",
    "from collections import Counter\n",
    "import itertools\n",
    "\n",
    "# Count word frequency\n",
    "text = \"the quick brown fox jumps over the lazy dog\"\n",
    "# Your code here to count word frequency\n",
    "\n",
    "# Generate combinations\n",
    "letters = \"ABCD\"\n",
    "# Your code here to generate combinations\n",
    "\n",
    "# Print results\n",
    "print(\"Word frequency:\")\n",
    "# Your code to print word frequency\n",
    "\n",
    "print(\"\\nCombinations of 3 letters from 'ABCD':\")\n",
    "# Your code to print combinations"
   ]
  },
  {
   "cell_type": "markdown",
   "metadata": {},
   "source": [
    "**Task 5:** \n",
    "Install the `matplotlib` library and use it to create a simple line plot of the function y = x^2 for x values from -10 to 10."
   ]
  },
  {
   "cell_type": "code",
   "execution_count": null,
   "metadata": {},
   "outputs": [],
   "source": [
    "# Your code here\n",
    "# First, install matplotlib using: pip install matplotlib\n",
    "\n",
    "import matplotlib.pyplot as plt\n",
    "import numpy as np\n",
    "\n",
    "# Generate x values\n",
    "x = np.linspace(-10, 10, 100)\n",
    "\n",
    "# Calculate y values\n",
    "y = # Your code here\n",
    "\n",
    "# Create the plot\n",
    "# Your code here to create and display the plot"
   ]
  },
  {
   "cell_type": "markdown",
   "metadata": {},
   "source": [
    "**Task 7:** \n",
    "Create a module called `string_utils.py` with functions to count vowels, reverse a string, and check if a string is a palindrome. Then create a main script to use these functions."
   ]
  },
  {
   "cell_type": "code",
   "execution_count": null,
   "metadata": {},
   "outputs": [],
   "source": [
    "# Your code here for string_utils.py\n",
    "\n",
    "# Your code here for main.py to use string_utils.py\n"
   ]
  },
  {
   "cell_type": "markdown",
   "metadata": {},
   "source": [
    "## Final Tasks\n",
    "\n",
    "**Task 9: Comprehensive Library Usage**\n",
    "Create a Python script that demonstrates the use of at least 5 different libraries (built-in or external) and give an example of the libraries use cases."
   ]
  },
  {
   "cell_type": "code",
   "execution_count": null,
   "metadata": {},
   "outputs": [],
   "source": [
    "# Your code here"
   ]
  }
 ],
 "metadata": {
  "language_info": {
   "name": "python"
  }
 },
 "nbformat": 4,
 "nbformat_minor": 2
}
