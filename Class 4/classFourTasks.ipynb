{
 "cells": [
  {
   "cell_type": "markdown",
   "metadata": {},
   "source": [
    "#### Example 8: Palindrome Checker"
   ]
  },
  {
   "cell_type": "code",
   "execution_count": null,
   "metadata": {},
   "outputs": [],
   "source": [
    "def is_palindrome(s):\n",
    "    \"\"\"Check if a string is a palindrome\"\"\"\n",
    "    s = s.lower()\n",
    "    return s == s[::-1]\n",
    "# start stop step\n",
    "# Test the function\n",
    "print(is_palindrome(\"racecar\"))  # Should print True\n",
    "print(is_palindrome(\"hello\"))    # Should print False"
   ]
  },
  {
   "cell_type": "markdown",
   "metadata": {},
   "source": [
    "## Task:\n",
    "\n",
    "Modify this function to work with numbers as well as strings."
   ]
  },
  {
   "cell_type": "code",
   "execution_count": 1,
   "metadata": {},
   "outputs": [
    {
     "name": "stdout",
     "output_type": "stream",
     "text": [
      "False\n"
     ]
    }
   ],
   "source": [
    "# Your code here\n",
    "def is_palindrome(s):\n",
    "    \"\"\"Check if a string is a palindrome\"\"\"\n",
    "    s = s.lower()\n",
    "    return s == s[::-1]\n",
    "\n",
    "num = 1234\n",
    "num = str(num)\n",
    "print(is_palindrome(num))"
   ]
  },
  {
   "cell_type": "markdown",
   "metadata": {},
   "source": [
    "### Task 1: Create a function formatter\n",
    "\n",
    "Write a function called `format_string` that takes a string as the first argument and any number of keyword arguments. The function should replace any `{key}` in the string with the corresponding value from the keyword arguments."
   ]
  },
  {
   "cell_type": "code",
   "execution_count": null,
   "metadata": {},
   "outputs": [],
   "source": [
    "# Your code here"
   ]
  },
  {
   "cell_type": "markdown",
   "metadata": {},
   "source": [
    "### Task 2: Sort a list of tuples\n",
    "\n",
    "Use a lambda function to sort a list of tuples based on the second element of each tuple."
   ]
  },
  {
   "cell_type": "code",
   "execution_count": null,
   "metadata": {},
   "outputs": [],
   "source": [
    "# Your code here"
   ]
  }
 ],
 "metadata": {
  "kernelspec": {
   "display_name": "Python 3",
   "language": "python",
   "name": "python3"
  },
  "language_info": {
   "codemirror_mode": {
    "name": "ipython",
    "version": 3
   },
   "file_extension": ".py",
   "mimetype": "text/x-python",
   "name": "python",
   "nbconvert_exporter": "python",
   "pygments_lexer": "ipython3",
   "version": "3.12.6"
  }
 },
 "nbformat": 4,
 "nbformat_minor": 2
}
