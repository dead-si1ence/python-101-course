{
 "cells": [
  {
   "cell_type": "markdown",
   "metadata": {},
   "source": [
    "# Python 101: Class 4 - Advanced Functions and Intro to Dictionaries"
   ]
  },
  {
   "cell_type": "markdown",
   "metadata": {},
   "source": [
    "## 1. Introduction to Dictionaries\n",
    "\n",
    "Dictionaries in Python are versatile data structures that store key-value pairs. They are unordered, mutable, and do not allow duplicate keys. Dictionaries are defined using curly braces `{}` or the `dict()` constructor.\n",
    "\n",
    "Key features of dictionaries:\n",
    "- Fast lookup: Accessing values by keys is very efficient\n",
    "- Flexible keys: Keys can be any immutable type (strings, numbers, tuples)\n",
    "- Dynamic: You can add or remove key-value pairs at any time"
   ]
  },
  {
   "cell_type": "code",
   "execution_count": 24,
   "metadata": {},
   "outputs": [
    {
     "name": "stdout",
     "output_type": "stream",
     "text": [
      "2\n"
     ]
    }
   ],
   "source": [
    "arr = [(1, 2), (3, 4)]\n",
    "\n",
    "print(arr[0][1])"
   ]
  },
  {
   "cell_type": "code",
   "execution_count": 33,
   "metadata": {},
   "outputs": [
    {
     "name": "stdout",
     "output_type": "stream",
     "text": [
      "Name Montaser\n",
      "Age 21\n",
      "isStudent True\n",
      "Location Jordan\n"
     ]
    }
   ],
   "source": [
    "d = {\n",
    "    \"Name\": \"Montaser\",\n",
    "    \"Age\": 21,\n",
    "    \"isStudent\": True\n",
    "}\n",
    "\n",
    "\n",
    "d[\"Location\"] = \"Amman\"\n",
    "d[\"Location\"] = \"Jordan\"\n",
    "\n",
    "\n",
    "\n",
    "\n",
    "\n",
    "#print(d.items())\n",
    "\n",
    "for i, j in d.items(): # [(Name: Montaser)]\n",
    "    print(i, j)"
   ]
  },
  {
   "cell_type": "code",
   "execution_count": null,
   "metadata": {},
   "outputs": [],
   "source": [
    "# Creating a dictionary\n",
    "person = {\n",
    "    \"name\": \"Alice\",\n",
    "    \"age\": 30,\n",
    "    \"city\": \"New York\"\n",
    "}\n",
    "\n",
    "# Accessing values\n",
    "print(person[\"name\"])  # Output: Alice\n",
    "print(person.get(\"age\"))  # Output: 30\n",
    "\n",
    "# Adding a new key-value pair\n",
    "person[\"occupation\"] = \"Engineer\"\n",
    "\n",
    "# Updating a value\n",
    "person[\"age\"] = 31\n",
    "\n",
    "# Removing a key-value pair\n",
    "del person[\"city\"]\n",
    "\n",
    "# Checking if a key exists\n",
    "print(\"name\" in person)  # Output: True\n",
    "\n",
    "# Iterating through a dictionary\n",
    "for key, value in person.items():\n",
    "    print(f\"{key}: {value}\")\n",
    "\n",
    "# Dictionary comprehension\n",
    "squares = {x: x**2 for x in range(5)}\n",
    "print(squares)  # Output: {0: 0, 1: 1, 2: 4, 3: 9, 4: 16}"
   ]
  },
  {
   "cell_type": "markdown",
   "metadata": {},
   "source": [
    "Understanding dictionaries is crucial for working with complex data structures and will help us grasp the concept of `**kwargs` in functions."
   ]
  },
  {
   "cell_type": "markdown",
   "metadata": {},
   "source": [
    "## 2. Advanced Function Concepts"
   ]
  },
  {
   "cell_type": "markdown",
   "metadata": {},
   "source": [
    "### 2.1 Keyword Arguments (**kwargs)\n",
    "\n",
    "`**kwargs` allows a function to accept any number of keyword arguments. These arguments are packed into a dictionary within the function. This feature provides great flexibility in function definitions.\n",
    "\n",
    "Key points about `**kwargs`:\n",
    "- It allows functions to accept an arbitrary number of keyword arguments\n",
    "- The double asterisk `**` is used in the function definition\n",
    "- Inside the function, `kwargs` is treated as a dictionary\n",
    "- The name `kwargs` is convention; you can use any valid variable name"
   ]
  },
  {
   "cell_type": "code",
   "execution_count": null,
   "metadata": {},
   "outputs": [],
   "source": [
    "def foo(*args):\n",
    "    pass"
   ]
  },
  {
   "cell_type": "code",
   "execution_count": 39,
   "metadata": {},
   "outputs": [
    {
     "name": "stdout",
     "output_type": "stream",
     "text": [
      "arg1: Hello\n",
      "arg2: World\n",
      "name: Alice\n",
      "age: 30\n",
      "location: Amman\n"
     ]
    }
   ],
   "source": [
    "def print_kwargs(**kwargs):\n",
    "    for key, value in kwargs.items():\n",
    "        print(f\"{key}: {value}\")\n",
    "\n",
    "print_kwargs(firstName=\"Alice\", age=30, city=\"New York\")\n",
    "\n",
    "# Example with both positional and keyword arguments\n",
    "def mixed_args(arg1, arg2, **kwargs):\n",
    "    print(f\"arg1: {arg1}\")\n",
    "    print(f\"arg2: {arg2}\")\n",
    "    for key, value in kwargs.items():\n",
    "        print(f\"{key}: {value}\")\n",
    "\n",
    "mixed_args(\"Hello\", \"World\", name=\"Alice\", age=30, location=\"Amman\")\n",
    "\n",
    "# Using **kwargs to forward arguments\n",
    "def wrapper_function(**kwargs):\n",
    "    return print_kwargs(**kwargs)\n",
    "\n",
    "wrapper_function(message=\"Hello\", recipient=\"World\")"
   ]
  },
  {
   "cell_type": "markdown",
   "metadata": {},
   "source": [
    "### Task 1: Create a function formatter\n",
    "\n",
    "Write a function called `format_string` that takes a string as the first argument and any number of keyword arguments. The function should replace any `{key}` in the string with the corresponding value from the keyword arguments."
   ]
  },
  {
   "cell_type": "code",
   "execution_count": 65,
   "metadata": {},
   "outputs": [
    {
     "name": "stdout",
     "output_type": "stream",
     "text": [
      "Hello, Alice! You are 30 years old.\n",
      "Welcome back, Bob! Your balance is ${balance:.2f}.\n"
     ]
    }
   ],
   "source": [
    "def format_string(template, **kwargs):\n",
    "    for key, value in kwargs.items():\n",
    "        template = template.replace(f\"{{{key}}}\", str(value))\n",
    "    return template\n",
    "\n",
    "# Test your function\n",
    "print(format_string(\"Hello, {name}! You are {age} years old.\", name=\"Alice\", age=30))\n",
    "# Should print: \"Hello, Alice! You are 30 years old.\"\n",
    "\n",
    "# More complex example\n",
    "print(format_string(\"{greeting}, {name}! Your balance is ${balance:.2f}.\", \n",
    "                    greeting=\"Welcome back\", name=\"Bob\", balance=125.678))\n",
    "# Should print: \"Welcome back, Bob! Your balance is $125.68.\""
   ]
  },
  {
   "cell_type": "markdown",
   "metadata": {},
   "source": [
    "### 2.2 Lambda Functions\n",
    "\n",
    "Lambda functions, also known as anonymous functions, are small, one-line functions that can have any number of arguments but can only have one expression. They are useful for creating short, throwaway functions, especially as arguments to higher-order functions.\n",
    "\n",
    "Key points about lambda functions:\n",
    "- Created using the `lambda` keyword\n",
    "- Can take any number of arguments\n",
    "- Limited to a single expression\n",
    "- Often used with functions like `map()`, `filter()`, and `sorted()`"
   ]
  },
  {
   "cell_type": "code",
   "execution_count": 41,
   "metadata": {},
   "outputs": [],
   "source": [
    "def foo(x, y, z):\n",
    "    print(x, y, z)\n",
    "\n",
    "lambda x, y, z: print(x, y, z)"
   ]
  },
  {
   "cell_type": "code",
   "execution_count": 43,
   "metadata": {},
   "outputs": [
    {
     "name": "stdout",
     "output_type": "stream",
     "text": [
      "25\n",
      "25\n",
      "7\n",
      "[1, 4, 9, 16, 25]\n",
      "[2, 4]\n",
      "[(4, 'four'), (1, 'one'), (3, 'three'), (2, 'two')]\n"
     ]
    }
   ],
   "source": [
    "# Regular function vs lambda function\n",
    "def square(x):\n",
    "    return x ** 2\n",
    "\n",
    "square_lambda = lambda x: x ** 2\n",
    "\n",
    "print(square(5))       # Output: 25\n",
    "print(square_lambda(5))  # Output: 25\n",
    "\n",
    "# Lambda function with multiple arguments\n",
    "sum_lambda = lambda x, y: x + y\n",
    "print(sum_lambda(3, 4))  # Output: 7\n",
    "\n",
    "# Using lambda with map()\n",
    "numbers = [1, 2, 3, 4, 5]\n",
    "squared_numbers = list(map(lambda x: x**2, numbers))\n",
    "print(squared_numbers)  # Output: [1, 4, 9, 16, 25]\n",
    "\n",
    "# Using lambda with filter()\n",
    "even_numbers = list(filter(lambda x: x % 2 == 0, numbers))\n",
    "print(even_numbers)  # Output: [2, 4]\n",
    "\n",
    "# Using lambda with sorted()\n",
    "pairs = [(1, 'one'), (3, 'three'), (2, 'two'), (4, 'four')]\n",
    "sorted_pairs = sorted(pairs, key=lambda pair: pair[1])\n",
    "print(sorted_pairs)  # Output: [(4, 'four'), (1, 'one'), (3, 'three'), (2, 'two')]"
   ]
  },
  {
   "cell_type": "code",
   "execution_count": 50,
   "metadata": {},
   "outputs": [
    {
     "name": "stdout",
     "output_type": "stream",
     "text": [
      "[1, 2, 3]\n"
     ]
    }
   ],
   "source": [
    "arr = [3, 2, 1]\n",
    "\n",
    "arr2 = sorted(arr, reverse=False)\n",
    "print(arr2)"
   ]
  },
  {
   "cell_type": "markdown",
   "metadata": {},
   "source": [
    "### Task 2: Sort a list of tuples\n",
    "\n",
    "Use a lambda function to sort a list of tuples based on the second element of each tuple."
   ]
  },
  {
   "cell_type": "code",
   "execution_count": 53,
   "metadata": {},
   "outputs": [
    {
     "name": "stdout",
     "output_type": "stream",
     "text": [
      "[(4, 'four'), (1, 'one'), (3, 'three'), (2, 'two')]\n",
      "[('apple', 'red'), ('cherry', 'red'), ('date', 'brown'), ('banana', 'yellow')]\n"
     ]
    }
   ],
   "source": [
    "pairs = [(1, 'one'), (3, 'three'), (2, 'two'), (4, 'four')]\n",
    "\n",
    "sorted_pairs = sorted(pairs, key=lambda x: x[1])\n",
    "\n",
    "\n",
    "print(sorted_pairs)  # Should be sorted based on the second element of each tuple\n",
    "\n",
    "# Additional example: Sort by length of the second element\n",
    "words = [(\"apple\", \"red\"), (\"banana\", \"yellow\"), (\"cherry\", \"red\"), (\"date\", \"brown\")]\n",
    "sorted_words = sorted(words, key=lambda x: len(x[1]))\n",
    "print(sorted_words)"
   ]
  },
  {
   "cell_type": "markdown",
   "metadata": {},
   "source": [
    "### 2.3 Recursion\n",
    "\n",
    "Recursion is a method of solving problems where a function calls itself. It's useful for tasks that can be broken down into smaller, similar sub-tasks. Recursive functions typically have a base case to stop the recursion and a recursive case.\n",
    "\n",
    "Key points about recursion:\n",
    "- A recursive function calls itself\n",
    "- It must have a base case to prevent infinite recursion\n",
    "- Each recursive call should work towards the base case\n",
    "- Can often lead to elegant solutions for complex problems\n",
    "- May be less efficient than iterative solutions for some problems"
   ]
  },
  {
   "cell_type": "code",
   "execution_count": null,
   "metadata": {},
   "outputs": [],
   "source": [
    "# 5! = 5 * 4! = ??\n",
    "# 4! = 4 * 3! = 24\n",
    "# 3! = 3 * 2! = 6\n",
    "# 2! = 2 * 1! = 2\n",
    "# 1! = 1\n",
    "# 0! = 1\n"
   ]
  },
  {
   "cell_type": "code",
   "execution_count": 55,
   "metadata": {},
   "outputs": [
    {
     "name": "stdout",
     "output_type": "stream",
     "text": [
      "3\n"
     ]
    }
   ],
   "source": [
    "def factorial(n):\n",
    "    if n == 0 or n == 1:  # Base case\n",
    "        return 1\n",
    "    else:  # Recursive case\n",
    "        return n * factorial(n - 1)\n",
    "    \n",
    "# n = 5\n",
    "# 5! = 5 * 4! = 5 * 24 = 120\n",
    "# 4! = 4 * 3! = 4 * 6 = 24\n",
    "# 3! = 3 * 2! = 3 * 2 = 6\n",
    "# 2! = 2 * 1! = 2 * 1 = 2\n",
    "# 1! = 1\n",
    "\n",
    "print(factorial(5))  # Output: 120\n",
    "\n",
    "# Example: Recursive function to calculate the sum of a list\n",
    "def recursive_sum(lst):\n",
    "    if not lst:  # Base case: empty list\n",
    "        return 0\n",
    "    else:  # Recursive case\n",
    "        return lst[0] + recursive_sum(lst[1:])\n",
    "\n",
    "print(recursive_sum([1, 2, 3, 4, 5]))  # Output: 15\n",
    "\n",
    "# Example: Recursive function for binary search\n",
    "def binary_search(arr, target, low, high):\n",
    "    if low > high:\n",
    "        return -1  # Element not found\n",
    "    mid = (low + high) // 2\n",
    "    if arr[mid] == target:\n",
    "        return mid  # Element found\n",
    "    elif arr[mid] > target:\n",
    "        return binary_search(arr, target, low, mid - 1)\n",
    "    else:\n",
    "        return binary_search(arr, target, mid + 1, high)\n",
    "\n",
    "sorted_list = [1, 3, 5, 7, 9, 11, 13, 15]\n",
    "print(binary_search(sorted_list, 7, 0, len(sorted_list) - 1))  # Output: 3"
   ]
  },
  {
   "cell_type": "markdown",
   "metadata": {},
   "source": [
    "### Task 3: Implement a recursive function for Fibonacci sequence\n",
    "\n",
    "Write a recursive function to calculate the nth Fibonacci number. The Fibonacci sequence is defined as: F(n) = F(n-1) + F(n-2), with F(0) = 0 and F(1) = 1."
   ]
  },
  {
   "cell_type": "code",
   "execution_count": 64,
   "metadata": {},
   "outputs": [
    {
     "name": "stdout",
     "output_type": "stream",
     "text": [
      "354224848179261915075\n"
     ]
    }
   ],
   "source": [
    "def fibonacci_memo(n, memo={}):  \n",
    "    if n in memo:  \n",
    "        return memo[n]\n",
    "    if n <= 1:\n",
    "        return n\n",
    "    memo[n] = fibonacci_memo(n-1, memo) + fibonacci_memo(n-2, memo)\n",
    "    return memo[n]\n",
    "    \n",
    "\n",
    "print(fibonacci_memo(100))"
   ]
  },
  {
   "cell_type": "code",
   "execution_count": null,
   "metadata": {},
   "outputs": [],
   "source": [
    "def fibonacci(n):\n",
    "    if n <= 1:  # Base cases\n",
    "        return n\n",
    "    else:  # Recursive case\n",
    "        return fibonacci(n - 1) + fibonacci(n - 2)\n",
    "\n",
    "# Test your function\n",
    "for i in range(10):\n",
    "    print(f\"F({i}) = {fibonacci(i)}\")\n",
    "    \n",
    "    \n",
    "# 0 1 1 2 3 5 8 \n",
    "\n",
    "\n",
    "# Note: This implementation is not efficient for large n.\n",
    "# For better performance, consider using memoization or an iterative approach.\n",
    "\n",
    "# Example of a more efficient implementation using memoization\n",
    "def fibonacci_memo(n, memo={}):  \n",
    "    if n in memo:  \n",
    "        return memo[n]\n",
    "    if n <= 1:\n",
    "        return n\n",
    "    memo[n] = fibonacci_memo(n-1, memo) + fibonacci_memo(n-2, memo)\n",
    "    return memo[n]\n",
    "\n",
    "print(f\"F(30) = {fibonacci_memo(30)}\")"
   ]
  },
  {
   "cell_type": "markdown",
   "metadata": {},
   "source": [
    "### 2.4 Higher-Order Functions\n",
    "\n",
    "Higher-order functions are functions that can take other functions as arguments or return functions as results. They are a powerful tool for abstraction and can lead to more modular and reusable code.\n",
    "\n",
    "Key points about higher-order functions:\n",
    "- They can accept functions as arguments\n",
    "- They can return functions as results\n",
    "- Common examples include `map()`, `filter()`, and `reduce()`\n",
    "- They enable functional programming paradigms in Python"
   ]
  },
  {
   "cell_type": "code",
   "execution_count": null,
   "metadata": {},
   "outputs": [],
   "source": [
    "def apply_operation(func, x, y):\n",
    "    return func(x, y)\n",
    "\n",
    "def add(x, y):\n",
    "    return x + y\n",
    "\n",
    "def multiply(x, y):\n",
    "    return x * y\n",
    "\n",
    "print(apply_operation(add, 5, 3))       # Output: 8\n",
    "print(apply_operation(multiply, 5, 3))  # Output: 15\n",
    "\n",
    "# Example: Higher-order function that returns a function\n",
    "def create_multiplier(factor):\n",
    "    def multiplier(x):\n",
    "        return x * factor\n",
    "    return multiplier\n",
    "\n",
    "double = create_multiplier(2)\n",
    "triple = create_multiplier(3)\n",
    "\n",
    "print(double(5))  # Output: 10\n",
    "print(triple(5))  # Output: 15\n",
    "\n",
    "# Example: Using built-in higher-order functions\n",
    "numbers = [1, 2, 3, 4, 5]\n",
    "\n",
    "# map(): Apply a function to all items in an input list\n",
    "squared = list(map(lambda x: x**2, numbers))\n",
    "print(squared)  # Output: [1, 4, 9, 16, 25]\n",
    "\n",
    "# filter(): Create a list of elements for which a function returns True\n",
    "even = list(filter(lambda x: x % 2 == 0, numbers))\n",
    "print(even)  # Output: [2, 4]\n",
    "\n",
    "# reduce(): Apply a rolling computation to sequential pairs of values\n",
    "from functools import reduce\n",
    "sum_all = reduce(lambda x, y: x + y, numbers)\n",
    "print(sum_all)  # Output: 15"
   ]
  },
  {
   "cell_type": "markdown",
   "metadata": {},
   "source": [
    "### Task 4: Implement a decorator\n",
    "\n",
    "Create a decorator function called `timer` that measures the time a function takes to execute and prints the time. Decorators are a common use case for higher-order functions in Python."
   ]
  },
  {
   "cell_type": "code",
   "execution_count": 1,
   "metadata": {},
   "outputs": [
    {
     "name": "stdout",
     "output_type": "stream",
     "text": [
      "Function executed\n",
      "slow_function executed in 2.0004 seconds\n",
      "factorial executed in 0.0000 seconds\n",
      "factorial executed in 0.0000 seconds\n",
      "factorial executed in 0.0000 seconds\n",
      "factorial executed in 0.0000 seconds\n",
      "factorial executed in 0.0000 seconds\n",
      "factorial executed in 0.0000 seconds\n",
      "factorial executed in 0.0000 seconds\n",
      "factorial executed in 0.0000 seconds\n",
      "factorial executed in 0.0000 seconds\n",
      "factorial executed in 0.0000 seconds\n"
     ]
    },
    {
     "data": {
      "text/plain": [
       "3628800"
      ]
     },
     "execution_count": 1,
     "metadata": {},
     "output_type": "execute_result"
    }
   ],
   "source": [
    "import time\n",
    "from functools import wraps\n",
    "\n",
    "def timer(func):\n",
    "    @wraps(func)\n",
    "    def wrapper(*args, **kwargs):\n",
    "        start_time = time.time()\n",
    "        result = func(*args, **kwargs)\n",
    "        end_time = time.time()\n",
    "        print(f\"{func.__name__} executed in {end_time - start_time:.4f} seconds\")\n",
    "        return result\n",
    "    return wrapper\n",
    "\n",
    "@timer\n",
    "def slow_function():\n",
    "    time.sleep(2)\n",
    "    print(\"Function executed\")\n",
    "\n",
    "slow_function()\n",
    "\n",
    "# Example: Using the timer decorator with arguments\n",
    "@timer\n",
    "def factorial(n):\n",
    "    if n == 0 or n == 1:\n",
    "        return 1\n",
    "    else:\n",
    "        return n * factorial(n - 1)\n",
    "\n",
    "factorial(10)"
   ]
  },
  {
   "cell_type": "markdown",
   "metadata": {},
   "source": [
    "## 3. Combining Advanced Concepts"
   ]
  },
  {
   "cell_type": "markdown",
   "metadata": {},
   "source": [
    "### Task 5: Create a Function Composition System\n",
    "\n",
    "Implement a system that allows the composition of multiple functions. This task combines several advanced concepts we've learned, including higher-order functions, `*args`, `**kwargs`, and the `functools.reduce()` function.\n",
    "\n",
    "The system should:\n",
    "1. Accept any number of functions as arguments\n",
    "2. Return a new function that applies these functions in sequence\n",
    "3. Be able to handle functions with different numbers of arguments"
   ]
  },
  {
   "cell_type": "code",
   "execution_count": null,
   "metadata": {},
   "outputs": [],
   "source": [
    "from functools import reduce\n",
    "\n",
    "def compose(*functions):\n",
    "    def composed_function(*args, **kwargs):\n",
    "        def apply_func(f, result):\n",
    "            return f(*result) if isinstance(result, tuple) else f(result)\n",
    "        return reduce(apply_func, functions[::-1], args)\n",
    "    return composed_function\n",
    "\n",
    "# Test functions\n",
    "def add_one(x):\n",
    "    return x + 1\n",
    "\n",
    "def double(x):\n",
    "    return x * 2\n",
    "\n",
    "def square(x):\n",
    "    return x ** 2\n",
    "\n",
    "# Create a composed function\n",
    "composed_func = compose(square, double, add_one)\n",
    "\n",
    "# Test the composed function\n",
    "print(composed_func(3))  # Should compute: square(double(add_one(3))) = 64\n",
    "\n",
    "# Example with functions that take multiple arguments\n",
    "def add(x, y):\n",
    "    return x + y\n",
    "\n",
    "def multiply(x, y):\n",
    "    return x * y\n",
    "\n",
    "composed_multi_arg = compose(square, multiply, add)\n",
    "print(composed_multi_arg(2, 3))  # Should compute: square(multiply(add(2, 3))) = 225"
   ]
  },
  {
   "cell_type": "markdown",
   "metadata": {},
   "source": [
    "## 4. Additional Practice\n",
    "\n",
    "To reinforce the concepts we've learned, let's work through a few more examples that combine multiple advanced function concepts."
   ]
  },
  {
   "cell_type": "markdown",
   "metadata": {},
   "source": [
    "### Example 1: Custom sorting with lambda and `**kwargs`\n",
    "\n",
    "Create a function that sorts a list of dictionaries based on a specified key, with the option to sort in ascending or descending order."
   ]
  },
  {
   "cell_type": "code",
   "execution_count": null,
   "metadata": {},
   "outputs": [],
   "source": [
    "def sort_dicts(dict_list, key, **kwargs):\n",
    "    reverse = kwargs.get('reverse', False)\n",
    "    return sorted(dict_list, key=lambda x: x[key], reverse=reverse)\n",
    "\n",
    "# Test the function\n",
    "people = [\n",
    "    {\"name\": \"Alice\", \"age\": 30},\n",
    "    {\"name\": \"Bob\", \"age\": 25},\n",
    "    {\"name\": \"Charlie\", \"age\": 35}\n",
    "]\n",
    "\n",
    "print(\"Sorted by name:\")\n",
    "print(sort_dicts(people, \"name\"))\n",
    "\n",
    "print(\"\\nSorted by age (descending):\")\n",
    "print(sort_dicts(people, \"age\", reverse=True))"
   ]
  },
  {
   "cell_type": "markdown",
   "metadata": {},
   "source": [
    "### Example 2: Recursive function with memoization\n",
    "\n",
    "Implement a memoized version of the recursive function to calculate the nth number in the Fibonacci sequence."
   ]
  },
  {
   "cell_type": "code",
   "execution_count": null,
   "metadata": {},
   "outputs": [],
   "source": [
    "def memoize(func):\n",
    "    cache = {}\n",
    "    def memoized(*args):\n",
    "        if args not in cache:\n",
    "            cache[args] = func(*args)\n",
    "        return cache[args]\n",
    "    return memoized\n",
    "\n",
    "@memoize\n",
    "def fibonacci(n):\n",
    "    if n < 2:\n",
    "        return n\n",
    "    return fibonacci(n-1) + fibonacci(n-2)\n",
    "\n",
    "# Test the memoized Fibonacci function\n",
    "print([fibonacci(i) for i in range(10)])\n",
    "print(f\"50th Fibonacci number: {fibonacci(50)}\")"
   ]
  },
  {
   "cell_type": "markdown",
   "metadata": {},
   "source": [
    "### Example 3: Higher-order function for creating custom math operations\n",
    "\n",
    "Create a higher-order function that generates custom mathematical operations based on a given formula."
   ]
  },
  {
   "cell_type": "code",
   "execution_count": null,
   "metadata": {},
   "outputs": [],
   "source": [
    "def create_math_operation(formula):\n",
    "    def operation(*args):\n",
    "        return formula(*args)\n",
    "    return operation\n",
    "\n",
    "# Create some custom operations\n",
    "average = create_math_operation(lambda *args: sum(args) / len(args))\n",
    "geometric_mean = create_math_operation(lambda *args: (reduce(lambda x, y: x * y, args)) ** (1/len(args)))\n",
    "\n",
    "# Test the custom operations\n",
    "numbers = [2, 4, 6, 8, 10]\n",
    "print(f\"Average: {average(*numbers)}\")\n",
    "print(f\"Geometric Mean: {geometric_mean(*numbers)}\")"
   ]
  },
  {
   "cell_type": "markdown",
   "metadata": {},
   "source": [
    "## Conclusion\n",
    "\n",
    "In this class, we've covered advanced function concepts including `**kwargs`, lambda functions, recursion, and higher-order functions. We've also introduced dictionaries to support our understanding of `**kwargs`. The tasks and examples provided will help reinforce these concepts through practical application.\n",
    "\n",
    "Key takeaways:\n",
    "1. `**kwargs` allows functions to accept arbitrary keyword arguments, providing flexibility in function definitions.\n",
    "2. Lambda functions are useful for creating short, anonymous functions, often used with higher-order functions.\n",
    "3. Recursion is a powerful technique for solving problems that can be broken down into smaller, similar sub-problems.\n",
    "4. Higher-order functions can accept functions as arguments or return functions, enabling more abstract and reusable code.\n",
    "5. These advanced concepts can be combined to create powerful and flexible Python programs.\n",
    "\n",
    "Remember, mastering these advanced concepts is crucial for becoming proficient in Python programming. They allow you to write more flexible, reusable, and efficient code. Practice implementing these concepts in your own projects to solidify your understanding.\n",
    "\n",
    "In our next class, we'll dive deeper into Python's data structures and explore more advanced topics. Keep practicing, and happy coding!"
   ]
  }
 ],
 "metadata": {
  "kernelspec": {
   "display_name": "Python 3",
   "language": "python",
   "name": "python3"
  },
  "language_info": {
   "codemirror_mode": {
    "name": "ipython",
    "version": 3
   },
   "file_extension": ".py",
   "mimetype": "text/x-python",
   "name": "python",
   "nbconvert_exporter": "python",
   "pygments_lexer": "ipython3",
   "version": "3.12.6"
  }
 },
 "nbformat": 4,
 "nbformat_minor": 2
}
