{
 "cells": [
  {
   "cell_type": "markdown",
   "metadata": {},
   "source": [
    "### Task 6: Implement Polymorphism\n",
    "\n",
    "Create a simple employee management system that demonstrates polymorphism:\n",
    "\n",
    "1. Create an abstract `Employee` class with methods `calculate_salary()` and `display_info()`.\n",
    "\n",
    "2. Create three subclasses:\n",
    "   - `FullTimeEmployee`: Has attributes for monthly salary and bonus.\n",
    "   - `PartTimeEmployee`: Has attributes for hourly rate and hours worked.\n",
    "   - `ContractEmployee`: Has attributes for contract amount and contract duration.\n",
    "\n",
    "3. Implement the `calculate_salary()` and `display_info()` methods differently for each subclass.\n",
    "\n",
    "4. Create a `PayrollSystem` class with a method `process_payroll(employees)` that takes a list of employees and calls `calculate_salary()` and `display_info()` for each.\n",
    "\n",
    "5. Create instances of each employee type and demonstrate the polymorphic behavior of the `PayrollSystem`."
   ]
  },
  {
   "cell_type": "code",
   "execution_count": null,
   "metadata": {},
   "outputs": [],
   "source": [
    "# your code here"
   ]
  },
  {
   "cell_type": "markdown",
   "metadata": {},
   "source": [
    "### Task 7: Implement Abstraction\n",
    "\n",
    "Create an abstract base class for a simple banking system:\n",
    "\n",
    "1. Create an abstract `BankAccount` class with abstract methods for `deposit()`, `withdraw()`, and `get_balance()`.\n",
    "\n",
    "2. Implement two concrete classes:\n",
    "   - `SavingsAccount`: Has a minimum balance requirement and an interest rate.\n",
    "   - `CheckingAccount`: Has an overdraft limit.\n",
    "\n",
    "3. Implement the abstract methods in both concrete classes, adding appropriate logic (e.g., interest calculation for savings, overdraft handling for checking).\n",
    "\n",
    "4. Create a `Bank` class that can hold multiple accounts and perform operations like transferring money between accounts.\n",
    "\n",
    "5. Demonstrate the use of these classes by creating accounts, performing various transactions, and showing how the abstraction allows for easy addition of new account types."
   ]
  },
  {
   "cell_type": "code",
   "execution_count": null,
   "metadata": {},
   "outputs": [],
   "source": [
    "# your code here"
   ]
  },
  {
   "cell_type": "markdown",
   "metadata": {},
   "source": [
    "### Task 8: Implement Magic Methods\n",
    "\n",
    "Create a `Playlist` class for managing a music playlist. Implement the following magic methods:\n",
    "\n",
    "1. `__init__(self, name)`: Initialize the playlist with a name and an empty list of songs.\n",
    "2. `__str__(self)`: Return a string representation of the playlist (e.g., \"Playlist: My Favorite Songs (10 tracks)\").\n",
    "3. `__repr__(self)`: Return a string that could be used to recreate the playlist object.\n",
    "4. `__len__(self)`: Return the number of songs in the playlist.\n",
    "5. `__getitem__(self, index)`: Allow indexing to retrieve a song from the playlist.\n",
    "6. `__setitem__(self, index, value)`: Allow indexing to replace a song in the playlist.\n",
    "7. `__iter__(self)`: Make the playlist iterable.\n",
    "8. `__add__(self, other)`: Allow adding two playlists together to create a new playlist.\n",
    "9. `__eq__(self, other)`: Define equality comparison between playlists (consider them equal if they have the same songs in the same order).\n",
    "\n",
    "Also, implement regular methods:\n",
    "- `add_song(self, song)`: Add a song to the playlist.\n",
    "- `remove_song(self, song)`: Remove a song from the playlist.\n",
    "- `play(self)`: Generator method that yields each song in the playlist.\n",
    "\n",
    "Create a `Song` class with attributes for title and artist, and implement appropriate magic methods for it as well.\n",
    "\n",
    "Demonstrate the usage of your `Playlist` and `Song` classes, showing how the magic methods allow for intuitive operations on your objects."
   ]
  },
  {
   "cell_type": "code",
   "execution_count": null,
   "metadata": {},
   "outputs": [],
   "source": [
    "# your code here"
   ]
  },
  {
   "cell_type": "markdown",
   "metadata": {},
   "source": [
    "### Task 9: Refactor Using Composition\n",
    "\n",
    "Refactor the following inheritance-based code to use composition instead:"
   ]
  },
  {
   "cell_type": "code",
   "execution_count": null,
   "metadata": {},
   "outputs": [],
   "source": [
    "class Vehicle:\n",
    "    def __init__(self, make, model):\n",
    "        self.make = make\n",
    "        self.model = model\n",
    "\n",
    "    def start_engine(self):\n",
    "        return \"Engine started\"\n",
    "\n",
    "    def stop_engine(self):\n",
    "        return \"Engine stopped\"\n",
    "\n",
    "class Car(Vehicle):\n",
    "    def drive(self):\n",
    "        return \"Car is being driven\"\n",
    "\n",
    "class Boat(Vehicle):\n",
    "    def sail(self):\n",
    "        return \"Boat is sailing\"\n",
    "\n",
    "class AmphibiousVehicle(Car, Boat):\n",
    "    def __init__(self, make, model):\n",
    "        super().__init__(make, model)\n",
    "\n",
    "    def drive_on_land(self):\n",
    "        return self.drive()\n",
    "\n",
    "    def drive_on_water(self):\n",
    "        return self.sail()"
   ]
  },
  {
   "cell_type": "code",
   "execution_count": null,
   "metadata": {},
   "outputs": [],
   "source": [
    "# your code here"
   ]
  }
 ],
 "metadata": {
  "language_info": {
   "name": "python"
  }
 },
 "nbformat": 4,
 "nbformat_minor": 2
}
