{
 "cells": [
  {
   "cell_type": "markdown",
   "metadata": {},
   "source": [
    "# Python 101: Ternary Operator and Functions"
   ]
  },
  {
   "cell_type": "markdown",
   "metadata": {},
   "source": [
    "## Introduction\n",
    "\n",
    "Welcome to the third class of our Python 101 course! In this session, we'll explore two important concepts in Python programming:\n",
    "\n",
    "1. The Ternary Operator\n",
    "2. Functions (Part 1)\n",
    "\n",
    "The ternary operator provides a concise way to write simple conditional statements, while functions are fundamental building blocks that allow us to organize and reuse code efficiently. Let's dive in!"
   ]
  },
  {
   "cell_type": "markdown",
   "metadata": {},
   "source": [
    "## 1. The Ternary Operator\n",
    "\n",
    "The ternary operator, also known as the conditional expression, is a way to write an if-else statement in a single line of code. It's a powerful tool for writing concise and readable code when you need to assign a value based on a condition."
   ]
  },
  {
   "cell_type": "markdown",
   "metadata": {},
   "source": [
    "### Syntax:\n",
    "\n",
    "```python\n",
    "value_if_true if condition else value_if_false\n",
    "```\n",
    "\n",
    "Let's break this down:\n",
    "- `condition` is the expression that is evaluated as either True or False.\n",
    "- `value_if_true` is the value that is returned if the condition is True.\n",
    "- `value_if_false` is the value that is returned if the condition is False."
   ]
  },
  {
   "cell_type": "markdown",
   "metadata": {},
   "source": [
    "### Examples:\n",
    "\n",
    "Let's look at some examples to understand how the ternary operator works in practice."
   ]
  },
  {
   "cell_type": "markdown",
   "metadata": {},
   "source": [
    "#### Example 1: Basic usage"
   ]
  },
  {
   "cell_type": "code",
   "execution_count": 1,
   "metadata": {},
   "outputs": [
    {
     "name": "stdout",
     "output_type": "stream",
     "text": [
      "x is greater than 5\n",
      "x is greater than 5\n"
     ]
    }
   ],
   "source": [
    "# Traditional if-else\n",
    "x = 10\n",
    "if x > 5:\n",
    "    result = \"x is greater than 5\"\n",
    "else:\n",
    "    result = \"x is not greater than 5\"\n",
    "print(result)\n",
    "\n",
    "# Ternary operator\n",
    "x = 10\n",
    "result = \"x is greater than 5\" if x > 5 else \"x is not greater than 5\"\n",
    "print(result)"
   ]
  },
  {
   "cell_type": "code",
   "execution_count": 4,
   "metadata": {},
   "outputs": [
    {
     "name": "stdout",
     "output_type": "stream",
     "text": [
      "Welcome\n"
     ]
    }
   ],
   "source": [
    "y = 11\n",
    "res = \"Hello\" if y == 0 else \"HI\" if y == 1 else \"Welcome\"\n",
    "print(res)"
   ]
  },
  {
   "cell_type": "code",
   "execution_count": 5,
   "metadata": {},
   "outputs": [
    {
     "name": "stdout",
     "output_type": "stream",
     "text": [
      "--\n"
     ]
    }
   ],
   "source": [
    "print(1 if \"5\" == 5 else \"--\")"
   ]
  },
  {
   "cell_type": "code",
   "execution_count": 7,
   "metadata": {},
   "outputs": [
    {
     "name": "stdout",
     "output_type": "stream",
     "text": [
      "[1, 2, 3]\n"
     ]
    }
   ],
   "source": [
    "arr = [1, 2, 3]\n",
    "print(arr)"
   ]
  },
  {
   "cell_type": "markdown",
   "metadata": {},
   "source": [
    "In this example, both approaches produce the same result, but the ternary operator allows us to write it in a single, more concise line."
   ]
  },
  {
   "cell_type": "markdown",
   "metadata": {},
   "source": [
    "#### Example 2: Assigning values"
   ]
  },
  {
   "cell_type": "code",
   "execution_count": 7,
   "metadata": {},
   "outputs": [
    {
     "name": "stdout",
     "output_type": "stream",
     "text": [
      "15 is odd\n",
      "A score of 85 gets a grade of B\n"
     ]
    }
   ],
   "source": [
    "# Determine if a number is even or odd\n",
    "number = 15\n",
    "parity = \"even\" if number % 2 == 0 else \"odd\"\n",
    "print(f\"{number} is {parity}\")\n",
    "\n",
    "# Assign a grade based on a score\n",
    "score = 85\n",
    "grade = \"A\" if score >= 90 else \"B\" if score >= 80 else \"C\" if score >= 70 else \"D\" if score >= 60 else \"F\"\n",
    "print(f\"A score of {score} gets a grade of {grade}\")"
   ]
  },
  {
   "cell_type": "markdown",
   "metadata": {},
   "source": [
    "The second example demonstrates how you can chain multiple conditions, although it's important to note that excessive chaining can reduce readability."
   ]
  },
  {
   "cell_type": "markdown",
   "metadata": {},
   "source": [
    "#### Example 3: Using ternary in a list comprehension"
   ]
  },
  {
   "cell_type": "code",
   "execution_count": 9,
   "metadata": {},
   "outputs": [
    {
     "name": "stdout",
     "output_type": "stream",
     "text": [
      "[1, 2, 3, 4, 5, 6, 7, 8, 9, 10, 11, 12, 13, 14, 15]\n"
     ]
    }
   ],
   "source": [
    "arr = [i for i in range(1, 16) if i % 2 == 0]\n",
    "\n",
    "arr = []\n",
    "for i in range(1, 16):\n",
    "    arr.append(i)\n",
    "    \n",
    "print(arr)"
   ]
  },
  {
   "cell_type": "code",
   "execution_count": 17,
   "metadata": {},
   "outputs": [
    {
     "name": "stdout",
     "output_type": "stream",
     "text": [
      "[1, 2, 'Fizz', 4, 5, 'Fizz', 7, 8, 'Fizz', 10]\n"
     ]
    }
   ],
   "source": [
    "# Create a list of numbers, replacing multiples of 3 with \"Fizz\"\n",
    "numbers = [i if i % 3 != 0 else \"Fizz\" for i in range(1, 11)]\n",
    "print(numbers)\n",
    "\n",
    "number = []\n",
    "for i in range(1, 11):\n",
    "    if i % 3 != 0:\n",
    "        number.append(i)\n",
    "    else:\n",
    "        number.append(\"Fizz\")"
   ]
  },
  {
   "cell_type": "markdown",
   "metadata": {},
   "source": [
    "This example shows how the ternary operator can be used within a list comprehension to conditionally generate list elements."
   ]
  },
  {
   "cell_type": "markdown",
   "metadata": {},
   "source": [
    "### When to Use the Ternary Operator\n",
    "\n",
    "The ternary operator is best used for simple conditional assignments. It can make your code more concise and readable when used appropriately. However, for complex conditions or when you need to execute multiple statements based on a condition, it's often better to use a traditional if-else statement."
   ]
  },
  {
   "cell_type": "markdown",
   "metadata": {},
   "source": [
    "### Task: Ternary Operator Practice\n",
    "\n",
    "Now it's your turn to practice! Complete the following tasks using the ternary operator:\n",
    "\n",
    "1. Write a ternary operator that assigns the string \"minor\" to a variable if an age is less than 18, and \"adult\" otherwise.\n",
    "2. Create a list of numbers from 1 to 10, replacing even numbers with \"even\" and odd numbers with \"odd\" using a list comprehension with a ternary operator."
   ]
  },
  {
   "cell_type": "code",
   "execution_count": null,
   "metadata": {},
   "outputs": [],
   "source": [
    "# Task 1\n",
    "age = 20\n",
    "# Your code here\n",
    "\n",
    "# Task 2\n",
    "# Your code here"
   ]
  },
  {
   "cell_type": "markdown",
   "metadata": {},
   "source": [
    "## 2. Functions (Part 1)\n",
    "\n",
    "Functions are one of the most fundamental and powerful concepts in programming. They allow us to organize our code into reusable blocks, make our programs more modular, and follow the principle of \"Don't Repeat Yourself\" (DRY). Let's dive deeper into the world of functions in Python."
   ]
  },
  {
   "cell_type": "markdown",
   "metadata": {},
   "source": [
    "### 2.1 What is a Function?\n",
    "\n",
    "A function is a block of organized, reusable code that performs a specific task. Functions provide better modularity for your application and a high degree of code reuse. They allow you to:\n",
    "\n",
    "1. Break down complex problems into smaller, manageable parts\n",
    "2. Avoid repetition by encapsulating reusable code\n",
    "3. Improve readability and organization of your code\n",
    "4. Create abstraction, hiding complex implementation details"
   ]
  },
  {
   "cell_type": "code",
   "execution_count": 20,
   "metadata": {},
   "outputs": [
    {
     "name": "stdout",
     "output_type": "stream",
     "text": [
      "hello, world!\n"
     ]
    }
   ],
   "source": [
    "print(\"Hello, World!\".lower())"
   ]
  },
  {
   "cell_type": "markdown",
   "metadata": {},
   "source": [
    "### 2.2 Defining a Function\n",
    "\n",
    "In Python, we define a function using the `def` keyword, followed by the function name and a pair of parentheses `()`. The code block within every function starts with a colon `:` and is indented."
   ]
  },
  {
   "cell_type": "markdown",
   "metadata": {},
   "source": [
    "```python\n",
    "def function_name(parameters):\n",
    "    \"\"\"Docstring describing the function\"\"\"\n",
    "    # Function body\n",
    "    # Code to be executed\n",
    "    return value  # Optional\n",
    "```"
   ]
  },
  {
   "cell_type": "markdown",
   "metadata": {},
   "source": [
    "Let's break this down:\n",
    "- `def` is the keyword used to declare a function.\n",
    "- `function_name` is the name of the function. Choose descriptive names!\n",
    "- `parameters` are input values the function can accept (optional).\n",
    "- The docstring (in triple quotes) is used to describe what the function does.\n",
    "- The function body contains the code to be executed.\n",
    "- `return` is used to specify the output of the function (optional)."
   ]
  },
  {
   "cell_type": "markdown",
   "metadata": {},
   "source": [
    "### 2.3 Function Examples and Explanations\n",
    "\n",
    "Let's go through various examples to understand different aspects of functions in Python."
   ]
  },
  {
   "cell_type": "markdown",
   "metadata": {},
   "source": [
    "#### Example 1: A Simple Function"
   ]
  },
  {
   "cell_type": "code",
   "execution_count": 14,
   "metadata": {},
   "outputs": [
    {
     "name": "stdout",
     "output_type": "stream",
     "text": [
      "Hello, Alice! How are you today?\n",
      "Hello, Bob! How are you today?\n",
      "Hello, John! How are you today?\n",
      "Hello, Doe! How are you today?\n"
     ]
    }
   ],
   "source": [
    "def greet(name):\n",
    "    \"\"\"This function greets the person passed in as a parameter\"\"\"\n",
    "    return f\"Hello, {name}! How are you today?\"\n",
    "\n",
    "# Calling the function\n",
    "message = greet(\"Alice\")\n",
    "print(message)\n",
    "\n",
    "# Calling the function again with a different argument\n",
    "print(greet(\"Bob\"))\n",
    "\n",
    "print(greet(\"John\"))\n",
    "\n",
    "name = \"Doe\"\n",
    "print(greet(name))"
   ]
  },
  {
   "cell_type": "code",
   "execution_count": 18,
   "metadata": {},
   "outputs": [
    {
     "name": "stdout",
     "output_type": "stream",
     "text": [
      "Hello, John! How are you today?\n"
     ]
    }
   ],
   "source": [
    "def greet(name=\"bob\"):\n",
    "    \"\"\"This function greets the person passed in as a parameter\"\"\"\n",
    "    print(f\"Hello, {name}! How are you today?\")\n",
    "    \n",
    "greet(\"John\")"
   ]
  },
  {
   "cell_type": "markdown",
   "metadata": {},
   "source": [
    "In this example:\n",
    "- We define a function called `greet` that takes one parameter, `name`.\n",
    "- The function body consists of a single line that returns a greeting string.\n",
    "- We call the function twice with different arguments (\"Alice\" and \"Bob\").\n",
    "- The `return` statement specifies what the function should output when it's called."
   ]
  },
  {
   "cell_type": "markdown",
   "metadata": {},
   "source": [
    "#### Example 2: Function with Multiple Parameters"
   ]
  },
  {
   "cell_type": "code",
   "execution_count": 19,
   "metadata": {},
   "outputs": [
    {
     "name": "stdout",
     "output_type": "stream",
     "text": [
      "The area of rectangle1 is: 15\n",
      "The area of rectangle2 is: 24\n"
     ]
    }
   ],
   "source": [
    "def calculate_rectangle_area(length, width):\n",
    "    \"\"\"Calculate the area of a rectangle given its length and width\"\"\"\n",
    "    area = length * width\n",
    "    return area\n",
    "\n",
    "# Calling the function\n",
    "rectangle1_area = calculate_rectangle_area(5, 3)\n",
    "print(f\"The area of rectangle1 is: {rectangle1_area}\")\n",
    "\n",
    "# We can also use keyword arguments\n",
    "rectangle2_area = calculate_rectangle_area(width=4, length=6)\n",
    "print(f\"The area of rectangle2 is: {rectangle2_area}\")"
   ]
  },
  {
   "cell_type": "markdown",
   "metadata": {},
   "source": [
    "This function demonstrates:\n",
    "- Multiple parameters: The function takes two parameters, `length` and `width`.\n",
    "- Positional arguments: When we call `calculate_rectangle_area(5, 3)`, 5 is assigned to `length` and 3 to `width` based on their position.\n",
    "- Keyword arguments: We can also specify which value goes with which parameter by name, as in `calculate_rectangle_area(width=4, length=6)`."
   ]
  },
  {
   "cell_type": "markdown",
   "metadata": {},
   "source": [
    "#### Example 3: Function with Default Parameter Values"
   ]
  },
  {
   "cell_type": "code",
   "execution_count": 20,
   "metadata": {},
   "outputs": [
    {
     "name": "stdout",
     "output_type": "stream",
     "text": [
      "9\n",
      "27\n"
     ]
    }
   ],
   "source": [
    "def power(base, exponent=2):\n",
    "    \"\"\"Calculate the result of base raised to the power of exponent\"\"\"\n",
    "    return base ** exponent\n",
    "\n",
    "# Using the default exponent (2)\n",
    "print(power(3))  # 3^2 = 9\n",
    "\n",
    "# Specifying a different exponent\n",
    "print(power(3, 3))  # 3^3 = 27"
   ]
  },
  {
   "cell_type": "code",
   "execution_count": 29,
   "metadata": {},
   "outputs": [
    {
     "name": "stdout",
     "output_type": "stream",
     "text": [
      "25\n"
     ]
    }
   ],
   "source": [
    "def add(a, b):\n",
    "     # 10, 15\n",
    "    return a + b\n",
    "\n",
    "name = 10\n",
    "var2 = 15\n",
    "             # 10, 15\n",
    "result = add(name, var2)\n",
    "print(result)"
   ]
  },
  {
   "cell_type": "markdown",
   "metadata": {},
   "source": [
    "This example shows:\n",
    "- Default parameter values: If no value is provided for `exponent`, it uses the default value of 2.\n",
    "- How to override default values: When we call `power(3, 3)`, we're overriding the default exponent value."
   ]
  },
  {
   "cell_type": "markdown",
   "metadata": {},
   "source": [
    "#### Example 4: Function with Variable Number of Arguments"
   ]
  },
  {
   "cell_type": "code",
   "execution_count": 30,
   "metadata": {},
   "outputs": [
    {
     "name": "stdout",
     "output_type": "stream",
     "text": [
      "150\n"
     ]
    }
   ],
   "source": [
    "arr = [10, 20, 30, 40, 50]\n",
    "total = 0\n",
    "for i in arr:\n",
    "    total += i\n",
    "print(total)"
   ]
  },
  {
   "cell_type": "code",
   "execution_count": 23,
   "metadata": {},
   "outputs": [
    {
     "name": "stdout",
     "output_type": "stream",
     "text": [
      "6\n"
     ]
    }
   ],
   "source": [
    "def sum_all(*args): # list = [10, 20, 30, 40, 50]\n",
    "    \"\"\"Calculate the sum of all numbers passed to the function\"\"\"\n",
    "    total = 0\n",
    "    for num in args:\n",
    "        total += num # total = total + num\n",
    "    return total\n",
    "\n",
    "# Calling the function with different numbers of arguments\n",
    "print(sum_all(1, 2, 3))\n",
    "print(sum_all(10, 20, 30, 40, 50))"
   ]
  },
  {
   "cell_type": "code",
   "execution_count": 31,
   "metadata": {},
   "outputs": [
    {
     "name": "stdout",
     "output_type": "stream",
     "text": [
      "21\n"
     ]
    }
   ],
   "source": [
    "def sum(arr):\n",
    "    total = 0\n",
    "    for i in arr:\n",
    "        total += i\n",
    "    \n",
    "    return total\n",
    "\n",
    "nums = [1, 2, 3, 4, 5, 6]\n",
    "total = sum(nums)\n",
    "print(total)"
   ]
  },
  {
   "cell_type": "markdown",
   "metadata": {},
   "source": [
    "This function demonstrates:\n",
    "- `*args`: This syntax allows the function to accept any number of positional arguments.\n",
    "- Inside the function, `args` is treated as a tuple containing all the arguments.\n",
    "- This is useful when you don't know in advance how many arguments will be passed to your function."
   ]
  },
  {
   "cell_type": "markdown",
   "metadata": {},
   "source": [
    "#### Example 5: Function with Keyword Arguments"
   ]
  },
  {
   "cell_type": "code",
   "execution_count": 2,
   "metadata": {},
   "outputs": [
    {
     "name": "stdout",
     "output_type": "stream",
     "text": [
      "name: Alice\n",
      "age: 30\n",
      "occupation: Engineer\n",
      "city: New York\n",
      "\n"
     ]
    }
   ],
   "source": [
    "def create_profile(**kwargs):\n",
    "    \"\"\"Create a user profile from provided information\"\"\"\n",
    "    profile = \"\"\n",
    "    for key, value in kwargs.items():\n",
    "        profile += f\"{key}: {value}\\n\"\n",
    "    return profile\n",
    "\n",
    "# Calling the function with keyword arguments\n",
    "user_profile = create_profile(name=\"Alice\", age=30, occupation=\"Engineer\", city=\"New York\")\n",
    "print(user_profile)"
   ]
  },
  {
   "cell_type": "markdown",
   "metadata": {},
   "source": [
    "This example shows:\n",
    "- `**kwargs`: This syntax allows the function to accept any number of keyword arguments.\n",
    "- Inside the function, `kwargs` is treated as a dictionary containing all the keyword arguments.\n",
    "- This is useful when you want to allow the user to specify an arbitrary number of named parameters."
   ]
  },
  {
   "cell_type": "markdown",
   "metadata": {},
   "source": [
    "### 2.4 More Advanced Function Concepts"
   ]
  },
  {
   "cell_type": "markdown",
   "metadata": {},
   "source": [
    "#### Scope and Local Variables\n",
    "\n",
    "When you create a variable inside a function, it's local to that function. This concept is called scope.\n"
   ]
  },
  {
   "cell_type": "code",
   "execution_count": null,
   "metadata": {},
   "outputs": [],
   "source": [
    "def demonstrate_scope():\n",
    "    local_var = \"I'm local to this function\"\n",
    "    print(local_var)\n",
    "\n",
    "# demonstrate_scope()\n",
    "# This would raise an error:\n",
    "# print(local_var)"
   ]
  },
  {
   "cell_type": "markdown",
   "metadata": {},
   "source": [
    "#### Global Variables\n",
    "\n",
    "You can use the `global` keyword to declare that a variable inside a function is global."
   ]
  },
  {
   "cell_type": "code",
   "execution_count": 6,
   "metadata": {},
   "outputs": [
    {
     "name": "stdout",
     "output_type": "stream",
     "text": [
      "I'm global\n",
      "I've been modified\n"
     ]
    }
   ],
   "source": [
    "global_var = \"I'm global\"\n",
    "\n",
    "def modify_global():\n",
    "    global global_var\n",
    "    global_var = \"I've been modified\"\n",
    "\n",
    "print(global_var)\n",
    "modify_global()\n",
    "print(global_var)"
   ]
  },
  {
   "cell_type": "code",
   "execution_count": null,
   "metadata": {},
   "outputs": [],
   "source": [
    "for i in range(1, 11):\n",
    "    for j in range(1, 4):\n",
    "        print(j)\n",
    "    print(i)"
   ]
  },
  {
   "cell_type": "markdown",
   "metadata": {},
   "source": [
    "#### Nested Functions\n",
    "\n",
    "You can define functions inside other functions. The inner function is local to the outer function."
   ]
  },
  {
   "cell_type": "code",
   "execution_count": 7,
   "metadata": {},
   "outputs": [
    {
     "name": "stdout",
     "output_type": "stream",
     "text": [
      "15\n"
     ]
    }
   ],
   "source": [
    "def outer_function(x):\n",
    "    def inner_function(y):\n",
    "        return y * 2\n",
    "    z = x + inner_function(x)\n",
    "    return(z)\n",
    "\n",
    "print(outer_function(5))  # Output: 15"
   ]
  },
  {
   "cell_type": "markdown",
   "metadata": {},
   "source": [
    "### 2.5 Additional Examples for Problem Solving"
   ]
  },
  {
   "cell_type": "markdown",
   "metadata": {},
   "source": [
    "#### Example 6: Temperature Converter"
   ]
  },
  {
   "cell_type": "code",
   "execution_count": 8,
   "metadata": {},
   "outputs": [
    {
     "name": "stdout",
     "output_type": "stream",
     "text": [
      "32.0\n",
      "0.0\n"
     ]
    }
   ],
   "source": [
    "def celsius_to_fahrenheit(celsius):\n",
    "    \"\"\"Convert Celsius to Fahrenheit\"\"\"\n",
    "    return (celsius * 9/5) + 32\n",
    "\n",
    "def fahrenheit_to_celsius(fahrenheit):\n",
    "    \"\"\"Convert Fahrenheit to Celsius\"\"\"\n",
    "    return (fahrenheit - 32) * 5/9\n",
    "\n",
    "# Test the functions\n",
    "print(celsius_to_fahrenheit(0))  # Should print 32.0\n",
    "print(fahrenheit_to_celsius(32))  # Should print 0.0"
   ]
  },
  {
   "cell_type": "markdown",
   "metadata": {},
   "source": [
    "## Task: \n",
    "\n",
    "Modify these functions to round the result to 2 decimal places."
   ]
  },
  {
   "cell_type": "code",
   "execution_count": null,
   "metadata": {},
   "outputs": [],
   "source": [
    "# Your code here"
   ]
  },
  {
   "cell_type": "markdown",
   "metadata": {},
   "source": [
    "#### Example 7: Prime Number Checker"
   ]
  },
  {
   "cell_type": "code",
   "execution_count": 43,
   "metadata": {},
   "outputs": [
    {
     "name": "stdout",
     "output_type": "stream",
     "text": [
      "True\n",
      "False\n"
     ]
    }
   ],
   "source": [
    "def is_prime(n):\n",
    "    \"\"\"Check if a number is prime\"\"\"\n",
    "    if n < 2:\n",
    "        return False\n",
    "    for i in range(2, int(n**0.5) + 1):\n",
    "        if n % i == 0:\n",
    "            return False\n",
    "    return True\n",
    "\n",
    "# Test the function\n",
    "print(is_prime(17))  # Should print True\n",
    "print(is_prime(4))   # Should print False"
   ]
  },
  {
   "cell_type": "code",
   "execution_count": 10,
   "metadata": {},
   "outputs": [
    {
     "name": "stdout",
     "output_type": "stream",
     "text": [
      "10\n"
     ]
    }
   ],
   "source": [
    "def foo():\n",
    "    return 10\n",
    "    print(\"hello\")\n",
    "\n",
    "num = foo()\n",
    "print(num)"
   ]
  },
  {
   "cell_type": "markdown",
   "metadata": {},
   "source": [
    "## Task\n",
    "\n",
    " Write a function that returns a list of all prime numbers up to a given number."
   ]
  },
  {
   "cell_type": "code",
   "execution_count": 2,
   "metadata": {},
   "outputs": [
    {
     "name": "stdout",
     "output_type": "stream",
     "text": [
      "[2, 3, 5, 7, 11, 13, 17, 19, 23, 29, 31]\n"
     ]
    }
   ],
   "source": [
    "# Your code here\n",
    "def primes(n):\n",
    "    def is_prime(n):\n",
    "        if n < 2:\n",
    "            return False\n",
    "        for i in range(2, int(n**0.5) + 1):\n",
    "            if n % i == 0:\n",
    "                return False\n",
    "        return True\n",
    "    \n",
    "    arr = []\n",
    "    for i in range(1, n + 1):\n",
    "        if is_prime(i) == True:\n",
    "            arr.append(i)\n",
    "            \n",
    "    return arr\n",
    "\n",
    "\n",
    "print(primes(35))"
   ]
  },
  {
   "cell_type": "code",
   "execution_count": 12,
   "metadata": {},
   "outputs": [
    {
     "name": "stdout",
     "output_type": "stream",
     "text": [
      "!\n",
      "d\n",
      "l\n",
      "r\n",
      "o\n",
      "W\n",
      " \n",
      ",\n",
      "o\n",
      "l\n",
      "l\n",
      "e\n"
     ]
    }
   ],
   "source": [
    "s = \"Hello, World!\"\n",
    "\n",
    "s = list(s)\n",
    "\n",
    "for i in range(len(s) - 1, 0, -1): # start stop step\n",
    "    print(s[i])"
   ]
  },
  {
   "cell_type": "markdown",
   "metadata": {},
   "source": [
    "#### Example 8: Palindrome Checker"
   ]
  },
  {
   "cell_type": "code",
   "execution_count": 14,
   "metadata": {},
   "outputs": [
    {
     "name": "stdout",
     "output_type": "stream",
     "text": [
      "True\n",
      "False\n"
     ]
    }
   ],
   "source": [
    "def is_palindrome(s):\n",
    "    \"\"\"Check if a string is a palindrome\"\"\"\n",
    "    s = s.lower()\n",
    "    return s == s[::-1]\n",
    "# start stop step\n",
    "# Test the function\n",
    "print(is_palindrome(\"racecar\"))  # Should print True\n",
    "print(is_palindrome(\"hello\"))    # Should print False"
   ]
  },
  {
   "cell_type": "code",
   "execution_count": 11,
   "metadata": {},
   "outputs": [
    {
     "data": {
      "text/plain": [
       "True"
      ]
     },
     "execution_count": 11,
     "metadata": {},
     "output_type": "execute_result"
    }
   ],
   "source": [
    "s = \"Hello\"\n",
    "\n",
    "s.isalpha()\n",
    "s.isnumeric()\n",
    "s.isalnum()"
   ]
  },
  {
   "cell_type": "code",
   "execution_count": 14,
   "metadata": {},
   "outputs": [
    {
     "name": "stdout",
     "output_type": "stream",
     "text": [
      "Hello, World!\n",
      "['H', 'e', 'l', 'l', 'o', ',', ' ', 'W', 'o', 'r', 'l', 'd', '!']\n",
      "Hello, World!\n"
     ]
    }
   ],
   "source": [
    "s = \"Hello, World!\"\n",
    "print(s)\n",
    "\n",
    "s = list(s)\n",
    "print(s)\n",
    "\n",
    "s = \"\".join(s)\n",
    "print(s)"
   ]
  },
  {
   "cell_type": "code",
   "execution_count": null,
   "metadata": {},
   "outputs": [],
   "source": [
    "def is_palindrome(s):\n",
    "    \"\"\"Check if a string is a palindrome\"\"\"\n",
    "    # Remove non-alphanumeric characters and convert to lowercase\n",
    "    s = ''.join(c.lower() for c in s if c.isalnum())\n",
    "    return s == s[::-1]\n",
    "\n",
    "# Test the function\n",
    "print(is_palindrome(\"A man, a plan, a canal: Panama\"))  # Should print True\n",
    "print(is_palindrome(\"race a car\"))  # Should print False"
   ]
  },
  {
   "cell_type": "markdown",
   "metadata": {},
   "source": [
    "## Task:\n",
    "\n",
    "Modify this function to work with numbers as well as strings."
   ]
  },
  {
   "cell_type": "code",
   "execution_count": null,
   "metadata": {},
   "outputs": [],
   "source": [
    "# Your code here"
   ]
  },
  {
   "cell_type": "markdown",
   "metadata": {},
   "source": [
    "#### Example 9: Function Composition"
   ]
  },
  {
   "cell_type": "code",
   "execution_count": null,
   "metadata": {},
   "outputs": [],
   "source": [
    "def add_one(x):\n",
    "    return x + 1\n",
    "\n",
    "def multiply_by_two(x):\n",
    "    return x * 2\n",
    "\n",
    "def compose(f, g):\n",
    "    \"\"\"Compose two functions\"\"\"\n",
    "    return lambda x: f(g(x))\n",
    "\n",
    "# Test the function\n",
    "add_then_multiply = compose(multiply_by_two, add_one)\n",
    "print(add_then_multiply(3))  # Should print 8"
   ]
  },
  {
   "cell_type": "markdown",
   "metadata": {},
   "source": [
    "# Function Composition Explanation\n",
    "\n",
    "## Individual Functions\n",
    "\n",
    "### `add_one(x)`\n",
    "```python\n",
    "def add_one(x):\n",
    "    return x + 1\n",
    "```\n",
    "This function takes a number `x` and returns `x + 1`. It simply adds 1 to whatever number is passed to it.\n",
    "\n",
    "### `multiply_by_two(x)`\n",
    "```python\n",
    "def multiply_by_two(x):\n",
    "    return x * 2\n",
    "```\n",
    "This function takes a number `x` and returns `x * 2`. It multiplies the input by 2.\n",
    "\n",
    "## Composition Function\n",
    "\n",
    "### `compose(f, g)`\n",
    "```python\n",
    "def compose(f, g):\n",
    "    \"\"\"Compose two functions\"\"\"\n",
    "    return lambda x: f(g(x))\n",
    "```\n",
    "This is a higher-order function that takes two functions as arguments, `f` and `g`. It returns a new function that applies `g` first, then `f` to the result. The `lambda x: f(g(x))` is an anonymous function that takes an input `x`, applies `g` to it, then applies `f` to the result of `g(x)`.\n",
    "\n",
    "## Usage\n",
    "\n",
    "```python\n",
    "add_then_multiply = compose(multiply_by_two, add_one)\n",
    "print(add_then_multiply(3))  # Should print 8\n",
    "```\n",
    "\n",
    "1. `add_then_multiply = compose(multiply_by_two, add_one)`:\n",
    "   This line creates a new function `add_then_multiply` by composing `multiply_by_two` and `add_one`. It will first add 1 to its input, then multiply the result by 2.\n",
    "\n",
    "2. `print(add_then_multiply(3))`:\n",
    "   This line tests the composed function with the input 3. Here's how it works:\n",
    "   - First, `add_one(3)` is called, which returns 4\n",
    "   - Then, `multiply_by_two(4)` is called, which returns 8\n",
    "   - So the final result is 8, which is what gets printed\n",
    "\n",
    "## Key Concept\n",
    "\n",
    "The key concept here is function composition, where we create a new function by combining two existing functions. This is a powerful technique in functional programming, allowing you to build complex operations from simpler ones."
   ]
  },
  {
   "cell_type": "markdown",
   "metadata": {},
   "source": [
    "## Bonus Task: \n",
    "\n",
    "Write a function that can compose an arbitrary number of functions."
   ]
  },
  {
   "cell_type": "code",
   "execution_count": null,
   "metadata": {},
   "outputs": [],
   "source": [
    "# Youe code here"
   ]
  },
  {
   "cell_type": "markdown",
   "metadata": {},
   "source": [
    "#### Example 10: Recursive Factorial Function"
   ]
  },
  {
   "cell_type": "code",
   "execution_count": null,
   "metadata": {},
   "outputs": [],
   "source": [
    "def factorial(n):\n",
    "    \"\"\"Calculate the factorial of n recursively\"\"\"\n",
    "    if n == 0 or n == 1:\n",
    "        return 1\n",
    "    else:\n",
    "        return n * factorial(n-1)\n",
    "\n",
    "# Test the function\n",
    "print(factorial(5))  # Should print 120"
   ]
  },
  {
   "cell_type": "markdown",
   "metadata": {},
   "source": [
    "## Task:\n",
    "\n",
    "Implement an iterative version of the factorial function and compare its performance with the recursive version for large numbers."
   ]
  },
  {
   "cell_type": "code",
   "execution_count": null,
   "metadata": {},
   "outputs": [],
   "source": [
    "# your code here"
   ]
  },
  {
   "cell_type": "markdown",
   "metadata": {},
   "source": [
    "### 2.6 Practice Tasks\n",
    "\n",
    "1. Write a function called `calculate_discount` that takes the original price and a discount percentage as parameters. The function should return the final price after applying the discount. Use a default value of 10% for the discount if not provided.\n",
    "\n",
    "2. Create a function called `print_args` that can accept any number of positional and keyword arguments, and prints them out with their types.\n",
    "\n",
    "3. Write a function that takes a list of numbers and returns a new list containing only the even numbers from the original list.\n",
    "\n",
    "4. Create a function that simulates a simple calculator. It should take two numbers and an operator (+, -, *, /) as input, and return the result of the operation.\n",
    "\n",
    "5. Implement a function that takes a string and returns a dictionary containing the count of each character in the string."
   ]
  },
  {
   "cell_type": "code",
   "execution_count": null,
   "metadata": {},
   "outputs": [],
   "source": [
    "# Your code here for the practice tasks"
   ]
  },
  {
   "cell_type": "markdown",
   "metadata": {},
   "source": [
    "## Conclusion\n",
    "\n",
    "In this expanded class on functions, we've covered a wide range of topics:\n",
    "\n",
    "- Basic function definition and calling\n",
    "- Functions with multiple parameters\n",
    "- Default parameter values\n",
    "- Variable number of arguments (*args)\n",
    "- Keyword arguments (**kwargs)\n",
    "- Scope and local variables\n",
    "- Global variables\n",
    "- Nested functions"
   ]
  },
  {
   "cell_type": "markdown",
   "metadata": {},
   "source": [
    "We've also provided several additional examples and tasks for in-class problem solving, which will help reinforce these concepts through practical application."
   ]
  },
  {
   "cell_type": "markdown",
   "metadata": {},
   "source": [
    "In our next class, we'll continue to explore more advanced function concepts, including lambda functions, higher-order functions, and decorators. We'll also delve into how functions play a crucial role in functional programming paradigms in Python."
   ]
  },
  {
   "cell_type": "markdown",
   "metadata": {},
   "source": [
    "Remember, mastering functions is key to becoming proficient in Python programming. They are the building blocks of modular, reusable, and efficient code. Practice creating and using functions in various scenarios to become comfortable with these concepts."
   ]
  },
  {
   "cell_type": "markdown",
   "metadata": {},
   "source": [
    "Happy coding, and see you in the next class!"
   ]
  }
 ],
 "metadata": {
  "kernelspec": {
   "display_name": "Python 3",
   "language": "python",
   "name": "python3"
  },
  "language_info": {
   "codemirror_mode": {
    "name": "ipython",
    "version": 3
   },
   "file_extension": ".py",
   "mimetype": "text/x-python",
   "name": "python",
   "nbconvert_exporter": "python",
   "pygments_lexer": "ipython3",
   "version": "3.12.6"
  }
 },
 "nbformat": 4,
 "nbformat_minor": 2
}
