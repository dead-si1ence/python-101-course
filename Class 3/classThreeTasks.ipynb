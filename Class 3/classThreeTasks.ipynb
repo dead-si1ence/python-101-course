{
 "cells": [
  {
   "cell_type": "markdown",
   "metadata": {},
   "source": [
    "### Task 3: Loop Control Statements\n",
    "\n",
    "Now it's your turn to practice! Write a program that does the following:\n",
    "\n",
    "1. Use a `for` loop to iterate through numbers 1 to 20.\n",
    "2. If the number is divisible by 3, print \"Fizz\" instead of the number.\n",
    "3. If the number is divisible by 5, print \"Buzz\" instead of the number.\n",
    "4. If the number is divisible by both 3 and 5, print \"FizzBuzz\".\n",
    "5. Use a `continue` statement to skip printing numbers that are not divisible by 3 or 5.\n",
    "6. Use a `break` statement to exit the loop if you encounter the number 18.\n",
    "7. Add an `else` clause to print \"Loop completed\" if the loop finishes without encountering a `break`.\n",
    "\n",
    "Here's a starter code for you:"
   ]
  },
  {
   "cell_type": "code",
   "execution_count": null,
   "metadata": {},
   "outputs": [],
   "source": [
    "# Your code here\n",
    "for num in range(1, 21):\n",
    "    # Your logic here\n",
    "    pass  # Replace this with your code\n",
    "\n",
    "# Don't forget the else clause for the loop"
   ]
  },
  {
   "cell_type": "markdown",
   "metadata": {},
   "source": [
    "### Task: Ternary Operator Practice\n",
    "\n",
    "Now it's your turn to practice! Complete the following tasks using the ternary operator:\n",
    "\n",
    "1. Write a ternary operator that assigns the string \"minor\" to a variable if an age is less than 18, and \"adult\" otherwise.\n",
    "2. Create a list of numbers from 1 to 10, replacing even numbers with \"even\" and odd numbers with \"odd\" using a list comprehension with a ternary operator."
   ]
  },
  {
   "cell_type": "code",
   "execution_count": null,
   "metadata": {},
   "outputs": [],
   "source": [
    "# Task 1\n",
    "age = 20\n",
    "# Your code here\n",
    "\n",
    "# Task 2\n",
    "# Your code here"
   ]
  },
  {
   "cell_type": "markdown",
   "metadata": {},
   "source": [
    "#### Example 6: Temperature Converter"
   ]
  },
  {
   "cell_type": "code",
   "execution_count": null,
   "metadata": {},
   "outputs": [],
   "source": [
    "def celsius_to_fahrenheit(celsius):\n",
    "    \"\"\"Convert Celsius to Fahrenheit\"\"\"\n",
    "    return (celsius * 9/5) + 32\n",
    "\n",
    "def fahrenheit_to_celsius(fahrenheit):\n",
    "    \"\"\"Convert Fahrenheit to Celsius\"\"\"\n",
    "    return (fahrenheit - 32) * 5/9\n",
    "\n",
    "# Test the functions\n",
    "print(celsius_to_fahrenheit(0))  # Should print 32.0\n",
    "print(fahrenheit_to_celsius(32))  # Should print 0.0"
   ]
  },
  {
   "cell_type": "markdown",
   "metadata": {},
   "source": [
    "## Task: \n",
    "\n",
    "Modify the above functions to round the result to 2 decimal places."
   ]
  },
  {
   "cell_type": "code",
   "execution_count": null,
   "metadata": {},
   "outputs": [],
   "source": [
    "# Your code here"
   ]
  },
  {
   "cell_type": "markdown",
   "metadata": {},
   "source": [
    "## Task\n",
    "\n",
    " Write a function that returns a list of all prime numbers up to a given number."
   ]
  },
  {
   "cell_type": "code",
   "execution_count": null,
   "metadata": {},
   "outputs": [],
   "source": [
    "# Your code here"
   ]
  }
 ],
 "metadata": {
  "language_info": {
   "name": "python"
  }
 },
 "nbformat": 4,
 "nbformat_minor": 2
}
