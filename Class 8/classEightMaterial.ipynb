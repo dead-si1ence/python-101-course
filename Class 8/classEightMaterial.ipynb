{
 "cells": [
  {
   "cell_type": "markdown",
   "metadata": {},
   "source": [
    "# Python 101: Object-Oriented Programming"
   ]
  },
  {
   "cell_type": "markdown",
   "metadata": {},
   "source": [
    "## Table of Contents\n",
    "1. [Introduction to oop](#Introduction-to-Object-Oriented-Programming-(OOP))\n",
    "2. [Classes and Objects](#classes-and-objects)\n",
    "3. [Attributes and Methods](#attributes-and-methods)\n",
    "4. [The __init__() Method (Constructor)](#the-init-method-constructor)\n",
    "5. [Encapsulation](#encapsulation)\n",
    "6. [Inheritance](#inheritance)\n",
    "7. [Polymorphism](#polymorphism)\n",
    "8. [Abstraction](#abstraction)\n",
    "9. [Magic Methods / Dunder Methods](#magic-methods--dunder-methods)\n",
    "10. [Composition vs Inheritance](#composition-vs-inheritance)\n",
    "11. [Review](#review)"
   ]
  },
  {
   "cell_type": "markdown",
   "metadata": {},
   "source": [
    "## Introduction to Object-Oriented Programming (OOP)\n",
    "\n",
    "Object-Oriented Programming (OOP) is a programming paradigm that organizes software design around data, or objects, rather than functions and logic. An object can be defined as a data field that has unique attributes and behavior. OOP focuses on the objects that developers want to manipulate rather than the logic required to manipulate them.\n",
    "\n",
    "Key concepts in OOP include:\n",
    "\n",
    "1. **Objects**: Instances of classes that contain data and code.\n",
    "2. **Classes**: Blueprints or templates for creating objects.\n",
    "3. **Encapsulation**: The bundling of data and the methods that operate on that data.\n",
    "4. **Inheritance**: The ability to create new classes based on existing classes.\n",
    "5. **Polymorphism**: The provision of a single interface to entities of different types.\n",
    "6. **Abstraction**: The process of hiding complex implementation details and showing only the necessary features of an object.\n",
    "\n",
    "OOP offers several advantages:\n",
    "\n",
    "- **Modularity**: Encapsulation allows objects to be self-contained, making troubleshooting and collaborative development easier.\n",
    "- **Reusability**: Through inheritance, you can reuse code from existing classes.\n",
    "- **Flexibility and extensibility**: Polymorphism allows for the addition of new classes without changing existing code.\n",
    "- **Data hiding**: The encapsulation of data within objects protects the integrity of that data.\n",
    "\n",
    "Python is an object-oriented programming language, which means it supports OOP principles natively. In this lesson, we'll explore how to implement these OOP concepts in Python, providing you with a solid foundation for writing efficient, organized, and maintainable code."
   ]
  },
  {
   "cell_type": "markdown",
   "metadata": {},
   "source": [
    "## Classes and Objects"
   ]
  },
  {
   "cell_type": "markdown",
   "metadata": {},
   "source": [
    "### Definition of a Class and Object\n",
    "\n",
    "In object-oriented programming (OOP), a class is a blueprint for creating objects. It defines a set of attributes and methods that the objects of that class will have. An object is an instance of a class, representing a specific entity with its own set of data and behaviors."
   ]
  },
  {
   "cell_type": "markdown",
   "metadata": {},
   "source": [
    "### How to Create a Class\n",
    "\n",
    "To create a class in Python, we use the `class` keyword followed by the class name. By convention, class names in Python use CamelCase."
   ]
  },
  {
   "cell_type": "code",
   "execution_count": null,
   "metadata": {},
   "outputs": [],
   "source": [
    "class Car:\n",
    "    pass  # We'll add attributes and methods later"
   ]
  },
  {
   "cell_type": "markdown",
   "metadata": {},
   "source": [
    "### Instantiating Objects from a Class\n",
    "\n",
    "To create an object (instance) of a class, we call the class name as if it were a function."
   ]
  },
  {
   "cell_type": "code",
   "execution_count": null,
   "metadata": {},
   "outputs": [],
   "source": [
    "my_car = Car()\n",
    "my_car_2 = Car()"
   ]
  },
  {
   "cell_type": "markdown",
   "metadata": {},
   "source": [
    "### Example: Creating a Simple Class\n",
    "\n",
    "Let's create a more detailed `Car` class with some attributes and a method."
   ]
  },
  {
   "cell_type": "code",
   "execution_count": 10,
   "metadata": {},
   "outputs": [],
   "source": [
    "class Car():\n",
    "    def __init__(self, make, model, year):\n",
    "        self.make = make\n",
    "        self.model = model\n",
    "        self.year = year\n",
    "        self.speed = 0\n",
    "\n",
    "    def accelerate(self, increment):\n",
    "        self.speed += increment\n",
    "        print(f\"The {self.year} {self.make} {self.model} is now going {self.speed} mph.\")\n",
    "    \n",
    "    def get_name(self):\n",
    "        print(self.make)\n",
    "        "
   ]
  },
  {
   "cell_type": "code",
   "execution_count": 9,
   "metadata": {},
   "outputs": [
    {
     "name": "stdout",
     "output_type": "stream",
     "text": [
      "The 2022 Toyota Corolla is now going 30 mph.\n",
      "The 2023 Honda Civic is now going 25 mph.\n",
      "Toyota\n",
      "Honda\n"
     ]
    }
   ],
   "source": [
    "# Creating instances of the Car class\n",
    "my_car = Car(\"Toyota\", \"Corolla\", 2022)\n",
    "your_car = Car(\"Honda\", \"Civic\", 2023)\n",
    "\n",
    "# Using the accelerate method\n",
    "my_car.accelerate(30)\n",
    "your_car.accelerate(25)\n",
    "\n",
    "my_car.get_name()\n",
    "your_car.get_name()"
   ]
  },
  {
   "cell_type": "markdown",
   "metadata": {},
   "source": [
    "### Task 1: Create a Class\n",
    "\n",
    "Create a `Book` class with attributes for title, author, and publication year. Include a method `get_age()` that returns how many years old the book is. Then create two instances of the `Book` class and print out their ages."
   ]
  },
  {
   "cell_type": "code",
   "execution_count": null,
   "metadata": {},
   "outputs": [],
   "source": [
    "# your code here"
   ]
  },
  {
   "cell_type": "markdown",
   "metadata": {},
   "source": [
    "## Attributes and Methods"
   ]
  },
  {
   "cell_type": "markdown",
   "metadata": {},
   "source": [
    "### Instance Attributes\n",
    "\n",
    "Instance attributes are variables that hold data unique to each instance of a class. They are defined inside the `__init__` method and are accessed using the `self` keyword."
   ]
  },
  {
   "cell_type": "code",
   "execution_count": null,
   "metadata": {},
   "outputs": [],
   "source": [
    "class Dog:\n",
    "    def __init__(self, name, breed):\n",
    "        self.name = name  # Instance attribute\n",
    "        self.breed = breed  # Instance attribute"
   ]
  },
  {
   "cell_type": "markdown",
   "metadata": {},
   "source": [
    "### Class Attributes\n",
    "\n",
    "Class attributes are shared among all instances of a class. They are defined outside of any method in the class."
   ]
  },
  {
   "cell_type": "code",
   "execution_count": null,
   "metadata": {},
   "outputs": [],
   "source": [
    "class Dog:\n",
    "    species = \"Canis familiaris\"  # Class attribute\n",
    "\n",
    "    def __init__(self, name, breed):\n",
    "        self.name = name\n",
    "        self.breed = breed"
   ]
  },
  {
   "cell_type": "markdown",
   "metadata": {},
   "source": [
    "### Instance Methods\n",
    "\n",
    "Instance methods are functions defined inside a class that can access and modify instance attributes. They always take `self` as the first parameter."
   ]
  },
  {
   "cell_type": "code",
   "execution_count": null,
   "metadata": {},
   "outputs": [],
   "source": [
    "class Dog:\n",
    "    def __init__(self, name, breed):\n",
    "        self.name = name\n",
    "        self.breed = breed\n",
    "\n",
    "    def bark(self):  # Instance method\n",
    "        print(f\"{self.name} says Woof!\")"
   ]
  },
  {
   "cell_type": "markdown",
   "metadata": {},
   "source": [
    "### Class Methods\n",
    "\n",
    "Class methods are methods that are bound to the class rather than its instances. They are defined using the `@classmethod` decorator and take `cls` as their first parameter instead of `self`."
   ]
  },
  {
   "cell_type": "code",
   "execution_count": 14,
   "metadata": {},
   "outputs": [],
   "source": [
    "class Dog:\n",
    "    count = 0\n",
    "\n",
    "    def __init__(self, name, breed):\n",
    "        self.name = name\n",
    "        self.breed = breed\n",
    "        Dog.count += 1\n",
    "\n",
    "    @classmethod\n",
    "    def get_dog_count(cls):\n",
    "        return cls.count"
   ]
  },
  {
   "cell_type": "code",
   "execution_count": 15,
   "metadata": {},
   "outputs": [
    {
     "data": {
      "text/plain": [
       "4"
      ]
     },
     "execution_count": 15,
     "metadata": {},
     "output_type": "execute_result"
    }
   ],
   "source": [
    "d1 = Dog(\"x\", \"y\")\n",
    "d2 = Dog(\"x\", \"y\")\n",
    "d3 = Dog(\"x\", \"y\")\n",
    "d4 = Dog(\"x\", \"y\")\n",
    "\n",
    "Dog.get_dog_count()"
   ]
  },
  {
   "cell_type": "markdown",
   "metadata": {},
   "source": [
    "### Static Methods\n",
    "\n",
    "Static methods are methods that don't operate on instance or class attributes. They are defined using the `@staticmethod` decorator and don't take `self` or `cls` as a first parameter."
   ]
  },
  {
   "cell_type": "code",
   "execution_count": 16,
   "metadata": {},
   "outputs": [],
   "source": [
    "class MathOperations:\n",
    "    @staticmethod\n",
    "    def add(x, y):\n",
    "        return x + y"
   ]
  },
  {
   "cell_type": "markdown",
   "metadata": {},
   "source": [
    "### Example: Using Different Types of Methods"
   ]
  },
  {
   "cell_type": "code",
   "execution_count": 17,
   "metadata": {},
   "outputs": [],
   "source": [
    "class Circle:\n",
    "    pi = 3.14159  # Class attribute\n",
    "\n",
    "    def __init__(self, radius):\n",
    "        self.radius = radius  # Instance attribute\n",
    "\n",
    "    def area(self):  # Instance method\n",
    "        return self.pi * self.radius ** 2\n",
    "\n",
    "    @classmethod\n",
    "    def from_diameter(cls, diameter):  # Class method\n",
    "        return cls(diameter / 2)\n",
    "\n",
    "    @staticmethod\n",
    "    def is_valid_radius(radius):  # Static method\n",
    "        return radius > 0"
   ]
  },
  {
   "cell_type": "code",
   "execution_count": 19,
   "metadata": {},
   "outputs": [
    {
     "name": "stdout",
     "output_type": "stream",
     "text": [
      "Area of circle1: 78.53975\n",
      "Radius of circle2: 5.0\n",
      "Is 3 a valid radius? True\n"
     ]
    }
   ],
   "source": [
    "# Using the Circle class\n",
    "circle1 = Circle(5)\n",
    "print(f\"Area of circle1: {circle1.area()}\")\n",
    "\n",
    "circle2 = Circle.from_diameter(10)\n",
    "print(f\"Radius of circle2: {circle2.radius}\")\n",
    "\n",
    "print(f\"Is 3 a valid radius? {Circle.is_valid_radius(3)}\")"
   ]
  },
  {
   "cell_type": "markdown",
   "metadata": {},
   "source": [
    "### Task 2: Implement Different Types of Methods\n",
    "\n",
    "Create a `BankAccount` class with the following:\n",
    "- Instance attributes: `account_number` and `balance`\n",
    "- Class attribute: `interest_rate`\n",
    "- Instance method: `deposit(amount)` and `withdraw(amount)`\n",
    "- Class method: `set_interest_rate(new_rate)`\n",
    "- Static method: `validate_amount(amount)` that checks if an amount is positive\n",
    "\n",
    "Create a few instances of `BankAccount`, perform some transactions, and demonstrate the use of all methods."
   ]
  },
  {
   "cell_type": "code",
   "execution_count": null,
   "metadata": {},
   "outputs": [],
   "source": [
    "# your code here"
   ]
  },
  {
   "cell_type": "markdown",
   "metadata": {},
   "source": [
    "## The `__init__()` Method (Constructor)\n",
    "\n",
    "The `__init__()` method is a special method in Python classes, also known as a constructor. It's automatically called when a new instance of the class is created."
   ]
  },
  {
   "cell_type": "markdown",
   "metadata": {},
   "source": [
    "### Initializing Object Attributes\n",
    "\n",
    "The primary purpose of the `__init__()` method is to initialize the attributes of a newly created object. It's where you set the initial state of the object."
   ]
  },
  {
   "cell_type": "code",
   "execution_count": null,
   "metadata": {},
   "outputs": [],
   "source": [
    "class Person:\n",
    "    def __init__(self, name, age):\n",
    "        self.name = name\n",
    "        self.age = age"
   ]
  },
  {
   "cell_type": "markdown",
   "metadata": {},
   "source": [
    "### Role of Constructors in Object Creation\n",
    "\n",
    "Constructors play a crucial role in object creation:\n",
    "1. They are automatically called when a new object is instantiated.\n",
    "2. They set up the initial state of the object.\n",
    "3. They can perform any setup actions the object needs before it's ready for use."
   ]
  },
  {
   "cell_type": "markdown",
   "metadata": {},
   "source": [
    "### Example: Complex Constructor\n",
    "\n",
    "Let's create a more complex example to demonstrate the power of constructors:"
   ]
  },
  {
   "cell_type": "code",
   "execution_count": 22,
   "metadata": {},
   "outputs": [],
   "source": [
    "import datetime\n",
    "\n",
    "class Employee:\n",
    "    def __init__(self, name, position, start_date, salary):\n",
    "        self.name = name\n",
    "        self.position = position\n",
    "        self.start_date = datetime.datetime.strptime(start_date, \"%Y-%m-%d\").date()\n",
    "        self.salary = salary\n",
    "        self.years_worked = self.calculate_years_worked()\n",
    "\n",
    "    def calculate_years_worked(self):\n",
    "        today = datetime.date.today()\n",
    "        return (today - self.start_date).days // 365\n",
    "\n",
    "    def __str__(self):\n",
    "        return f\"{self.name}, {self.position}, Working for {self.years_worked} years\""
   ]
  },
  {
   "cell_type": "code",
   "execution_count": 23,
   "metadata": {},
   "outputs": [
    {
     "name": "stdout",
     "output_type": "stream",
     "text": [
      "John Doe, Software Engineer, Working for 6 years\n"
     ]
    }
   ],
   "source": [
    "# Creating an Employee object\n",
    "john = Employee(\"John Doe\", \"Software Engineer\", \"2018-05-15\", 75000)\n",
    "print(john)"
   ]
  },
  {
   "cell_type": "markdown",
   "metadata": {},
   "source": [
    "In this example, the constructor not only initializes the basic attributes but also calculates the years worked based on the start date."
   ]
  },
  {
   "cell_type": "markdown",
   "metadata": {},
   "source": [
    "### Task 3: Create a Class with a Complex Constructor\n",
    "\n",
    "Create a `Library` class with the following specifications:\n",
    "- The constructor should take a name for the library and a list of books (each book is a dictionary with 'title' and 'author' keys).\n",
    "- Initialize attributes for the library name, the list of books, and the number of books.\n",
    "- In the constructor, create a dictionary where keys are authors and values are lists of their books in the library.\n",
    "- Add a method to display all books by a given author.\n",
    "\n",
    "Create an instance of the `Library` class and demonstrate its functionality."
   ]
  },
  {
   "cell_type": "code",
   "execution_count": null,
   "metadata": {},
   "outputs": [],
   "source": [
    "# your code here"
   ]
  },
  {
   "cell_type": "markdown",
   "metadata": {},
   "source": [
    "## Encapsulation\n",
    "\n",
    "Encapsulation is one of the fundamental principles of OOP. It refers to the bundling of data and the methods that operate on that data within a single unit (class). This concept is used to hide the internal representation of an object from the outside."
   ]
  },
  {
   "cell_type": "markdown",
   "metadata": {},
   "source": [
    "### Public and Private Members\n",
    "\n",
    "In Python, we use naming conventions to indicate the access level of a class's attributes and methods:\n",
    "\n",
    "- Public members: Accessible from outside the class. No special syntax (e.g., `self.attribute`).\n",
    "- Private members: Should not be accessed from outside the class. Use double underscores (e.g., `self.__attribute`)."
   ]
  },
  {
   "cell_type": "code",
   "execution_count": 26,
   "metadata": {},
   "outputs": [],
   "source": [
    "class BankAccount:\n",
    "    def __init__(self, owner, balance):\n",
    "        self.owner = owner  # Public attribute\n",
    "        self.__balance = balance  # Private attribute\n",
    "\n",
    "    def deposit(self, amount):\n",
    "        if amount > 0:\n",
    "            self.__balance += amount\n",
    "            return True\n",
    "        return False\n",
    "\n",
    "    def withdraw(self, amount):\n",
    "        if 0 < amount <= self.__balance:\n",
    "            self.__balance -= amount\n",
    "            return True\n",
    "        return False\n",
    "\n",
    "    def get_balance(self):\n",
    "        return self.__balance"
   ]
  },
  {
   "cell_type": "markdown",
   "metadata": {},
   "source": [
    "In this example, `__balance` is a private attribute that can't be directly accessed or modified from outside the class."
   ]
  },
  {
   "cell_type": "markdown",
   "metadata": {},
   "source": [
    "### Property Decorators (Getters and Setters)\n",
    "\n",
    "Python provides property decorators to give special functionality to certain methods to make them act as getters, setters, or deleters for a specific attribute."
   ]
  },
  {
   "cell_type": "code",
   "execution_count": 27,
   "metadata": {},
   "outputs": [],
   "source": [
    "class Circle:\n",
    "    def __init__(self, radius):\n",
    "        self.__radius = radius\n",
    "\n",
    "    @property\n",
    "    def radius(self):\n",
    "        return self.__radius\n",
    "\n",
    "    @radius.setter\n",
    "    def radius(self, value):\n",
    "        if value > 0:\n",
    "            self.__radius = value\n",
    "        else:\n",
    "            raise ValueError(\"Radius must be positive\")\n",
    "\n",
    "    @property\n",
    "    def area(self):\n",
    "        return 3.14 * self.__radius ** 2"
   ]
  },
  {
   "cell_type": "code",
   "execution_count": 29,
   "metadata": {},
   "outputs": [
    {
     "name": "stdout",
     "output_type": "stream",
     "text": [
      "5\n",
      "314.0\n"
     ]
    }
   ],
   "source": [
    "# Using the Circle class\n",
    "circle = Circle(5)\n",
    "print(circle.radius)  # Calls the getter\n",
    "circle.radius = 10  # Calls the setter\n",
    "print(circle.area)  # Calls the getter"
   ]
  },
  {
   "cell_type": "markdown",
   "metadata": {},
   "source": [
    "In this example, `radius` is a property that allows controlled access to the private `__radius` attribute. The `area` property is read-only (it only has a getter)."
   ]
  },
  {
   "cell_type": "markdown",
   "metadata": {},
   "source": [
    "### Example: Encapsulation in Practice\n",
    "\n",
    "Let's create a more complex example to demonstrate encapsulation:"
   ]
  },
  {
   "cell_type": "code",
   "execution_count": null,
   "metadata": {},
   "outputs": [],
   "source": [
    "class Employee:\n",
    "    def __init__(self, name, salary):\n",
    "        self.name = name\n",
    "        self.__salary = salary\n",
    "        self.__performance_rating = None\n",
    "\n",
    "    @property\n",
    "    def salary(self):\n",
    "        return self.__salary\n",
    "\n",
    "    @salary.setter\n",
    "    def salary(self, new_salary):\n",
    "        if new_salary > self.__salary:\n",
    "            self.__salary = new_salary\n",
    "        else:\n",
    "            print(\"New salary must be higher than current salary.\")\n",
    "\n",
    "    def set_performance_rating(self, rating):\n",
    "        if 1 <= rating <= 5:\n",
    "            self.__performance_rating = rating\n",
    "        else:\n",
    "            print(\"Rating must be between 1 and 5.\")\n",
    "\n",
    "    def give_raise(self):\n",
    "        if self.__performance_rating is None:\n",
    "            print(\"Performance rating not set. Cannot give raise.\")\n",
    "        elif self.__performance_rating >= 4:\n",
    "            self.salary *= 1.1  # 10% raise\n",
    "        elif self.__performance_rating >= 3:\n",
    "            self.salary *= 1.05  # 5% raise\n",
    "        else:\n",
    "            print(\"No raise given due to low performance rating.\")"
   ]
  },
  {
   "cell_type": "code",
   "execution_count": null,
   "metadata": {},
   "outputs": [],
   "source": [
    "# Using the Employee class\n",
    "emp = Employee(\"Alice\", 50000)\n",
    "print(f\"Initial salary: {emp.salary}\")\n",
    "\n",
    "emp.salary = 45000  # Attempt to lower salary\n",
    "print(f\"Salary after attempted decrease: {emp.salary}\")\n",
    "\n",
    "emp.set_performance_rating(4)\n",
    "emp.give_raise()\n",
    "print(f\"Salary after raise: {emp.salary}\")"
   ]
  },
  {
   "cell_type": "markdown",
   "metadata": {},
   "source": [
    "This example demonstrates encapsulation by:\n",
    "1. Using private attributes (`__salary` and `__performance_rating`).\n",
    "2. Providing controlled access through properties and methods.\n",
    "3. Implementing business logic (e.g., raise calculations) within the class."
   ]
  },
  {
   "cell_type": "markdown",
   "metadata": {},
   "source": [
    "### Task 4: Implement Encapsulation\n",
    "\n",
    "Create a `Student` class with the following specifications:\n",
    "- Private attributes for name, age, and grades (a list of grades)\n",
    "- A property for name that allows reading but not writing\n",
    "- A property for age that allows reading and writing, but raises a ValueError if the new age is less than the current age\n",
    "- Methods to add a grade, calculate GPA, and display student information\n",
    "\n",
    "Create an instance of the `Student` class and demonstrate all its functionalities, including trying to set an invalid age."
   ]
  },
  {
   "cell_type": "code",
   "execution_count": null,
   "metadata": {},
   "outputs": [],
   "source": [
    "# your code here"
   ]
  },
  {
   "cell_type": "markdown",
   "metadata": {},
   "source": [
    "## Inheritance\n",
    "\n",
    "Inheritance is a fundamental concept in OOP that allows a new class to be based on an existing class. The new class inherits attributes and methods from the existing class."
   ]
  },
  {
   "cell_type": "markdown",
   "metadata": {},
   "source": [
    "### Single Inheritance\n",
    "\n",
    "In single inheritance, a class inherits from a single parent class."
   ]
  },
  {
   "cell_type": "code",
   "execution_count": 30,
   "metadata": {},
   "outputs": [],
   "source": [
    "class Animal:\n",
    "    def __init__(self, species):\n",
    "        self.species = species\n",
    "\n",
    "    def make_sound(self):\n",
    "        pass\n",
    "    \n",
    "    def foo(self):\n",
    "        pass\n",
    "\n",
    "class Dog(Animal):\n",
    "    def __init__(self, name):\n",
    "        super().__init__(\"Canine\")\n",
    "        self.name = name\n",
    "\n",
    "    def make_sound(self):\n",
    "        return \"Woof!\"\n"
   ]
  },
  {
   "cell_type": "code",
   "execution_count": 31,
   "metadata": {},
   "outputs": [
    {
     "name": "stdout",
     "output_type": "stream",
     "text": [
      "Buddy is a Canine and says Woof!\n"
     ]
    }
   ],
   "source": [
    "# Using the classes\n",
    "dog = Dog(\"Buddy\")\n",
    "print(f\"{dog.name} is a {dog.species} and says {dog.make_sound()}\")"
   ]
  },
  {
   "cell_type": "markdown",
   "metadata": {},
   "source": [
    "### Multiple Inheritance\n",
    "\n",
    "Python supports multiple inheritance, where a class can inherit from more than one parent class."
   ]
  },
  {
   "cell_type": "code",
   "execution_count": 35,
   "metadata": {},
   "outputs": [],
   "source": [
    "class Flyer:\n",
    "    def fly(self):\n",
    "        return \"I can fly!\"\n",
    "\n",
    "class Swimmer:\n",
    "    def swim(self):\n",
    "        return \"I can swim!\"\n",
    "\n",
    "class Duck(Animal, Flyer, Swimmer):\n",
    "    def __init__(self, name):\n",
    "        Animal.__init__(self, \"Aves\")\n",
    "        self.name = name\n",
    "\n",
    "    def make_sound(self):\n",
    "        return \"Quack!\""
   ]
  },
  {
   "cell_type": "code",
   "execution_count": 39,
   "metadata": {},
   "outputs": [
    {
     "name": "stdout",
     "output_type": "stream",
     "text": [
      "Donald says: Quack!\n",
      "Donald says: I can fly!\n",
      "Donald says: I can swim!\n"
     ]
    }
   ],
   "source": [
    "# Using the Duck class\n",
    "duck = Duck(\"Donald\")\n",
    "print(f\"{duck.name} says: {duck.make_sound()}\")\n",
    "print(f\"{duck.name} says: {duck.fly()}\")\n",
    "print(f\"{duck.name} says: {duck.swim()}\")"
   ]
  },
  {
   "cell_type": "markdown",
   "metadata": {},
   "source": [
    "### The `super()` Function\n",
    "\n",
    "The `super()` function is used to call methods from the parent class. It's particularly useful in the `__init__` method to ensure proper initialization of the parent class."
   ]
  },
  {
   "cell_type": "code",
   "execution_count": 40,
   "metadata": {},
   "outputs": [],
   "source": [
    "class ElectricCar(Car):\n",
    "    def __init__(self, make, model, year, battery_capacity):\n",
    "        super().__init__(make, model, year)\n",
    "        self.battery_capacity = battery_capacity\n",
    "\n",
    "    def describe(self):\n",
    "        return f\"{super().describe()}, Battery: {self.battery_capacity} kWh\""
   ]
  },
  {
   "cell_type": "markdown",
   "metadata": {},
   "source": [
    "### Method Overriding\n",
    "\n",
    "Method overriding occurs when a child class provides a specific implementation for a method that is already defined in its parent class."
   ]
  },
  {
   "cell_type": "code",
   "execution_count": 41,
   "metadata": {},
   "outputs": [],
   "source": [
    "class Shape:\n",
    "    def area(self):\n",
    "        pass\n",
    "\n",
    "class Circle(Shape):\n",
    "    def __init__(self, radius):\n",
    "        self.radius = radius\n",
    "\n",
    "    def area(self):\n",
    "        return 3.14 * self.radius ** 2\n",
    "\n",
    "class Rectangle(Shape):\n",
    "    def __init__(self, width, height):\n",
    "        self.width = width\n",
    "        self.height = height\n",
    "\n",
    "    def area(self):\n",
    "        return self.width * self.height"
   ]
  },
  {
   "cell_type": "code",
   "execution_count": 43,
   "metadata": {},
   "outputs": [
    {
     "name": "stdout",
     "output_type": "stream",
     "text": [
      "Circle area: 78.5\n",
      "Rectangle area: 24\n"
     ]
    }
   ],
   "source": [
    "# Using the classes\n",
    "circle = Circle(5)\n",
    "rectangle = Rectangle(4, 6)\n",
    "\n",
    "print(f\"Circle area: {circle.area()}\")\n",
    "print(f\"Rectangle area: {rectangle.area()}\")"
   ]
  },
  {
   "cell_type": "markdown",
   "metadata": {},
   "source": [
    "### Example: Complex Inheritance Scenario\n",
    "\n",
    "Let's create a more complex example to demonstrate various aspects of inheritance:"
   ]
  },
  {
   "cell_type": "code",
   "execution_count": 44,
   "metadata": {},
   "outputs": [],
   "source": [
    "class Vehicle:\n",
    "    def __init__(self, make, model, year):\n",
    "        self.make = make\n",
    "        self.model = model\n",
    "        self.year = year\n",
    "\n",
    "    def start_engine(self):\n",
    "        return \"The vehicle's engine is starting...\"\n",
    "\n",
    "class ElectricVehicle(Vehicle):\n",
    "    def __init__(self, make, model, year, battery_capacity):\n",
    "        super().__init__(make, model, year)\n",
    "        self.battery_capacity = battery_capacity\n",
    "\n",
    "    def start_engine(self):\n",
    "        return \"The electric vehicle's motor is starting silently...\"\n",
    "\n",
    "    def charge(self):\n",
    "        return f\"Charging the {self.battery_capacity} kWh battery.\"\n",
    "\n",
    "class GasVehicle(Vehicle):\n",
    "    def __init__(self, make, model, year, fuel_type):\n",
    "        super().__init__(make, model, year)\n",
    "        self.fuel_type = fuel_type\n",
    "\n",
    "    def refuel(self):\n",
    "        return f\"Refueling with {self.fuel_type}.\"\n",
    "\n",
    "class HybridVehicle(ElectricVehicle, GasVehicle):\n",
    "    def __init__(self, make, model, year, battery_capacity, fuel_type):\n",
    "        ElectricVehicle.__init__(self, make, model, year, battery_capacity)\n",
    "        GasVehicle.__init__(self, make, model, year, fuel_type)\n",
    "\n",
    "    def start_engine(self):\n",
    "        return \"The hybrid vehicle is starting using both electric motor and gas engine.\""
   ]
  },
  {
   "cell_type": "code",
   "execution_count": null,
   "metadata": {},
   "outputs": [],
   "source": [
    "vehicles = [\n",
    "    Vehicle(\"Generic\", \"Model\", 2022),\n",
    "    ElectricVehicle(\"Tesla\", \"Model 3\", 2023, 75),\n",
    "    GasVehicle(\"Toyota\", \"Camry\", 2022, \"Gasoline\"),\n",
    "    HybridVehicle(\"Toyota\", \"Prius\", 2023, 8.8, \"Gasoline\")\n",
    "]\n",
    "\n",
    "for vehicle in vehicles:\n",
    "    print(f\"\\n{vehicle.__class__.__name__}:\")\n",
    "    print(f\"Make: {vehicle.make}, Model: {vehicle.model}, Year: {vehicle.year}\")\n",
    "    print(vehicle.start_engine())\n",
    "    \n",
    "    if isinstance(vehicle, ElectricVehicle):\n",
    "        print(vehicle.charge())\n",
    "    \n",
    "    if isinstance(vehicle, GasVehicle):\n",
    "        print(vehicle.refuel())\n"
   ]
  },
  {
   "cell_type": "markdown",
   "metadata": {},
   "source": [
    "This example demonstrates:\n",
    "1. Single inheritance (`ElectricVehicle` and `GasVehicle` inheriting from `Vehicle`)\n",
    "2. Multiple inheritance (`HybridVehicle` inheriting from both `ElectricVehicle` and `GasVehicle`)\n",
    "3. Method overriding (`start_engine` method in each subclass)\n",
    "4. Use of `super()` to call the parent class constructor\n",
    "5. Polymorphism (treating different vehicle types uniformly in the loop)"
   ]
  },
  {
   "cell_type": "markdown",
   "metadata": {},
   "source": [
    "### Task 5: Implement a Complex Inheritance Structure\n",
    "\n",
    "Create a class hierarchy for a simple role-playing game with the following specifications:\n",
    "\n",
    "1. Create a base `Character` class with attributes for name, level, and health. Include methods for `level_up()` and `take_damage(amount)`.\n",
    "\n",
    "2. Create three subclasses of `Character`:\n",
    "   - `Warrior`: Has an additional `strength` attribute and a `battle_cry()` method.\n",
    "   - `Mage`: Has an additional `mana` attribute and a `cast_spell(spell_name)` method.\n",
    "   - `Archer`: Has an additional `dexterity` attribute and a `shoot_arrow()` method.\n",
    "\n",
    "3. Create a `Boss` class that inherits from `Character` and has an additional `minion_count` attribute and a `summon_minions()` method.\n",
    "\n",
    "4. Implement a `battle(character1, character2)` function that simulates a simple battle between two characters.\n",
    "\n",
    "5. Create instances of each class and demonstrate their unique attributes and methods, as well as their inherited capabilities. Then, simulate battles between different character types."
   ]
  },
  {
   "cell_type": "code",
   "execution_count": null,
   "metadata": {},
   "outputs": [],
   "source": [
    "# your code here"
   ]
  },
  {
   "cell_type": "markdown",
   "metadata": {},
   "source": [
    "## Polymorphism\n",
    "\n",
    "Polymorphism is the ability of different classes to be treated as instances of the same class through inheritance. It allows you to use a single interface with different underlying forms (data types or classes). In Python, polymorphism is closely related to duck typing."
   ]
  },
  {
   "cell_type": "markdown",
   "metadata": {},
   "source": [
    "### Method Overloading (Alternatives in Python)\n",
    "\n",
    "Python doesn't support method overloading in the traditional sense, but we can achieve similar functionality using default arguments or variable-length arguments."
   ]
  },
  {
   "cell_type": "code",
   "execution_count": null,
   "metadata": {},
   "outputs": [],
   "source": [
    "class MathOperations:\n",
    "    def add(self, x, y=0, z=0):\n",
    "        return x + y + z"
   ]
  },
  {
   "cell_type": "code",
   "execution_count": null,
   "metadata": {},
   "outputs": [],
   "source": [
    "math_ops = MathOperations()\n",
    "print(math_ops.add(5))        # 5\n",
    "print(math_ops.add(5, 10))    # 15\n",
    "print(math_ops.add(5, 10, 15)) # 30"
   ]
  },
  {
   "cell_type": "markdown",
   "metadata": {},
   "source": [
    "### Method Overriding\n",
    "\n",
    "Method overriding occurs when a subclass provides a specific implementation for a method that is already defined in its superclass."
   ]
  },
  {
   "cell_type": "code",
   "execution_count": 45,
   "metadata": {},
   "outputs": [],
   "source": [
    "class Animal:\n",
    "    def speak(self):\n",
    "        return \"Some sound\"\n",
    "\n",
    "class Dog(Animal):\n",
    "    def speak(self):\n",
    "        return \"Woof!\"\n",
    "\n",
    "class Cat(Animal):\n",
    "    def speak(self):\n",
    "        return \"Meow!\"\n",
    "\n",
    "def animal_sound(animal):\n",
    "    print(animal.speak())"
   ]
  },
  {
   "cell_type": "code",
   "execution_count": 46,
   "metadata": {},
   "outputs": [
    {
     "name": "stdout",
     "output_type": "stream",
     "text": [
      "Some sound\n",
      "Woof!\n",
      "Meow!\n"
     ]
    }
   ],
   "source": [
    "# Using polymorphism\n",
    "animal_sound(Animal())  # Some sound\n",
    "animal_sound(Dog())     # Woof!\n",
    "animal_sound(Cat())     # Meow!"
   ]
  },
  {
   "cell_type": "markdown",
   "metadata": {},
   "source": [
    "### Example: Polymorphism in Practice\n",
    "\n",
    "Let's create a more complex example to demonstrate polymorphism:"
   ]
  },
  {
   "cell_type": "code",
   "execution_count": null,
   "metadata": {},
   "outputs": [],
   "source": [
    "from abc import ABC, abstractmethod\n",
    "\n",
    "class Shape(ABC):\n",
    "    @abstractmethod\n",
    "    def area(self):\n",
    "        pass\n",
    "\n",
    "    @abstractmethod\n",
    "    def perimeter(self):\n",
    "        pass\n",
    "\n",
    "class Circle(Shape):\n",
    "    def __init__(self, radius):\n",
    "        self.radius = radius\n",
    "\n",
    "    def area(self):\n",
    "        return 3.14 * self.radius ** 2\n",
    "\n",
    "    def perimeter(self):\n",
    "        return 2 * 3.14 * self.radius\n",
    "\n",
    "class Rectangle(Shape):\n",
    "    def __init__(self, width, height):\n",
    "        self.width = width\n",
    "        self.height = height\n",
    "\n",
    "    def area(self):\n",
    "        return self.width * self.height\n",
    "\n",
    "    def perimeter(self):\n",
    "        return 2 * (self.width + self.height)\n",
    "\n",
    "class Triangle(Shape):\n",
    "    def __init__(self, a, b, c):\n",
    "        self.a = a\n",
    "        self.b = b\n",
    "        self.c = c\n",
    "\n",
    "    def area(self):\n",
    "        # Using Heron's formula\n",
    "        s = (self.a + self.b + self.c) / 2\n",
    "        return (s * (s - self.a) * (s - self.b) * (s - self.c)) ** 0.5\n",
    "\n",
    "    def perimeter(self):\n",
    "        return self.a + self.b + self.c\n",
    "\n",
    "def print_shape_info(shape):\n",
    "    print(f\"Shape: {shape.__class__.__name__}\")\n",
    "    print(f\"Area: {shape.area():.2f}\")\n",
    "    print(f\"Perimeter: {shape.perimeter():.2f}\\n\")"
   ]
  },
  {
   "cell_type": "code",
   "execution_count": null,
   "metadata": {},
   "outputs": [],
   "source": [
    "# Using polymorphism\n",
    "shapes = [\n",
    "    Circle(5),\n",
    "    Rectangle(4, 6),\n",
    "    Triangle(3, 4, 5)\n",
    "]\n",
    "\n",
    "for shape in shapes:\n",
    "    print_shape_info(shape)"
   ]
  },
  {
   "cell_type": "markdown",
   "metadata": {},
   "source": [
    "This example demonstrates polymorphism through:\n",
    "1. An abstract base class `Shape` defining a common interface.\n",
    "2. Different implementations of `area()` and `perimeter()` methods in each subclass.\n",
    "3. The `print_shape_info()` function that works with any `Shape` object."
   ]
  },
  {
   "cell_type": "markdown",
   "metadata": {},
   "source": [
    "### Task 6: Implement Polymorphism\n",
    "\n",
    "Create a simple employee management system that demonstrates polymorphism:\n",
    "\n",
    "1. Create an abstract `Employee` class with methods `calculate_salary()` and `display_info()`.\n",
    "\n",
    "2. Create three subclasses:\n",
    "   - `FullTimeEmployee`: Has attributes for monthly salary and bonus.\n",
    "   - `PartTimeEmployee`: Has attributes for hourly rate and hours worked.\n",
    "   - `ContractEmployee`: Has attributes for contract amount and contract duration.\n",
    "\n",
    "3. Implement the `calculate_salary()` and `display_info()` methods differently for each subclass.\n",
    "\n",
    "4. Create a `PayrollSystem` class with a method `process_payroll(employees)` that takes a list of employees and calls `calculate_salary()` and `display_info()` for each.\n",
    "\n",
    "5. Create instances of each employee type and demonstrate the polymorphic behavior of the `PayrollSystem`."
   ]
  },
  {
   "cell_type": "code",
   "execution_count": null,
   "metadata": {},
   "outputs": [],
   "source": [
    "# your code here"
   ]
  },
  {
   "cell_type": "markdown",
   "metadata": {},
   "source": [
    "## Abstraction\n",
    "\n",
    "Abstraction is the process of hiding the complex implementation details and showing only the necessary features of an object. It helps in reducing programming complexity and effort."
   ]
  },
  {
   "cell_type": "markdown",
   "metadata": {},
   "source": [
    "### The ABC Library: A Simple Explanation\n",
    "\n",
    "The `abc` module in Python stands for Abstract Base Classes. It provides infrastructure for defining abstract base classes in Python. But what does this mean in simpler terms?\n",
    "\n",
    "Think of an abstract base class as a blueprint for other classes. It's like a template that defines a set of methods that must be implemented by any concrete class that inherits from it. The ABC library helps you create these blueprints and enforce their usage.\n",
    "\n",
    "Here's why the ABC library is useful:\n",
    "\n",
    "1. **Defining a common interface**: It allows you to define a common interface (set of methods) that derived classes must implement.\n",
    "\n",
    "2. **Preventing instantiation**: Abstract base classes can't be instantiated directly, which helps avoid creating objects of incomplete types.\n",
    "\n",
    "3. **Ensuring implementation**: It ensures that any class inheriting from an abstract base class implements all the abstract methods defined in the base class.\n",
    "\n",
    "Here's a simple example of how to use the ABC library:"
   ]
  },
  {
   "cell_type": "code",
   "execution_count": null,
   "metadata": {},
   "outputs": [],
   "source": [
    "from abc import ABC, abstractmethod\n",
    "\n",
    "class Animal(ABC):\n",
    "    @abstractmethod\n",
    "    def make_sound(self):\n",
    "        pass\n",
    "\n",
    "class Dog(Animal):\n",
    "    def make_sound(self):\n",
    "        return \"Woof!\"\n",
    "\n",
    "class Cat(Animal):\n",
    "    def make_sound(self):\n",
    "        return \"Meow!\""
   ]
  },
  {
   "cell_type": "code",
   "execution_count": null,
   "metadata": {},
   "outputs": [],
   "source": [
    "# This works\n",
    "dog = Dog()\n",
    "print(dog.make_sound())  # Output: Woof!\n",
    "\n",
    "# This raises an error\n",
    "# animal = Animal()  # TypeError: Can't instantiate abstract class Animal with abstract method make_sound\n",
    "\n",
    "# This also raises an error\n",
    "# class Incomplete(Animal):\n",
    "#     pass\n",
    "# incomplete = Incomplete()  # TypeError: Can't instantiate abstract class Incomplete with abstract method make_sound"
   ]
  },
  {
   "cell_type": "markdown",
   "metadata": {},
   "source": [
    "In this example:\n",
    "- We import `ABC` and `abstractmethod` from the `abc` module.\n",
    "- We create an abstract base class `Animal` that inherits from `ABC`.\n",
    "- We define an abstract method `make_sound` using the `@abstractmethod` decorator.\n",
    "- We create concrete classes `Dog` and `Cat` that inherit from `Animal` and implement the `make_sound` method.\n",
    "- We can create instances of `Dog` and `Cat`, but not of `Animal`.\n",
    "- If we tried to create a class that inherits from `Animal` without implementing `make_sound`, Python would raise an error when we try to instantiate it.\n",
    "\n",
    "The ABC library helps ensure that if a class is supposed to have certain methods, it actually implements them. This can prevent bugs and make your code more robust and self-documenting."
   ]
  },
  {
   "cell_type": "markdown",
   "metadata": {},
   "source": [
    "### Abstract Classes\n",
    "\n",
    "Abstract classes are classes that contain one or more abstract methods. An abstract method is a method that is declared, but contains no implementation. Abstract classes cannot be instantiated, and require subclasses to provide implementations for the abstract methods.\n",
    "\n",
    "In Python, we use the `abc` (Abstract Base Classes) module to define abstract classes and methods."
   ]
  },
  {
   "cell_type": "markdown",
   "metadata": {},
   "source": [
    "### Using the abc Module\n",
    "\n",
    "Here's an example of how to use the `abc` module to create abstract classes:"
   ]
  },
  {
   "cell_type": "code",
   "execution_count": null,
   "metadata": {},
   "outputs": [],
   "source": [
    "from abc import ABC, abstractmethod\n",
    "\n",
    "class Animal(ABC):\n",
    "    @abstractmethod\n",
    "    def make_sound(self):\n",
    "        pass\n",
    "\n",
    "    @abstractmethod\n",
    "    def move(self):\n",
    "        pass\n",
    "\n",
    "class Dog(Animal):\n",
    "    def make_sound(self):\n",
    "        return \"Woof!\"\n",
    "\n",
    "    def move(self):\n",
    "        return \"Running on four legs\"\n",
    "\n",
    "class Bird(Animal):\n",
    "    def make_sound(self):\n",
    "        return \"Chirp!\"\n",
    "\n",
    "    def move(self):\n",
    "        return \"Flying with wings\""
   ]
  },
  {
   "cell_type": "code",
   "execution_count": null,
   "metadata": {},
   "outputs": [],
   "source": [
    "# Using the classes\n",
    "dog = Dog()\n",
    "bird = Bird()\n",
    "\n",
    "print(dog.make_sound(), dog.move())\n",
    "print(bird.make_sound(), bird.move())\n",
    "\n",
    "# This will raise an error:\n",
    "# animal = Animal()  # TypeError: Can't instantiate abstract class Animal with abstract methods make_sound, move"
   ]
  },
  {
   "cell_type": "markdown",
   "metadata": {},
   "source": [
    "### Example: Abstraction in Practice\n",
    "\n",
    "Let's create a more complex example to demonstrate abstraction:"
   ]
  },
  {
   "cell_type": "code",
   "execution_count": null,
   "metadata": {},
   "outputs": [],
   "source": [
    "from abc import ABC, abstractmethod\n",
    "\n",
    "class Vehicle(ABC):\n",
    "    @abstractmethod\n",
    "    def start_engine(self):\n",
    "        pass\n",
    "\n",
    "    @abstractmethod\n",
    "    def stop_engine(self):\n",
    "        pass\n",
    "\n",
    "    @abstractmethod\n",
    "    def fuel_up(self):\n",
    "        pass\n",
    "\n",
    "class Car(Vehicle):\n",
    "    def __init__(self, fuel_type):\n",
    "        self.fuel_type = fuel_type\n",
    "        self.fuel_level = 0\n",
    "\n",
    "    def start_engine(self):\n",
    "        if self.fuel_level > 0:\n",
    "            return \"Car engine started.\"\n",
    "        return \"Not enough fuel to start the engine.\"\n",
    "\n",
    "    def stop_engine(self):\n",
    "        return \"Car engine stopped.\"\n",
    "\n",
    "    def fuel_up(self):\n",
    "        self.fuel_level = 100\n",
    "        return f\"Car fueled up with {self.fuel_type}. Fuel level: {self.fuel_level}%\"\n",
    "\n",
    "class ElectricCar(Vehicle):\n",
    "    def __init__(self):\n",
    "        self.battery_level = 0\n",
    "\n",
    "    def start_engine(self):\n",
    "        if self.battery_level > 0:\n",
    "            return \"Electric car motor started.\"\n",
    "        return \"Not enough charge to start the motor.\"\n",
    "\n",
    "    def stop_engine(self):\n",
    "        return \"Electric car motor stopped.\"\n",
    "\n",
    "    def fuel_up(self):\n",
    "        self.battery_level = 100\n",
    "        return f\"Electric car charged. Battery level: {self.battery_level}%\""
   ]
  },
  {
   "cell_type": "code",
   "execution_count": null,
   "metadata": {},
   "outputs": [],
   "source": [
    "# Function to demonstrate abstraction\n",
    "def use_vehicle(vehicle):\n",
    "    print(vehicle.fuel_up())\n",
    "    print(vehicle.start_engine())\n",
    "    print(vehicle.stop_engine())\n",
    "    print()\n",
    "\n",
    "# Using the classes\n",
    "car = Car(\"Gasoline\")\n",
    "electric_car = ElectricCar()\n",
    "\n",
    "use_vehicle(car)\n",
    "use_vehicle(electric_car)"
   ]
  },
  {
   "cell_type": "markdown",
   "metadata": {},
   "source": [
    "This example demonstrates abstraction through:\n",
    "1. An abstract base class `Vehicle` that defines the interface for all vehicles.\n",
    "2. Concrete implementations in `Car` and `ElectricCar` classes.\n",
    "3. The `use_vehicle()` function that works with any `Vehicle` object, demonstrating the power of abstraction."
   ]
  },
  {
   "cell_type": "markdown",
   "metadata": {},
   "source": [
    "### Task 7: Implement Abstraction\n",
    "\n",
    "Create an abstract base class for a simple banking system:\n",
    "\n",
    "1. Create an abstract `BankAccount` class with abstract methods for `deposit()`, `withdraw()`, and `get_balance()`.\n",
    "\n",
    "2. Implement two concrete classes:\n",
    "   - `SavingsAccount`: Has a minimum balance requirement and an interest rate.\n",
    "   - `CheckingAccount`: Has an overdraft limit.\n",
    "\n",
    "3. Implement the abstract methods in both concrete classes, adding appropriate logic (e.g., interest calculation for savings, overdraft handling for checking).\n",
    "\n",
    "4. Create a `Bank` class that can hold multiple accounts and perform operations like transferring money between accounts.\n",
    "\n",
    "5. Demonstrate the use of these classes by creating accounts, performing various transactions, and showing how the abstraction allows for easy addition of new account types."
   ]
  },
  {
   "cell_type": "code",
   "execution_count": null,
   "metadata": {},
   "outputs": [],
   "source": [
    "# your code here"
   ]
  },
  {
   "cell_type": "markdown",
   "metadata": {},
   "source": [
    "## Magic Methods / Dunder Methods\n",
    "\n",
    "Magic methods, also known as dunder methods (double underscore methods), are special methods in Python that have double underscores before and after their names. These methods allow you to define how objects of your class behave in various situations."
   ]
  },
  {
   "cell_type": "markdown",
   "metadata": {},
   "source": [
    "### Common Magic Methods\n",
    "\n",
    "Here are some commonly used magic methods:\n",
    "\n",
    "1. `__init__(self, ...)`: Constructor method.\n",
    "2. `__str__(self)`: Returns a string representation of the object for end-users.\n",
    "3. `__repr__(self)`: Returns a string representation of the object for developers.\n",
    "4. `__len__(self)`: Defines behavior for the `len()` function.\n",
    "5. `__getitem__(self, key)`: Defines behavior for indexing operations.\n",
    "6. `__setitem__(self, key, value)`: Defines behavior for assigning to an indexed value.\n",
    "7. `__iter__(self)`: Makes an object iterable.\n",
    "8. `__eq__(self, other)`: Defines behavior for the equality operator, `==`.\n",
    "9. `__lt__(self, other)`: Defines behavior for the less-than operator, `<`.\n",
    "10. `__add__(self, other)`: Defines behavior for the addition operator, `+`."
   ]
  },
  {
   "cell_type": "markdown",
   "metadata": {},
   "source": [
    "### Operator Overloading Using Magic Methods\n",
    "\n",
    "Magic methods allow you to define how operators work with objects of your class. This is known as operator overloading."
   ]
  },
  {
   "cell_type": "code",
   "execution_count": null,
   "metadata": {},
   "outputs": [],
   "source": [
    "class Point:\n",
    "    def __init__(self, x, y):\n",
    "        self.x = x\n",
    "        self.y = y\n",
    "\n",
    "    def __str__(self):\n",
    "        return f\"Point({self.x}, {self.y})\"\n",
    "\n",
    "    def __add__(self, other):\n",
    "        return Point(self.x + other.x, self.y + other.y)\n",
    "\n",
    "    def __sub__(self, other):\n",
    "        return Point(self.x - other.x, self.y - other.y)\n",
    "\n",
    "    def __eq__(self, other):\n",
    "        return self.x == other.x and self.y == other.y"
   ]
  },
  {
   "cell_type": "code",
   "execution_count": null,
   "metadata": {},
   "outputs": [],
   "source": [
    "# Using the Point class\n",
    "p1 = Point(1, 2)\n",
    "p2 = Point(3, 4)\n",
    "\n",
    "print(p1)  # Point(1, 2)\n",
    "print(p1 + p2)  # Point(4, 6)\n",
    "print(p2 - p1)  # Point(2, 2)\n",
    "print(p1 == Point(1, 2))  # True"
   ]
  },
  {
   "cell_type": "markdown",
   "metadata": {},
   "source": [
    "### Example: Magic Methods in Practice\n",
    "\n",
    "Let's create a more complex example to demonstrate the use of magic methods:"
   ]
  },
  {
   "cell_type": "code",
   "execution_count": null,
   "metadata": {},
   "outputs": [],
   "source": [
    "class Book:\n",
    "    def __init__(self, title, author, pages):\n",
    "        self.title = title\n",
    "        self.author = author\n",
    "        self.pages = pages\n",
    "        self.current_page = 0\n",
    "\n",
    "    def __str__(self):\n",
    "        return f\"'{self.title}' by {self.author}\"\n",
    "\n",
    "    def __repr__(self):\n",
    "        return f\"Book('{self.title}', '{self.author}', {self.pages})\"\n",
    "\n",
    "    def __len__(self):\n",
    "        return self.pages\n",
    "\n",
    "    def __getitem__(self, page):\n",
    "        if 1 <= page <= self.pages:\n",
    "            return f\"Content of page {page}\"\n",
    "        else:\n",
    "            raise IndexError(\"Page number out of range\")\n",
    "\n",
    "    def __iter__(self):\n",
    "        return self\n",
    "\n",
    "    def __next__(self):\n",
    "        if self.current_page >= self.pages:\n",
    "            raise StopIteration\n",
    "        self.current_page += 1\n",
    "        return self[self.current_page]\n",
    "\n",
    "    def __eq__(self, other):\n",
    "        if isinstance(other, Book):\n",
    "            return self.title == other.title and self.author == other.author\n",
    "        return False\n",
    "\n",
    "    def __lt__(self, other):\n",
    "        if isinstance(other, Book):\n",
    "            return len(self) < len(other)\n",
    "        return False\n",
    "\n",
    "class Library:\n",
    "    def __init__(self):\n",
    "        self.books = []\n",
    "\n",
    "    def add_book(self, book):\n",
    "        self.books.append(book)\n",
    "\n",
    "    def __len__(self):\n",
    "        return len(self.books)\n",
    "\n",
    "    def __getitem__(self, index):\n",
    "        return self.books[index]\n",
    "\n",
    "    def __iter__(self):\n",
    "        return iter(self.books)"
   ]
  },
  {
   "cell_type": "code",
   "execution_count": null,
   "metadata": {},
   "outputs": [],
   "source": [
    "# Using the Book and Library classes\n",
    "book1 = Book(\"Python 101\", \"John Doe\", 200)\n",
    "book2 = Book(\"OOP Mastery\", \"Jane Smith\", 300)\n",
    "book3 = Book(\"Python 101\", \"John Doe\", 200)\n",
    "\n",
    "print(book1)  # 'Python 101' by John Doe\n",
    "print(repr(book2))  # Book('OOP Mastery', 'Jane Smith', 300)\n",
    "print(len(book1))  # 200\n",
    "print(book1[10])  # Content of page 10\n",
    "print(book1 == book3)  # True\n",
    "print(book1 < book2)  # True\n",
    "\n",
    "library = Library()\n",
    "library.add_book(book1)\n",
    "library.add_book(book2)\n",
    "\n",
    "print(len(library))  # 2\n",
    "\n",
    "for book in library:\n",
    "    print(book)\n",
    "\n",
    "# Iterating through pages of a book\n",
    "book = Book(\"Short Story\", \"Alice Brown\", 5)\n",
    "for page in book:\n",
    "    print(page)"
   ]
  },
  {
   "cell_type": "markdown",
   "metadata": {},
   "source": [
    "This example demonstrates the use of various magic methods:\n",
    "1. `__str__` and `__repr__` for string representations\n",
    "2. `__len__` for getting the length\n",
    "3. `__getitem__` for indexing\n",
    "4. `__iter__` and `__next__` for iteration\n",
    "5. `__eq__` for equality comparison\n",
    "6. `__lt__` for less than comparison"
   ]
  },
  {
   "cell_type": "markdown",
   "metadata": {},
   "source": [
    "### Task 8: Implement Magic Methods\n",
    "\n",
    "Create a `Playlist` class for managing a music playlist. Implement the following magic methods:\n",
    "\n",
    "1. `__init__(self, name)`: Initialize the playlist with a name and an empty list of songs.\n",
    "2. `__str__(self)`: Return a string representation of the playlist (e.g., \"Playlist: My Favorite Songs (10 tracks)\").\n",
    "3. `__repr__(self)`: Return a string that could be used to recreate the playlist object.\n",
    "4. `__len__(self)`: Return the number of songs in the playlist.\n",
    "5. `__getitem__(self, index)`: Allow indexing to retrieve a song from the playlist.\n",
    "6. `__setitem__(self, index, value)`: Allow indexing to replace a song in the playlist.\n",
    "7. `__iter__(self)`: Make the playlist iterable.\n",
    "8. `__add__(self, other)`: Allow adding two playlists together to create a new playlist.\n",
    "9. `__eq__(self, other)`: Define equality comparison between playlists (consider them equal if they have the same songs in the same order).\n",
    "\n",
    "Also, implement regular methods:\n",
    "- `add_song(self, song)`: Add a song to the playlist.\n",
    "- `remove_song(self, song)`: Remove a song from the playlist.\n",
    "- `play(self)`: Generator method that yields each song in the playlist.\n",
    "\n",
    "Create a `Song` class with attributes for title and artist, and implement appropriate magic methods for it as well.\n",
    "\n",
    "Demonstrate the usage of your `Playlist` and `Song` classes, showing how the magic methods allow for intuitive operations on your objects."
   ]
  },
  {
   "cell_type": "code",
   "execution_count": null,
   "metadata": {},
   "outputs": [],
   "source": [
    "# your code here"
   ]
  },
  {
   "cell_type": "markdown",
   "metadata": {},
   "source": [
    "## Composition vs Inheritance\n",
    "\n",
    "While inheritance is a powerful feature of OOP, it's not always the best solution for every design problem. Composition offers an alternative approach that can often lead to more flexible and maintainable code."
   ]
  },
  {
   "cell_type": "markdown",
   "metadata": {},
   "source": [
    "### Inheritance\n",
    "\n",
    "Inheritance represents an \"is-a\" relationship. For example, a `Car` is a `Vehicle`."
   ]
  },
  {
   "cell_type": "code",
   "execution_count": null,
   "metadata": {},
   "outputs": [],
   "source": [
    "class Vehicle:\n",
    "    def __init__(self, make, model):\n",
    "        self.make = make\n",
    "        self.model = model\n",
    "\n",
    "    def move(self):\n",
    "        return \"Moving...\"\n",
    "\n",
    "class Car(Vehicle):\n",
    "    def __init__(self, make, model, fuel_type):\n",
    "        super().__init__(make, model)\n",
    "        self.fuel_type = fuel_type\n",
    "\n",
    "    def move(self):\n",
    "        return \"Driving on the road\""
   ]
  },
  {
   "cell_type": "markdown",
   "metadata": {},
   "source": [
    "### Composition\n",
    "\n",
    "Composition represents a \"has-a\" relationship. For example, a `Car` has an `Engine`."
   ]
  },
  {
   "cell_type": "code",
   "execution_count": null,
   "metadata": {},
   "outputs": [],
   "source": [
    "class Engine:\n",
    "    def __init__(self, fuel_type):\n",
    "        self.fuel_type = fuel_type\n",
    "\n",
    "    def start(self):\n",
    "        return f\"Starting {self.fuel_type} engine\"\n",
    "\n",
    "class Car:\n",
    "    def __init__(self, make, model, fuel_type):\n",
    "        self.make = make\n",
    "        self.model = model\n",
    "        self.engine = Engine(fuel_type)\n",
    "\n",
    "    def start_engine(self):\n",
    "        return self.engine.start()"
   ]
  },
  {
   "cell_type": "markdown",
   "metadata": {},
   "source": [
    "### When to Use Composition Instead of Inheritance\n",
    "\n",
    "1. **Flexibility**: Composition allows for more flexibility in design. You can easily change the components of an object at runtime.\n",
    "\n",
    "2. **Avoiding deep inheritance hierarchies**: Deep inheritance hierarchies can become complex and hard to maintain. Composition can help keep your class structure flatter.\n",
    "\n",
    "3. **Multiple types of behavior**: If a class needs to have multiple types of behavior that don't fit neatly into an inheritance hierarchy, composition might be a better choice.\n",
    "\n",
    "4. **Reusability**: Composed components can often be reused more easily in different contexts than inherited behaviors."
   ]
  },
  {
   "cell_type": "markdown",
   "metadata": {},
   "source": [
    "### Example: Composition vs Inheritance\n",
    "\n",
    "Let's look at an example that demonstrates when composition might be preferable to inheritance:"
   ]
  },
  {
   "cell_type": "code",
   "execution_count": null,
   "metadata": {},
   "outputs": [],
   "source": [
    "# Inheritance approach\n",
    "class Animal:\n",
    "    def __init__(self, name):\n",
    "        self.name = name\n",
    "\n",
    "    def move(self):\n",
    "        pass\n",
    "\n",
    "class FlyingAnimal(Animal):\n",
    "    def move(self):\n",
    "        return f\"{self.name} is flying\"\n",
    "\n",
    "class SwimmingAnimal(Animal):\n",
    "    def move(self):\n",
    "        return f\"{self.name} is swimming\"\n",
    "\n",
    "class Duck(FlyingAnimal, SwimmingAnimal):\n",
    "    def move(self):\n",
    "        return f\"{self.name} can fly and swim\""
   ]
  },
  {
   "cell_type": "code",
   "execution_count": null,
   "metadata": {},
   "outputs": [],
   "source": [
    "# Composition approach\n",
    "class Flyer:\n",
    "    def fly(self):\n",
    "        return \"flying\"\n",
    "\n",
    "class Swimmer:\n",
    "    def swim(self):\n",
    "        return \"swimming\"\n",
    "\n",
    "class Animal:\n",
    "    def __init__(self, name):\n",
    "        self.name = name\n",
    "\n",
    "class Duck(Animal):\n",
    "    def __init__(self, name):\n",
    "        super().__init__(name)\n",
    "        self.flyer = Flyer()\n",
    "        self.swimmer = Swimmer()\n",
    "\n",
    "    def move(self):\n",
    "        return f\"{self.name} is {self.flyer.fly()} and {self.swimmer.swim()}\""
   ]
  },
  {
   "cell_type": "code",
   "execution_count": null,
   "metadata": {},
   "outputs": [],
   "source": [
    "# Using the classes\n",
    "inheritance_duck = Duck(\"Donald\")\n",
    "print(inheritance_duck.move())  # Donald can fly and swim\n",
    "\n",
    "composition_duck = Duck(\"Daffy\")\n",
    "print(composition_duck.move())  # Daffy is flying and swimming"
   ]
  },
  {
   "cell_type": "markdown",
   "metadata": {},
   "source": [
    "In this example, the composition approach allows for more flexibility. We can easily add or remove abilities from the `Duck` class without affecting other classes. It also avoids the potential issues of multiple inheritance."
   ]
  },
  {
   "cell_type": "markdown",
   "metadata": {},
   "source": [
    "### Task 9: Refactor Using Composition\n",
    "\n",
    "Refactor the following inheritance-based code to use composition instead:"
   ]
  },
  {
   "cell_type": "code",
   "execution_count": null,
   "metadata": {},
   "outputs": [],
   "source": [
    "class Vehicle:\n",
    "    def __init__(self, make, model):\n",
    "        self.make = make\n",
    "        self.model = model\n",
    "\n",
    "    def start_engine(self):\n",
    "        return \"Engine started\"\n",
    "\n",
    "    def stop_engine(self):\n",
    "        return \"Engine stopped\"\n",
    "\n",
    "class Car(Vehicle):\n",
    "    def drive(self):\n",
    "        return \"Car is being driven\"\n",
    "\n",
    "class Boat(Vehicle):\n",
    "    def sail(self):\n",
    "        return \"Boat is sailing\"\n",
    "\n",
    "class AmphibiousVehicle(Car, Boat):\n",
    "    def __init__(self, make, model):\n",
    "        super().__init__(make, model)\n",
    "\n",
    "    def drive_on_land(self):\n",
    "        return self.drive()\n",
    "\n",
    "    def drive_on_water(self):\n",
    "        return self.sail()"
   ]
  },
  {
   "cell_type": "markdown",
   "metadata": {},
   "source": [
    "Implement a composition-based solution that achieves the same functionality but is more flexible and easier to maintain. Your solution should allow for easy addition of new types of movement or engine types without requiring changes to existing classes."
   ]
  },
  {
   "cell_type": "markdown",
   "metadata": {},
   "source": [
    "## Review\n",
    "\n",
    "Here's a markdown table summarizing the key concepts we've covered in this Object-Oriented Programming lesson:\n",
    "\n",
    "| Concept | Description | Key Points |\n",
    "|---------|-------------|------------|\n",
    "| Classes and Objects | Blueprint for creating objects | - Class definition<br>- Object instantiation<br>- Attributes and methods |\n",
    "| Attributes and Methods | Data and behaviors of objects | - Instance attributes<br>- Class attributes<br>- Instance methods<br>- Class methods<br>- Static methods |\n",
    "| Constructors | Special method for object initialization | - `__init__` method<br>- Setting initial state |\n",
    "| Encapsulation | Bundling of data and methods | - Public and private members<br>- Property decorators |\n",
    "| Inheritance | Creating new classes based on existing ones | - Single inheritance<br>- Multiple inheritance<br>- Method overriding |\n",
    "| Polymorphism | Objects of different types responding to the same interface | - Method overloading (alternatives)<br>- Method overriding |\n",
    "| Abstraction | Hiding complex implementation details | - Abstract classes<br>- Abstract methods |\n",
    "| Magic Methods | Special methods for defining object behavior | - Operator overloading<br>- Object representation |\n",
    "| Composition vs Inheritance | Different ways of structuring code | - \"Is-a\" vs \"Has-a\" relationships<br>- Flexibility and maintainability |"
   ]
  },
  {
   "cell_type": "markdown",
   "metadata": {},
   "source": [
    "This table provides a quick reference to the main topics covered in the lesson, helping students review and recall the key concepts of Object-Oriented Programming in Python."
   ]
  },
  {
   "cell_type": "markdown",
   "metadata": {},
   "source": [
    "## Conclusion\n",
    "\n",
    "Congratulations on completing this comprehensive introduction to Object-Oriented Programming in Python! Let's recap the journey we've taken and reflect on the importance of OOP in modern software development.\n",
    "\n",
    "Throughout this lesson, we've explored the fundamental concepts of OOP:\n",
    "\n",
    "1. We started with the basics of classes and objects, learning how to create blueprints for our data and instantiate them.\n",
    "2. We delved into attributes and methods, understanding how to give our objects state and behavior.\n",
    "3. We learned about encapsulation and how to control access to our object's internals, promoting data integrity and abstraction.\n",
    "4. We explored inheritance, discovering how to create hierarchies of classes and reuse code efficiently.\n",
    "5. We tackled polymorphism, learning how to write more flexible and extensible code.\n",
    "6. We worked with abstract classes, understanding how to define common interfaces for groups of related classes.\n",
    "7. We experimented with magic methods, seeing how to make our objects behave like built-in types.\n",
    "8. Finally, we compared inheritance and composition, learning when to use each approach in our designs.\n",
    "\n",
    "Object-Oriented Programming is more than just a set of language features – it's a powerful paradigm for organizing and structuring code. By thinking in terms of objects, we can create programs that are:\n",
    "\n",
    "- More intuitive to design, often mapping closely to real-world entities and relationships\n",
    "- Easier to maintain and extend, with clear boundaries between different parts of our code\n",
    "- More reusable, allowing us to share and adapt code across projects\n",
    "\n",
    "As you continue your Python journey, you'll find that OOP principles are used extensively in libraries, frameworks, and complex applications. The concepts you've learned here will serve as a strong foundation for understanding and working with these tools, as well as for designing your own robust and scalable software systems.\n",
    "\n",
    "Remember, becoming proficient in OOP is a journey. Don't be discouraged if some concepts feel challenging at first – with practice and application, they will become second nature. Continue to code, experiment, and most importantly, build projects that interest you. As you apply these OOP principles in real-world scenarios, you'll gain a deeper understanding and appreciation for their power and flexibility.\n",
    "\n",
    "Keep exploring, keep coding, and keep object-oriented! The skills you've developed in this lesson will be invaluable as you grow as a Python programmer and software developer."
   ]
  }
 ],
 "metadata": {
  "kernelspec": {
   "display_name": "Python 3",
   "language": "python",
   "name": "python3"
  },
  "language_info": {
   "codemirror_mode": {
    "name": "ipython",
    "version": 3
   },
   "file_extension": ".py",
   "mimetype": "text/x-python",
   "name": "python",
   "nbconvert_exporter": "python",
   "pygments_lexer": "ipython3",
   "version": "3.12.6"
  }
 },
 "nbformat": 4,
 "nbformat_minor": 2
}
