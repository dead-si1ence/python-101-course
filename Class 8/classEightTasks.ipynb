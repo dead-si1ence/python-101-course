{
 "cells": [
  {
   "cell_type": "markdown",
   "metadata": {},
   "source": [
    "### Task 1: Create a Class\n",
    "\n",
    "Create a `Book` class with attributes for title, author, and publication year. Include a method `get_age()` that returns how many years old the book is. Then create two instances of the `Book` class and print out their ages."
   ]
  },
  {
   "cell_type": "code",
   "execution_count": null,
   "metadata": {},
   "outputs": [],
   "source": [
    "# your code here"
   ]
  },
  {
   "cell_type": "markdown",
   "metadata": {},
   "source": [
    "### Task 2: Implement Different Types of Methods\n",
    "\n",
    "Create a `BankAccount` class with the following:\n",
    "- Instance attributes: `account_number` and `balance`\n",
    "- Class attribute: `interest_rate`\n",
    "- Instance method: `deposit(amount)` and `withdraw(amount)`\n",
    "- Class method: `set_interest_rate(new_rate)`\n",
    "- Static method: `validate_amount(amount)` that checks if an amount is positive\n",
    "\n",
    "Create a few instances of `BankAccount`, perform some transactions, and demonstrate the use of all methods."
   ]
  },
  {
   "cell_type": "code",
   "execution_count": null,
   "metadata": {},
   "outputs": [],
   "source": [
    "# your code here"
   ]
  },
  {
   "cell_type": "markdown",
   "metadata": {},
   "source": [
    "### Task 3: Create a Class with a Complex Constructor\n",
    "\n",
    "Create a `Library` class with the following specifications:\n",
    "- The constructor should take a name for the library and a list of books (each book is a dictionary with 'title' and 'author' keys).\n",
    "- Initialize attributes for the library name, the list of books, and the number of books.\n",
    "- In the constructor, create a dictionary where keys are authors and values are lists of their books in the library.\n",
    "- Add a method to display all books by a given author.\n",
    "\n",
    "Create an instance of the `Library` class and demonstrate its functionality."
   ]
  },
  {
   "cell_type": "code",
   "execution_count": null,
   "metadata": {},
   "outputs": [],
   "source": [
    "# your code here"
   ]
  },
  {
   "cell_type": "markdown",
   "metadata": {},
   "source": [
    "### Task 4: Implement Encapsulation\n",
    "\n",
    "Create a `Student` class with the following specifications:\n",
    "- Private attributes for name, age, and grades (a list of grades)\n",
    "- A property for name that allows reading but not writing\n",
    "- A property for age that allows reading and writing, but raises a ValueError if the new age is less than the current age\n",
    "- Methods to add a grade, calculate GPA, and display student information\n",
    "\n",
    "Create an instance of the `Student` class and demonstrate all its functionalities, including trying to set an invalid age."
   ]
  },
  {
   "cell_type": "code",
   "execution_count": null,
   "metadata": {},
   "outputs": [],
   "source": [
    "# your code here"
   ]
  },
  {
   "cell_type": "markdown",
   "metadata": {},
   "source": [
    "### Task 5: Implement a Complex Inheritance Structure\n",
    "\n",
    "Create a class hierarchy for a simple role-playing game with the following specifications:\n",
    "\n",
    "1. Create a base `Character` class with attributes for name, level, and health. Include methods for `level_up()` and `take_damage(amount)`.\n",
    "\n",
    "2. Create three subclasses of `Character`:\n",
    "   - `Warrior`: Has an additional `strength` attribute and a `battle_cry()` method.\n",
    "   - `Mage`: Has an additional `mana` attribute and a `cast_spell(spell_name)` method.\n",
    "   - `Archer`: Has an additional `dexterity` attribute and a `shoot_arrow()` method.\n",
    "\n",
    "3. Create a `Boss` class that inherits from `Character` and has an additional `minion_count` attribute and a `summon_minions()` method.\n",
    "\n",
    "4. Implement a `battle(character1, character2)` function that simulates a simple battle between two characters.\n",
    "\n",
    "5. Create instances of each class and demonstrate their unique attributes and methods, as well as their inherited capabilities. Then, simulate battles between different character types."
   ]
  },
  {
   "cell_type": "code",
   "execution_count": null,
   "metadata": {},
   "outputs": [],
   "source": [
    "# youe code here"
   ]
  }
 ],
 "metadata": {
  "language_info": {
   "name": "python"
  }
 },
 "nbformat": 4,
 "nbformat_minor": 2
}
