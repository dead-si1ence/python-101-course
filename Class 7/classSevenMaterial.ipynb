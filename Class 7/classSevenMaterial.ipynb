{
 "cells": [
  {
   "cell_type": "markdown",
   "metadata": {},
   "source": [
    "# Python 101: File Handling\n",
    "\n",
    "In this comprehensive lesson, we'll explore file handling in Python, covering the following topics in detail:\n",
    "\n",
    "1. Understanding file paths\n",
    "2. Opening and closing files\n",
    "3. File modes (r, w, a, r+, w+, a+)\n",
    "4. Reading from files\n",
    "5. Writing to files\n",
    "6. Working with different file formats (text, CSV, JSON)\n",
    "7. Context managers for file handling\n",
    "\n",
    "Let's dive deep into each of these topics!"
   ]
  },
  {
   "cell_type": "markdown",
   "metadata": {},
   "source": [
    "## 1. Understanding File Paths\n",
    "\n",
    "Before we start working with files, it's important to understand file paths. A file path is a string that represents the location of a file on your computer.\n",
    "\n",
    "There are two types of file paths:\n",
    "\n",
    "1. **Absolute paths**: These start from the root directory of the file system. For example:\n",
    "   - Windows: `C:\\Users\\YourName\\Documents\\file.txt`\n",
    "   - macOS/Linux: `/home/YourName/Documents/file.txt`\n",
    "\n",
    "2. **Relative paths**: These are relative to the current working directory. For example:\n",
    "   - `file.txt` (in the current directory)\n",
    "   - `data/file.txt` (in a subdirectory named 'data')\n",
    "   - `../file.txt` (in the parent directory)\n",
    "\n",
    "In Python, you can use both forward slashes (/) and backslashes (\\\\) for file paths, even on Windows. However, if you use backslashes, you need to escape them or use a raw string:\n",
    "\n",
    "```python\n",
    "path1 = 'C:\\\\Users\\\\YourName\\\\Documents\\\\file.txt'  # Escaped backslashes\n",
    "path2 = r'C:\\Users\\YourName\\Documents\\file.txt'  # Raw string\n",
    "```\n",
    "\n",
    "For cross-platform compatibility, it's often best to use forward slashes or use the `os.path` module to handle paths."
   ]
  },
  {
   "cell_type": "code",
   "execution_count": 51,
   "metadata": {},
   "outputs": [
    {
     "name": "stderr",
     "output_type": "stream",
     "text": [
      "<>:2: SyntaxWarning: invalid escape sequence '\\d'\n",
      "<>:2: SyntaxWarning: invalid escape sequence '\\d'\n",
      "C:\\Users\\monta\\AppData\\Local\\Temp\\ipykernel_26604\\3053106576.py:2: SyntaxWarning: invalid escape sequence '\\d'\n",
      "  abs = \"d:\\dev\\projects\\coursak\\Python 101\\Class 7\\tst\\tst.txt\"\n"
     ]
    }
   ],
   "source": [
    "relative_path = \"tst/tst.txt\"\n",
    "abs = \"d:\\dev\\projects\\coursak\\Python 101\\Class 7\\tst\\tst.txt\""
   ]
  },
  {
   "cell_type": "markdown",
   "metadata": {},
   "source": [
    "## 2. Opening and Closing Files\n",
    "\n",
    "In Python, we use the `open()` function to open files. This function returns a file object, which we can then use to read from or write to the file.\n",
    "\n",
    "The basic syntax for opening a file is:\n",
    "\n",
    "```python\n",
    "file = open(filename, mode)\n",
    "```\n",
    "\n",
    "Where:\n",
    "- `filename` is a string containing the name of the file (or the full path to the file)\n",
    "- `mode` is a string specifying how the file should be opened (we'll cover this in detail in the next section)\n",
    "\n",
    "After we're done working with a file, it's crucial to close it using the `close()` method. This frees up system resources and ensures that all data is properly saved.\n",
    "\n",
    "Here's an example:"
   ]
  },
  {
   "cell_type": "code",
   "execution_count": 52,
   "metadata": {},
   "outputs": [
    {
     "ename": "FileNotFoundError",
     "evalue": "[Errno 2] No such file or directory: 'test.txt'",
     "output_type": "error",
     "traceback": [
      "\u001b[1;31m---------------------------------------------------------------------------\u001b[0m",
      "\u001b[1;31mFileNotFoundError\u001b[0m                         Traceback (most recent call last)",
      "Cell \u001b[1;32mIn[52], line 2\u001b[0m\n\u001b[0;32m      1\u001b[0m \u001b[38;5;66;03m# Opening a file for reading\u001b[39;00m\n\u001b[1;32m----> 2\u001b[0m file \u001b[38;5;241m=\u001b[39m \u001b[38;5;28;43mopen\u001b[39;49m\u001b[43m(\u001b[49m\u001b[38;5;124;43m'\u001b[39;49m\u001b[38;5;124;43mtest.txt\u001b[39;49m\u001b[38;5;124;43m'\u001b[39;49m\u001b[43m,\u001b[49m\u001b[43m \u001b[49m\u001b[38;5;124;43m'\u001b[39;49m\u001b[38;5;124;43mr\u001b[39;49m\u001b[38;5;124;43m'\u001b[39;49m\u001b[43m)\u001b[49m\n\u001b[0;32m      3\u001b[0m content \u001b[38;5;241m=\u001b[39m file\u001b[38;5;241m.\u001b[39mread()\n\u001b[0;32m      4\u001b[0m \u001b[38;5;28mprint\u001b[39m(content)\n",
      "File \u001b[1;32m~\\AppData\\Roaming\\Python\\Python312\\site-packages\\IPython\\core\\interactiveshell.py:286\u001b[0m, in \u001b[0;36m_modified_open\u001b[1;34m(file, *args, **kwargs)\u001b[0m\n\u001b[0;32m    279\u001b[0m \u001b[38;5;28;01mif\u001b[39;00m file \u001b[38;5;129;01min\u001b[39;00m {\u001b[38;5;241m0\u001b[39m, \u001b[38;5;241m1\u001b[39m, \u001b[38;5;241m2\u001b[39m}:\n\u001b[0;32m    280\u001b[0m     \u001b[38;5;28;01mraise\u001b[39;00m \u001b[38;5;167;01mValueError\u001b[39;00m(\n\u001b[0;32m    281\u001b[0m         \u001b[38;5;124mf\u001b[39m\u001b[38;5;124m\"\u001b[39m\u001b[38;5;124mIPython won\u001b[39m\u001b[38;5;124m'\u001b[39m\u001b[38;5;124mt let you open fd=\u001b[39m\u001b[38;5;132;01m{\u001b[39;00mfile\u001b[38;5;132;01m}\u001b[39;00m\u001b[38;5;124m by default \u001b[39m\u001b[38;5;124m\"\u001b[39m\n\u001b[0;32m    282\u001b[0m         \u001b[38;5;124m\"\u001b[39m\u001b[38;5;124mas it is likely to crash IPython. If you know what you are doing, \u001b[39m\u001b[38;5;124m\"\u001b[39m\n\u001b[0;32m    283\u001b[0m         \u001b[38;5;124m\"\u001b[39m\u001b[38;5;124myou can use builtins\u001b[39m\u001b[38;5;124m'\u001b[39m\u001b[38;5;124m open.\u001b[39m\u001b[38;5;124m\"\u001b[39m\n\u001b[0;32m    284\u001b[0m     )\n\u001b[1;32m--> 286\u001b[0m \u001b[38;5;28;01mreturn\u001b[39;00m \u001b[43mio_open\u001b[49m\u001b[43m(\u001b[49m\u001b[43mfile\u001b[49m\u001b[43m,\u001b[49m\u001b[43m \u001b[49m\u001b[38;5;241;43m*\u001b[39;49m\u001b[43margs\u001b[49m\u001b[43m,\u001b[49m\u001b[43m \u001b[49m\u001b[38;5;241;43m*\u001b[39;49m\u001b[38;5;241;43m*\u001b[39;49m\u001b[43mkwargs\u001b[49m\u001b[43m)\u001b[49m\n",
      "\u001b[1;31mFileNotFoundError\u001b[0m: [Errno 2] No such file or directory: 'test.txt'"
     ]
    }
   ],
   "source": [
    "# Opening a file for reading\n",
    "file = open('test.txt', 'r')\n",
    "content = file.read()\n",
    "print(content)\n",
    "file.close()"
   ]
  },
  {
   "cell_type": "code",
   "execution_count": 6,
   "metadata": {},
   "outputs": [],
   "source": [
    "# Opening a file for writing\n",
    "file = open('new_file.txt', 'w')\n",
    "file.write('My name is Montaser')\n",
    "# error\n",
    "file.close()"
   ]
  },
  {
   "cell_type": "code",
   "execution_count": 11,
   "metadata": {},
   "outputs": [
    {
     "ename": "ZeroDivisionError",
     "evalue": "division by zero",
     "output_type": "error",
     "traceback": [
      "\u001b[1;31m---------------------------------------------------------------------------\u001b[0m",
      "\u001b[1;31mZeroDivisionError\u001b[0m                         Traceback (most recent call last)",
      "Cell \u001b[1;32mIn[11], line 3\u001b[0m\n\u001b[0;32m      1\u001b[0m \u001b[38;5;28;01mtry\u001b[39;00m:\n\u001b[0;32m      2\u001b[0m     file \u001b[38;5;241m=\u001b[39m \u001b[38;5;28mopen\u001b[39m(\u001b[38;5;124m\"\u001b[39m\u001b[38;5;124mtest.txt\u001b[39m\u001b[38;5;124m\"\u001b[39m, \u001b[38;5;124m\"\u001b[39m\u001b[38;5;124mw\u001b[39m\u001b[38;5;124m\"\u001b[39m)\n\u001b[1;32m----> 3\u001b[0m     \u001b[38;5;241;43m1\u001b[39;49m\u001b[43m \u001b[49m\u001b[38;5;241;43m/\u001b[39;49m\u001b[43m \u001b[49m\u001b[38;5;241;43m0\u001b[39;49m\n\u001b[0;32m      4\u001b[0m \u001b[38;5;28;01mfinally\u001b[39;00m:\n\u001b[0;32m      5\u001b[0m     file\u001b[38;5;241m.\u001b[39mclose()\n",
      "\u001b[1;31mZeroDivisionError\u001b[0m: division by zero"
     ]
    }
   ],
   "source": [
    "try:\n",
    "    file = open(\"test.txt\", \"w\")\n",
    "    1 / 0\n",
    "finally:\n",
    "    file.close()"
   ]
  },
  {
   "cell_type": "markdown",
   "metadata": {},
   "source": [
    "It's important to note that if an error occurs while the file is open, the `close()` method might not be called. To avoid this, you can use a `try`-`finally` block or, even better, use a context manager (which we'll cover later)."
   ]
  },
  {
   "cell_type": "markdown",
   "metadata": {},
   "source": [
    "## 3. File Modes\n",
    "\n",
    "When opening a file, we specify a mode that determines how the file will be used. Here are the most common file modes:\n",
    "\n",
    "1. `'r'` (Read): \n",
    "   - Opens the file for reading (default mode).\n",
    "   - The file pointer is placed at the beginning of the file.\n",
    "   - Raises an error if the file doesn't exist.\n",
    "\n",
    "2. `'w'` (Write): \n",
    "   - Opens the file for writing.\n",
    "   - Creates a new file if it doesn't exist.\n",
    "   - If the file exists, it truncates the file (erases all content).\n",
    "\n",
    "3. `'a'` (Append): \n",
    "   - Opens the file for appending.\n",
    "   - Creates a new file if it doesn't exist.\n",
    "   - If the file exists, the file pointer is placed at the end of the file.\n",
    "\n",
    "4. `'r+'` (Read and Write): \n",
    "   - Opens the file for both reading and writing.\n",
    "   - The file pointer is placed at the beginning of the file.\n",
    "   - Raises an error if the file doesn't exist.\n",
    "\n",
    "5. `'w+'` (Write and Read): \n",
    "   - Opens the file for both writing and reading.\n",
    "   - Creates a new file if it doesn't exist.\n",
    "   - If the file exists, it truncates the file.\n",
    "\n",
    "6. `'a+'` (Append and Read): \n",
    "   - Opens the file for both appending and reading.\n",
    "   - Creates a new file if it doesn't exist.\n",
    "   - If the file exists, the file pointer is placed at the end of the file for appending.\n",
    "\n",
    "You can also add a `'b'` to the mode string to open the file in binary mode (e.g., `'rb'`, `'wb'`, `'ab'`). This is useful when working with non-text files.\n",
    "\n",
    "Let's see some examples:"
   ]
  },
  {
   "cell_type": "code",
   "execution_count": 14,
   "metadata": {},
   "outputs": [
    {
     "name": "stdout",
     "output_type": "stream",
     "text": [
      "Read mode content: Hello, Students\n"
     ]
    }
   ],
   "source": [
    "# Reading a file\n",
    "with open('example.txt', 'r') as f:\n",
    "    content = f.read()\n",
    "    print(\"Read mode content:\", content)"
   ]
  },
  {
   "cell_type": "code",
   "execution_count": 15,
   "metadata": {},
   "outputs": [],
   "source": [
    "# Writing to a file (overwrites existing content)\n",
    "with open('example.txt', 'w') as file:\n",
    "    file.write(\"This is a new line.\\n\")"
   ]
  },
  {
   "cell_type": "code",
   "execution_count": 16,
   "metadata": {},
   "outputs": [],
   "source": [
    "# Appending to a file\n",
    "with open('example.txt', 'a') as file:\n",
    "    file.write(\"This line is appended.\\n\")"
   ]
  },
  {
   "cell_type": "code",
   "execution_count": 17,
   "metadata": {},
   "outputs": [
    {
     "name": "stdout",
     "output_type": "stream",
     "text": [
      "Current content: This is a new line.\n",
      "This line is appended.\n",
      "\n"
     ]
    }
   ],
   "source": [
    "# Reading and writing\n",
    "with open('example.txt', 'r+') as file:\n",
    "    content = file.read()\n",
    "    print(\"Current content:\", content)\n",
    "    file.write(\"This is added to the end.\\n\")"
   ]
  },
  {
   "cell_type": "code",
   "execution_count": 19,
   "metadata": {},
   "outputs": [
    {
     "name": "stdout",
     "output_type": "stream",
     "text": [
      "Final content: b'This is a new line.\\r\\nThis line is appended.\\r\\nThis is added to the end.\\r\\n'\n"
     ]
    }
   ],
   "source": [
    "# Final content\n",
    "with open('example.txt', 'rb') as file:\n",
    "    print(\"Final content:\", file.read())"
   ]
  },
  {
   "cell_type": "code",
   "execution_count": 25,
   "metadata": {},
   "outputs": [
    {
     "name": "stdout",
     "output_type": "stream",
     "text": [
      "#include <bits/stdc++.h>\n",
      "\n",
      "#define endl '\\n'\n",
      "\n",
      "void Solution()\n",
      "{\n",
      "    std::cout << \"Solution\" << endl;\n",
      "}\n",
      "\n",
      "int main()\n",
      "{\n",
      "    std::ios_base::sync_with_stdio(false);\n",
      "    std::cin.tie(nullptr);\n",
      "    std::cout.tie(nullptr);\n",
      "\n",
      "    Solution();\n",
      "\n",
      "    return 0;\n",
      "}\n"
     ]
    }
   ],
   "source": [
    "with open(\"main.cpp\", \"r\") as f:\n",
    "    print(f.read())"
   ]
  },
  {
   "cell_type": "markdown",
   "metadata": {},
   "source": [
    "## 4. Reading from Files\n",
    "\n",
    "Python provides several methods for reading from files. The most common ones are:\n",
    "\n",
    "1. `read()`: Reads the entire file content as a string.\n",
    "2. `readline()`: Reads a single line from the file.\n",
    "3. `readlines()`: Reads all lines from the file and returns them as a list of strings.\n",
    "\n",
    "Let's explore each of these methods:"
   ]
  },
  {
   "cell_type": "code",
   "execution_count": 26,
   "metadata": {},
   "outputs": [],
   "source": [
    "# First, let's create a file with multiple lines\n",
    "with open('multiline.txt', 'w') as file:\n",
    "    file.write(\"Line 1\\nLine 2\\nLine 3\\nLine 4\\nLine 5\\n\")"
   ]
  },
  {
   "cell_type": "code",
   "execution_count": 27,
   "metadata": {},
   "outputs": [
    {
     "name": "stdout",
     "output_type": "stream",
     "text": [
      "read() output: Line 1\n",
      "Line 2\n",
      "Line 3\n",
      "Line 4\n",
      "Line 5\n",
      "\n"
     ]
    }
   ],
   "source": [
    "# read() method\n",
    "with open('multiline.txt', 'r') as file:\n",
    "    content = file.read()\n",
    "    print(\"read() output:\", content)"
   ]
  },
  {
   "cell_type": "code",
   "execution_count": 28,
   "metadata": {},
   "outputs": [
    {
     "name": "stdout",
     "output_type": "stream",
     "text": [
      "\n",
      "readline() output:\n",
      "Line 1\n",
      "Line 2\n"
     ]
    }
   ],
   "source": [
    "# readline() method\n",
    "with open('multiline.txt', 'r') as file:\n",
    "    print(\"\\nreadline() output:\")\n",
    "    print(file.readline().strip())  # Read first line\n",
    "    print(file.readline().strip())  # Read second line"
   ]
  },
  {
   "cell_type": "code",
   "execution_count": 30,
   "metadata": {},
   "outputs": [
    {
     "name": "stdout",
     "output_type": "stream",
     "text": [
      "\n",
      "readlines() output: ['Line 1\\n', 'Line 2\\n', 'Line 3\\n', 'Line 4\\n', 'Line 5\\n']\n"
     ]
    }
   ],
   "source": [
    "# readlines() method\n",
    "with open('multiline.txt', 'r') as file:\n",
    "    lines = file.readlines()\n",
    "    print(\"\\nreadlines() output:\", lines)"
   ]
  },
  {
   "cell_type": "code",
   "execution_count": 34,
   "metadata": {},
   "outputs": [
    {
     "name": "stdout",
     "output_type": "stream",
     "text": [
      "\n",
      "Iterating over file:\n",
      "Line 1\n",
      "Line 2\n",
      "Line 3\n",
      "Line 4\n",
      "Line 5\n"
     ]
    }
   ],
   "source": [
    "# Iterating over a file object\n",
    "print(\"\\nIterating over file:\")\n",
    "with open('multiline.txt', 'r') as file:\n",
    "    lines = file.readlines()\n",
    "    for line in lines:\n",
    "        print(line.strip())"
   ]
  },
  {
   "cell_type": "markdown",
   "metadata": {},
   "source": [
    "Note that `read()` and `readlines()` read the entire file into memory, which can be problematic for very large files. For large files, it's often better to read the file line by line using a `for` loop or the `readline()` method."
   ]
  },
  {
   "cell_type": "code",
   "execution_count": 35,
   "metadata": {},
   "outputs": [
    {
     "name": "stdout",
     "output_type": "stream",
     "text": [
      "Line 1\n",
      "\n",
      "Line 2\n",
      "\n",
      "Line 3\n",
      "\n",
      "Line 4\n",
      "\n",
      "Line 5\n",
      "\n"
     ]
    }
   ],
   "source": [
    "with open(\"multiline.txt\", \"r\") as f:\n",
    "    for line in f:\n",
    "        print(line)"
   ]
  },
  {
   "cell_type": "markdown",
   "metadata": {},
   "source": [
    "## 5. Writing to Files\n",
    "\n",
    "Python provides two main methods for writing to files:\n",
    "\n",
    "1. `write()`: Writes a string to the file.\n",
    "2. `writelines()`: Writes a list of strings to the file.\n",
    "\n",
    "Let's see how to use these methods:"
   ]
  },
  {
   "cell_type": "code",
   "execution_count": 36,
   "metadata": {},
   "outputs": [],
   "source": [
    "# write() method\n",
    "with open('output.txt', 'w') as file:\n",
    "    file.write(\"This is the first line.\\n\")\n",
    "    file.write(\"This is the second line.\\n\")"
   ]
  },
  {
   "cell_type": "code",
   "execution_count": 37,
   "metadata": {},
   "outputs": [],
   "source": [
    "# writelines() method\n",
    "lines = [\"Line 1\\n\", \"Line 2\\n\", \"Line 3\\n\"]\n",
    "with open('output2.txt', 'w') as file:\n",
    "    file.writelines(lines)"
   ]
  },
  {
   "cell_type": "code",
   "execution_count": 38,
   "metadata": {},
   "outputs": [],
   "source": [
    "# Appending to a file\n",
    "with open('output.txt', 'a') as file:\n",
    "    file.write(\"This line is appended.\\n\")"
   ]
  },
  {
   "cell_type": "code",
   "execution_count": 39,
   "metadata": {},
   "outputs": [
    {
     "name": "stdout",
     "output_type": "stream",
     "text": [
      "Contents of output.txt:\n",
      "This is the first line.\n",
      "This is the second line.\n",
      "This line is appended.\n",
      "\n"
     ]
    }
   ],
   "source": [
    "# Reading the contents of both files\n",
    "print(\"Contents of output.txt:\")\n",
    "with open('output.txt', 'r') as file:\n",
    "    print(file.read())"
   ]
  },
  {
   "cell_type": "code",
   "execution_count": 40,
   "metadata": {},
   "outputs": [
    {
     "name": "stdout",
     "output_type": "stream",
     "text": [
      "\n",
      "Contents of output2.txt:\n",
      "Line 1\n",
      "Line 2\n",
      "Line 3\n",
      "\n"
     ]
    }
   ],
   "source": [
    "print(\"\\nContents of output2.txt:\")\n",
    "with open('output2.txt', 'r') as file:\n",
    "    print(file.read())"
   ]
  },
  {
   "cell_type": "markdown",
   "metadata": {},
   "source": [
    "Remember that `write()` and `writelines()` do not automatically add newline characters. You need to add them explicitly if you want each piece of text on a new line."
   ]
  },
  {
   "cell_type": "markdown",
   "metadata": {},
   "source": [
    "## 6. Working with Different File Formats\n",
    "\n",
    "While text files are common, you'll often need to work with other file formats. Let's look at how to handle CSV and JSON files, which are frequently used for data storage and exchange.\n",
    "\n",
    "### 6.1 CSV Files\n",
    "\n",
    "CSV (Comma-Separated Values) files are used to store tabular data. Python's `csv` module makes it easy to read from and write to CSV files."
   ]
  },
  {
   "cell_type": "code",
   "execution_count": 41,
   "metadata": {},
   "outputs": [
    {
     "name": "stdout",
     "output_type": "stream",
     "text": [
      "['Name', 'Age', 'City']\n",
      "['Alice', '25', 'New York']\n",
      "['Bob', '30', 'San Francisco']\n",
      "['Charlie', '35', 'London']\n",
      "{'Name': 'Alice', 'Age': '25', 'City': 'New York'}\n",
      "{'Name': 'Bob', 'Age': '30', 'City': 'San Francisco'}\n",
      "{'Name': 'Charlie', 'Age': '35', 'City': 'London'}\n",
      "\n",
      "Contents of people2.csv:\n",
      "Name,Age,City\n",
      "David,40,Paris\n",
      "Eve,28,Tokyo\n",
      "\n"
     ]
    }
   ],
   "source": [
    "import csv\n",
    "\n",
    "# Writing to a CSV file\n",
    "data = [\n",
    "    [\"Name\", \"Age\", \"City\"],\n",
    "    [\"Alice\", 25, \"New York\"],\n",
    "    [\"Bob\", 30, \"San Francisco\"],\n",
    "    [\"Charlie\", 35, \"London\"],\n",
    "]\n",
    "\n",
    "with open(\"people.csv\", \"w\", newline=\"\") as file:\n",
    "    writer = csv.writer(file)\n",
    "    writer.writerows(data)\n",
    "\n",
    "# Reading from a CSV file\n",
    "with open(\"people.csv\", \"r\") as file:\n",
    "    reader = csv.reader(file)\n",
    "    for row in reader:\n",
    "        print(row)\n",
    "\n",
    "# Using DictReader and DictWriter\n",
    "with open(\"people.csv\", \"r\") as file:\n",
    "    reader = csv.DictReader(file)\n",
    "    for row in reader:\n",
    "        print(row)\n",
    "\n",
    "# Writing using DictWriter\n",
    "data = [\n",
    "    {\"Name\": \"David\", \"Age\": 40, \"City\": \"Paris\"},\n",
    "    {\"Name\": \"Eve\", \"Age\": 28, \"City\": \"Tokyo\"},\n",
    "]\n",
    "\n",
    "with open(\"people2.csv\", \"w\", newline=\"\") as file:\n",
    "    fieldnames = [\"Name\", \"Age\", \"City\"]\n",
    "    writer = csv.DictWriter(file, fieldnames=fieldnames)\n",
    "    writer.writeheader()\n",
    "    writer.writerows(data)\n",
    "\n",
    "print(\"\\nContents of people2.csv:\")\n",
    "with open(\"people2.csv\", \"r\") as file:\n",
    "    print(file.read())"
   ]
  },
  {
   "cell_type": "markdown",
   "metadata": {},
   "source": [
    "The `csv` module provides powerful tools for working with CSV files. The `DictReader` and `DictWriter` classes are particularly useful as they allow you to work with CSV data as dictionaries, which can be more intuitive and less error-prone."
   ]
  },
  {
   "cell_type": "markdown",
   "metadata": {},
   "source": [
    "### 6.2 JSON Files\n",
    "\n",
    "JSON (JavaScript Object Notation) is a popular data format used for storing and exchanging data. Python's `json` module provides functions to work with JSON data.\n"
   ]
  },
  {
   "cell_type": "code",
   "execution_count": 44,
   "metadata": {},
   "outputs": [
    {
     "name": "stdout",
     "output_type": "stream",
     "text": [
      "Loaded JSON data:\n",
      "{\n",
      "    \"name\": \"John Doe\",\n",
      "    \"age\": 30,\n",
      "    \"city\": \"New York\",\n",
      "    \"hobbies\": [\n",
      "        \"reading\",\n",
      "        \"swimming\",\n",
      "        \"coding\"\n",
      "    ]\n",
      "}\n",
      "\n",
      "Updated JSON file:\n",
      "{\n",
      "    \"name\": \"John Doe\",\n",
      "    \"age\": 31,\n",
      "    \"city\": \"New York\",\n",
      "    \"hobbies\": [\n",
      "        \"reading\",\n",
      "        \"swimming\",\n",
      "        \"coding\",\n",
      "        \"traveling\"\n",
      "    ]\n",
      "}\n"
     ]
    }
   ],
   "source": [
    "import json\n",
    "\n",
    "# Writing to a JSON file\n",
    "data = {\n",
    "    'name': 'John Doe',\n",
    "    'age': 30,\n",
    "    'city': 'New York',\n",
    "    'hobbies': ['reading', 'swimming', 'coding']\n",
    "}\n",
    "\n",
    "with open('person.json', 'w') as file:\n",
    "    json.dump(data, file, indent=4)\n",
    "\n",
    "# Reading from a JSON file\n",
    "with open('person.json', 'r') as file:\n",
    "    loaded_data = json.load(file)\n",
    "    print(\"Loaded JSON data:\")\n",
    "    print(json.dumps(loaded_data, indent=4))\n",
    "\n",
    "# Modifying and updating JSON data\n",
    "loaded_data['age'] = 31\n",
    "loaded_data['hobbies'].append('traveling')\n",
    "\n",
    "with open('person.json', 'w') as file:\n",
    "    json.dump(loaded_data, file, indent=4)\n",
    "\n",
    "print(\"\\nUpdated JSON file:\")\n",
    "with open('person.json', 'r') as file:\n",
    "    print(file.read())"
   ]
  },
  {
   "cell_type": "markdown",
   "metadata": {},
   "source": [
    "The `json` module provides `dump()` and `load()` functions for writing to and reading from JSON files, respectively. The `dumps()` function is used to convert a Python object to a JSON string, which can be useful for printing or debugging."
   ]
  },
  {
   "cell_type": "markdown",
   "metadata": {},
   "source": [
    "## 7. Context Managers for File Handling\n",
    "\n",
    "Context managers are a powerful feature in Python that help manage resources like file handles. They ensure that resources are properly acquired and released, even if errors occur during execution. The most common way to use context managers for file handling is with the `with` statement."
   ]
  },
  {
   "cell_type": "markdown",
   "metadata": {},
   "source": [
    "### 7.1 The `with` Statement\n",
    "\n",
    "The `with` statement automatically takes care of closing the file after you're done with it, even if an exception is raised. Here's the basic syntax:"
   ]
  },
  {
   "cell_type": "code",
   "execution_count": null,
   "metadata": {},
   "outputs": [],
   "source": [
    "with open('example.txt', 'r') as file:\n",
    "    content = file.read()\n",
    "    print(content)\n",
    "# The file is automatically closed after the with block"
   ]
  },
  {
   "cell_type": "markdown",
   "metadata": {},
   "source": [
    "### 7.2 Advantages of Using Context Managers\n",
    "\n",
    "1. **Automatic Resource Management**: The file is automatically closed when you exit the `with` block, even if an error occurs.\n",
    "\n",
    "2. **Cleaner Code**: You don't need to explicitly call `file.close()`, making your code cleaner and less prone to errors.\n",
    "\n",
    "3. **Exception Handling**: If an exception occurs within the `with` block, the file will still be properly closed before the exception is propagated.\n",
    "\n",
    "Let's compare the traditional approach with the context manager approach:"
   ]
  },
  {
   "cell_type": "code",
   "execution_count": null,
   "metadata": {},
   "outputs": [],
   "source": [
    "# Traditional approach\n",
    "file = open('example.txt', 'w')\n",
    "try:\n",
    "    file.write('Hello, World!')\n",
    "finally:\n",
    "    file.close()\n",
    "\n",
    "# Context manager approach\n",
    "with open('example.txt', 'w') as file:\n",
    "    file.write('Hello, World!')"
   ]
  },
  {
   "cell_type": "markdown",
   "metadata": {},
   "source": [
    "As you can see, the context manager approach is cleaner and less error-prone."
   ]
  },
  {
   "cell_type": "markdown",
   "metadata": {},
   "source": [
    "### 7.3 Multiple Files with Context Managers\n",
    "\n",
    "You can even use context managers with multiple files:"
   ]
  },
  {
   "cell_type": "code",
   "execution_count": null,
   "metadata": {},
   "outputs": [],
   "source": [
    "with open('input.txt', 'r') as input_file, open('output.txt', 'w') as output_file:\n",
    "    data = input_file.read()\n",
    "    output_file.write(data.upper())\n",
    "# Both files are automatically closed after the with block"
   ]
  },
  {
   "cell_type": "markdown",
   "metadata": {},
   "source": [
    "### 7.4 Creating Custom Context Managers\n",
    "\n",
    "While the `open()` function returns an object that can be used as a context manager, you can also create your own context managers using the `contextlib` module or by defining a class with `__enter__` and `__exit__` methods. Here's a simple example:"
   ]
  },
  {
   "cell_type": "code",
   "execution_count": 53,
   "metadata": {},
   "outputs": [
    {
     "name": "stdout",
     "output_type": "stream",
     "text": [
      "File contents:\n",
      "This is a test.\n"
     ]
    }
   ],
   "source": [
    "from contextlib import contextmanager\n",
    "\n",
    "@contextmanager\n",
    "def open_file(filename, mode):\n",
    "    file = open(filename, mode)\n",
    "    try:\n",
    "        yield file\n",
    "    finally:\n",
    "        file.close()\n",
    "\n",
    "# Using the custom context manager\n",
    "with open_file('example.txt', 'w') as file:\n",
    "    file.write('This is a test.')\n",
    "\n",
    "print(\"File contents:\")\n",
    "with open_file('example.txt', 'r') as file:\n",
    "    print(file.read())"
   ]
  },
  {
   "cell_type": "markdown",
   "metadata": {},
   "source": [
    "This custom context manager does the same thing as the built-in `open()` function, but it demonstrates how you can create your own context managers for other resources or more complex file operations."
   ]
  },
  {
   "cell_type": "markdown",
   "metadata": {},
   "source": [
    "## Conclusion\n",
    "\n",
    "In this comprehensive lesson, we've covered the essentials of file handling in Python, including:\n",
    "\n",
    "1. Understanding file paths\n",
    "2. Opening and closing files\n",
    "3. File modes (r, w, a, r+, w+, a+)\n",
    "4. Reading from files\n",
    "5. Writing to files\n",
    "6. Working with different file formats (text, CSV, JSON)\n",
    "7. Context managers for file handling\n",
    "\n",
    "Remember to always use context managers (`with` statements) when working with files. They ensure that your files are properly closed, even if errors occur, and make your code cleaner and more Pythonic.\n",
    "\n",
    "File handling is a crucial skill in Python programming, allowing you to work with persistent data, process information, and interact with various file formats. As you continue to develop your Python skills, you'll find that these file handling techniques are essential for many real-world applications.\n",
    "\n",
    "Here's a final task to practice what you've learned:"
   ]
  },
  {
   "cell_type": "markdown",
   "metadata": {},
   "source": [
    "### Final Task: File Analysis Tool\n",
    "\n",
    "Create a Python script that does the following:\n",
    "\n",
    "1. Reads a text file named 'input.txt'\n",
    "2. Counts the number of lines, words, and characters in the file\n",
    "3. Identifies the 5 most common words in the file\n",
    "4. Writes a summary of this analysis to a new file called 'analysis.txt'\n",
    "5. Uses appropriate error handling to deal with potential file-related errors\n",
    "\n",
    "This task will help you practice file reading, writing, string manipulation, and error handling all in one exercise. Good luck!"
   ]
  },
  {
   "cell_type": "code",
   "execution_count": null,
   "metadata": {},
   "outputs": [],
   "source": [
    "# your code here"
   ]
  },
  {
   "cell_type": "markdown",
   "metadata": {},
   "source": [
    "## Conclusion\n",
    "\n",
    "In this lesson, we have delved into the intricacies of file handling in Python. We began by understanding file paths and the importance of distinguishing between absolute and relative paths. We then explored various file modes and how they dictate the operations we can perform on files. \n",
    "\n",
    "We covered the essential methods for reading from and writing to files, including handling different file formats like CSV and JSON. The use of context managers was emphasized for efficient and error-free file handling. \n",
    "\n",
    "By mastering these concepts, you are now equipped to handle files in Python effectively, ensuring data is read, written, and managed correctly. This knowledge is fundamental for many real-world applications, from data processing to configuration management.\n",
    "\n",
    "Remember to always use context managers to ensure that your files are properly closed, and to handle exceptions gracefully to make your code robust and reliable.\n",
    "\n",
    "Happy coding!"
   ]
  }
 ],
 "metadata": {
  "kernelspec": {
   "display_name": "Python 3",
   "language": "python",
   "name": "python3"
  },
  "language_info": {
   "codemirror_mode": {
    "name": "ipython",
    "version": 3
   },
   "file_extension": ".py",
   "mimetype": "text/x-python",
   "name": "python",
   "nbconvert_exporter": "python",
   "pygments_lexer": "ipython3",
   "version": "3.12.6"
  }
 },
 "nbformat": 4,
 "nbformat_minor": 2
}
