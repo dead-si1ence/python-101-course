{
 "cells": [
  {
   "cell_type": "markdown",
   "metadata": {},
   "source": [
    "### Final Task: File Analysis Tool\n",
    "\n",
    "Create a Python script that does the following:\n",
    "\n",
    "1. Reads a text file named 'input.txt'\n",
    "2. Counts the number of lines, words, and characters in the file\n",
    "3. Identifies the 5 most common words in the file\n",
    "4. Writes a summary of this analysis to a new file called 'analysis.txt'\n",
    "5. Uses appropriate error handling to deal with potential file-related errors\n",
    "\n",
    "This task will help you practice file reading, writing, string manipulation, and error handling all in one exercise. Good luck!"
   ]
  },
  {
   "cell_type": "code",
   "execution_count": null,
   "metadata": {},
   "outputs": [],
   "source": [
    "# your code here"
   ]
  }
 ],
 "metadata": {
  "language_info": {
   "name": "python"
  }
 },
 "nbformat": 4,
 "nbformat_minor": 2
}
