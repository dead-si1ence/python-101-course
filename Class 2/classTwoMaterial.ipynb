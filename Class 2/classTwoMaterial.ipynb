{
 "cells": [
  {
   "cell_type": "markdown",
   "metadata": {},
   "source": [
    "# Class 2: Control Flow"
   ]
  },
  {
   "cell_type": "markdown",
   "metadata": {},
   "source": [
    "## Introduction\n",
    "\n",
    "Welcome to the second class of our Python 101 course! In the session, we'll dive into one of the mose crucial aspect of programming: Control Flow. Control flow is the order in which individual statements, instructions, or function calls are excuted in a program. It's the backbone of decision-making in our code, allowing us to create dynamic and responsive programs.\n",
    "\n",
    "In this class, we'll cover three main topics:\n",
    "\n",
    "1. Conditional Statements (if/else/elif)\n",
    "2. Loops (for and while)\n",
    "3. Loop Control Statement (break, continue, else)\n",
    "\n",
    "By the end of this clas, you'll be able to make decisions in your code, repeat actions efficiently, and control the flow of your programs with percision.\n",
    "Let's get started!"
   ]
  },
  {
   "cell_type": "markdown",
   "metadata": {},
   "source": [
    "### 1. Conditional Statements\n",
    "\n",
    "Conditional statements are the decision-makers in our code. They allow our programs to make choices based on certain conditions, enabling different code execution paths depending on whether a condition is true or false."
   ]
  },
  {
   "cell_type": "markdown",
   "metadata": {},
   "source": [
    "### 1.1 if Statement\n",
    "\n",
    "The `if` statement is the simplest for of conditional statement. It allows you to execute a block of code only if a specified condition evaluates to `True`."
   ]
  },
  {
   "cell_type": "markdown",
   "metadata": {},
   "source": [
    "#### Syntax:\n",
    "```python\n",
    "if condition:\n",
    "    # code to execute if the condition is True\n",
    "```"
   ]
  },
  {
   "cell_type": "code",
   "execution_count": null,
   "metadata": {},
   "outputs": [],
   "source": [
    "if True:\n",
    "    print(\"1\")\n"
   ]
  },
  {
   "cell_type": "markdown",
   "metadata": {},
   "source": [
    "Let's break this down:\n",
    "- The `if` keyword starts the conditional statement.\n",
    "- `condition` is an expression that evaluate to either `True` or `False`.\n",
    "- The colonn `:` at the end of the line introduces the block of the code to be executed.\n",
    "- The indented block under the `if` statement is executed only if the codition is `True`."
   ]
  },
  {
   "cell_type": "markdown",
   "metadata": {},
   "source": [
    "#### Example:"
   ]
  },
  {
   "cell_type": "code",
   "execution_count": null,
   "metadata": {},
   "outputs": [],
   "source": [
    "age = 18\n",
    "\n",
    "if age >= 18:\n",
    "    print(\"You are eligible to vote!\")\n",
    "    print(\"hello\")"
   ]
  },
  {
   "cell_type": "markdown",
   "metadata": {},
   "source": [
    "In this example:\n",
    "- We set the variable `age` to 18.\n",
    "- The condition `age >= 18` checks if the age is greater than or equal to 18.\n",
    "- Since 18 is indeed greater than or equal to 18, the condition is `True`.\n",
    "- Therefore, the indented code block is executed, and \"You are eligible to vote!\" is printed."
   ]
  },
  {
   "cell_type": "markdown",
   "metadata": {},
   "source": [
    "Let's try another example:"
   ]
  },
  {
   "cell_type": "code",
   "execution_count": null,
   "metadata": {},
   "outputs": [],
   "source": [
    "temperature = 25\n",
    "\n",
    "if temperature > 30:\n",
    "    print(\"It's a hot day!\")\n",
    "\n",
    "print(\"This line always executes, regardless of the condition.\")"
   ]
  },
  {
   "cell_type": "markdown",
   "metadata": {},
   "source": [
    "In this case:\n",
    "- The condition `temperature > 30` is `False` (since 25 is not greater than 30).\n",
    "- The indented code block under the `if` statement is not executed.\n",
    "- The last `print` statement is not part of the `if` block, so it always executes."
   ]
  },
  {
   "cell_type": "markdown",
   "metadata": {},
   "source": [
    "### 1.2 if-else Statement\n",
    "\n",
    "The `if-else` statement extends the `if` statement by allowing you to specify a block of code to execute when the condition is `False`."
   ]
  },
  {
   "cell_type": "markdown",
   "metadata": {},
   "source": [
    "#### Syntax:\n",
    "```python\n",
    "if condition:\n",
    "    # code to execute if condition is True\n",
    "else:\n",
    "    # code to execute if condition is False\n",
    "```"
   ]
  },
  {
   "cell_type": "markdown",
   "metadata": {},
   "source": [
    "#### Example:"
   ]
  },
  {
   "cell_type": "code",
   "execution_count": null,
   "metadata": {},
   "outputs": [],
   "source": [
    "age = 16\n",
    "\n",
    "if age >= 18:\n",
    "    print(\"You are eligible to vote!\")\n",
    "else:\n",
    "    print(\"You are not eligible to vote yet.\")\n",
    "    print(f\"You need to wait {18 - age} more years to be eligible.\")"
   ]
  },
  {
   "cell_type": "markdown",
   "metadata": {},
   "source": [
    "In this example:\n",
    "- The condition `age >= 18` is `False` (since 16 is less than 18).\n",
    "- Therefore, the code block under the `else` statement is executed.\n",
    "- It prints two lines: one stating the user is not eligible, and another calculating and displaying how many years they need to wait."
   ]
  },
  {
   "cell_type": "markdown",
   "metadata": {},
   "source": [
    "The `if-else` statement ensures that exactly one of the two code blocks will be executed, depending on whether the condition is `True` or `False`."
   ]
  },
  {
   "cell_type": "markdown",
   "metadata": {},
   "source": [
    "### 1.3 if-elif-else Statement\n",
    "\n",
    "The `if-elif-else` statement allows you to check multiple conditions and execute different blocks of code accordingly. It's particularly useful when you have more than two possible outcomes."
   ]
  },
  {
   "cell_type": "markdown",
   "metadata": {},
   "source": [
    "#### Syntax:\n",
    "```python\n",
    "if condition1:\n",
    "    # code to execute if condition1 is True\n",
    "elif condition2:\n",
    "    # code to execute if condition2 is True\n",
    "elif condition3:\n",
    "    # code to execute if condition3 is True\n",
    "else:\n",
    "    # code to execute if all conditions are False\n",
    "```"
   ]
  },
  {
   "cell_type": "markdown",
   "metadata": {},
   "source": [
    "You can have as many `elif` (short for \"else if\") statements as you need. The `else` block at the end is optional."
   ]
  },
  {
   "cell_type": "code",
   "execution_count": null,
   "metadata": {},
   "outputs": [],
   "source": [
    "score = 85\n",
    "\n",
    "if score >= 90:\n",
    "    print(\"Grade: A\")\n",
    "elif score >= 80:\n",
    "    print(\"Grade: B\")\n",
    "elif score >= 70:\n",
    "    print(\"Grade: C\")\n",
    "elif score >= 60:\n",
    "    print(\"Grade: D\")\n",
    "else:\n",
    "    print(\"Grade: F\")\n",
    "\n",
    "print(f\"Your score: {score}\")"
   ]
  },
  {
   "cell_type": "markdown",
   "metadata": {},
   "source": [
    "In this example:\n",
    "- We check the `score` against multiple conditions.\n",
    "- The conditions are checked in order from top to bottom.\n",
    "- As soon as a condition is `True`, its corresponding code block is executed, and the rest of the conditions are skipped.\n",
    "- In this case, `score >= 80` is the first true condition (since 85 is greater than or equal to 80), so \"Grade: B\" is printed.\n",
    "- If none of the conditions were true, the `else` block would have been executed."
   ]
  },
  {
   "cell_type": "markdown",
   "metadata": {},
   "source": [
    "The `if-elif-else` structure is powerful for handling multiple conditions in a clear and efficient manner."
   ]
  },
  {
   "cell_type": "markdown",
   "metadata": {},
   "source": [
    "### Task 1: Conditional Statements\n",
    "\n",
    "Now it's your turn to practice! Write a program that does the following:\n",
    "\n",
    "1. Ask the user for their age using `input()`.\n",
    "2. Convert the input to an integer using `int()`.\n",
    "3. Use conditional statements to print a message based on the following conditions:\n",
    "   - If the age is less than 13, print \"You're a child.\"\n",
    "   - If the age is between 13 and 19 (inclusive), print \"You're a teenager.\"\n",
    "   - If the age is between 20 and 64 (inclusive), print \"You're an adult.\"\n",
    "   - If the age is 65 or older, print \"You're a senior citizen.\"\n",
    "\n",
    "Here's a starter code for you:"
   ]
  },
  {
   "cell_type": "code",
   "execution_count": null,
   "metadata": {},
   "outputs": [],
   "source": [
    "# Your code here\n",
    "age = int(input(\"Please enter your age: \"))\n",
    "\n",
    "# Write your conditional statements here"
   ]
  },
  {
   "cell_type": "markdown",
   "metadata": {},
   "source": [
    "Try running your code with different ages to make sure it works correctly for all cases!"
   ]
  },
  {
   "cell_type": "markdown",
   "metadata": {},
   "source": [
    "## 2. Loops\n",
    "\n",
    "Loops are a fundamental concept in programming that allow us to repeat a block of code multiple times. They're incredibly useful for automating repetitive tasks and processing collections of data. In Python, we have two main types of loops: `for` loops and `while` loops."
   ]
  },
  {
   "cell_type": "markdown",
   "metadata": {},
   "source": [
    "### 2.1 for Loop\n",
    "\n",
    "The `for` loop is used to iterate over a sequence (such as a list, tuple, string, or range) or other iterable objects. It's particularly useful when you know in advance how many times you want to execute a block of code."
   ]
  },
  {
   "cell_type": "markdown",
   "metadata": {},
   "source": [
    "#### Syntax:\n",
    "```python\n",
    "for item in iterable:\n",
    "    # code to execute for each item\n",
    "```"
   ]
  },
  {
   "cell_type": "markdown",
   "metadata": {},
   "source": [
    "Let's break this down:\n",
    "- The `for` keyword starts the loop.\n",
    "- `item` is a variable that takes on the value of each element in the `iterable`, one at a time.\n",
    "- `iterable` is a collection of elements (like a list, string, or range).\n",
    "- The colon `:` introduces the block of code to be repeated.\n",
    "- The indented block under the `for` statement is executed once for each item in the iterable."
   ]
  },
  {
   "cell_type": "code",
   "execution_count": null,
   "metadata": {},
   "outputs": [],
   "source": [
    "a = [1, \"Hello\", 1.5, True]\n",
    "\n",
    "print(type(a))"
   ]
  },
  {
   "cell_type": "code",
   "execution_count": null,
   "metadata": {},
   "outputs": [],
   "source": [
    "numbers = [1, 2, 3, 4, 4.5]\n",
    "\n",
    "num = 10\n",
    "numbers.append(\"\")\n",
    "\n",
    "print(numbers)"
   ]
  },
  {
   "cell_type": "code",
   "execution_count": null,
   "metadata": {},
   "outputs": [],
   "source": [
    "arr1 = [1, 2, 3]\n",
    "arr2 = [4, 5]\n",
    "\n",
    "arr1.append(arr2)\n",
    "print(arr1)"
   ]
  },
  {
   "cell_type": "code",
   "execution_count": null,
   "metadata": {},
   "outputs": [],
   "source": [
    "arr = [1, 2, 3, 4, 5]\n",
    "     # 0, 1, 2, 3, 4\n",
    "num = arr[2]\n",
    "\n",
    "print(num)"
   ]
  },
  {
   "cell_type": "markdown",
   "metadata": {},
   "source": [
    "#### Example 1: Iterating over a list"
   ]
  },
  {
   "cell_type": "code",
   "execution_count": null,
   "metadata": {},
   "outputs": [],
   "source": [
    "fruits = [\"apple\", \"banana\", \"cherry\", \"banana\", \"cherry\", \"banana\", \"cherry\", \"banana\", \"cherry\", \"banana\", \"cherry\", \"banana\", \"cherry\"]\n",
    "\n",
    "for fruit in fruits:\n",
    "    print(f\"I like {fruit}.\")"
   ]
  },
  {
   "cell_type": "markdown",
   "metadata": {},
   "source": [
    "In this example:\n",
    "- We have a list of fruits.\n",
    "- The loop iterates over each fruit in the list.\n",
    "- For each iteration, the variable `fruit` takes on the value of the current item in the list.\n",
    "- The `print` statement is executed for each fruit, resulting in three lines of output."
   ]
  },
  {
   "cell_type": "markdown",
   "metadata": {},
   "source": [
    "#### Example 2: Using range()\n",
    "\n",
    "The `range()` function is commonly used with `for` loops when you need to repeat an action a specific number of times."
   ]
  },
  {
   "cell_type": "code",
   "execution_count": null,
   "metadata": {},
   "outputs": [],
   "source": [
    "nums = [1, 2, 3, 4, 5, 6, 7, 8, 9, 10 , 11]\n",
    "\n",
    "for i in nums:\n",
    "    print(f\"{i} -> \")"
   ]
  },
  {
   "cell_type": "code",
   "execution_count": 40,
   "metadata": {},
   "outputs": [],
   "source": [
    "for i in range(5, 5):\n",
    "    print(i)\n",
    "    \n",
    "    \n",
    "range(5)       # stop\n",
    "range(1, 5)    # start, stop\n",
    "range(1, 5, 2) # start, stop, step"
   ]
  },
  {
   "cell_type": "code",
   "execution_count": null,
   "metadata": {},
   "outputs": [],
   "source": [
    "for i in range(1, 101, 2): # 1 3 5 ...\n",
    "    print(i)"
   ]
  },
  {
   "cell_type": "code",
   "execution_count": null,
   "metadata": {},
   "outputs": [],
   "source": [
    "x = 10\n",
    "\n",
    "for i in range(x):\n",
    "    print(f\"This is iteration number {i+1}\")"
   ]
  },
  {
   "cell_type": "markdown",
   "metadata": {},
   "source": [
    "In this example:\n",
    "- `range(5)` generates a sequence of numbers from 0 to 4.\n",
    "- The loop iterates 5 times, with `i` taking on values 0, 1, 2, 3, and 4.\n",
    "- We add 1 to `i` in the print statement to make the output more intuitive for humans (who typically start counting at 1, not 0)."
   ]
  },
  {
   "cell_type": "markdown",
   "metadata": {},
   "source": [
    "### 2.2 while Loop\n",
    "\n",
    "The `while` loop repeats a block of code as long as a specified condition is `True`. It's particularly useful when you don't know in advance how many times you need to repeat the code."
   ]
  },
  {
   "cell_type": "markdown",
   "metadata": {},
   "source": [
    "#### Syntax:\n",
    "```python\n",
    "while condition:\n",
    "    # code to execute while condition is True\n",
    "```"
   ]
  },
  {
   "cell_type": "markdown",
   "metadata": {},
   "source": [
    "Let's break this down:\n",
    "- The `while` keyword starts the loop.\n",
    "- `condition` is an expression that evaluates to either `True` or `False`.\n",
    "- The colon `:` introduces the block of code to be repeated.\n",
    "- The indented block under the `while` statement is executed repeatedly as long as the condition is `True`.\n",
    "- It's crucial to ensure that the condition eventually becomes `False`, or you'll create an infinite loop!"
   ]
  },
  {
   "cell_type": "code",
   "execution_count": null,
   "metadata": {},
   "outputs": [],
   "source": [
    "count = 0\n",
    "\n",
    "while count <= 5:\n",
    "    print(count)\n",
    "    count += 1 # -> count = count + 1\n",
    "    # 1 -> 2 -> 3 -> 4 -> 5 -> 6\n",
    "    \n",
    "print(\"Hello\")"
   ]
  },
  {
   "cell_type": "markdown",
   "metadata": {},
   "source": [
    "In this example:\n",
    "- We start with `count` equal to 0.\n",
    "- The loop continues as long as `count` is less than 5.\n",
    "- In each iteration, we print the current value of `count` and then increment it by 1.\n",
    "- The loop will execute 5 times, printing the numbers 0 through 4."
   ]
  },
  {
   "cell_type": "markdown",
   "metadata": {},
   "source": [
    "#### Example 2: User input validation"
   ]
  },
  {
   "cell_type": "code",
   "execution_count": null,
   "metadata": {},
   "outputs": [],
   "source": [
    "while True:\n",
    "    user_input = input(\"Enter a positive number: \")\n",
    "    if user_input.isdigit() and int(user_input) > 0:\n",
    "        print(f\"You entered: {user_input}\")\n",
    "        break\n",
    "    else:\n",
    "        print(\"Invalid input. Please try again.\")"
   ]
  },
  {
   "cell_type": "markdown",
   "metadata": {},
   "source": [
    "In this example:\n",
    "- We use an infinite `while True` loop.\n",
    "- We repeatedly ask the user for input until they provide a valid positive number.\n",
    "- The `isdigit()` method checks if the input consists only of digits.\n",
    "- If the input is valid, we print it and `break` out of the loop.\n",
    "- If the input is invalid, we print an error message and the loop continues."
   ]
  },
  {
   "cell_type": "markdown",
   "metadata": {},
   "source": [
    "### Task 2: Loops\n",
    "\n",
    "Now it's your turn to practice! Write a program that does the following:\n",
    "\n",
    "1. Use a `for` loop to print the first 10 multiples of 3.\n",
    "2. Use a `while` loop to print the countdown from 10 to 1.\n",
    "\n",
    "Here's a starter code for you:"
   ]
  },
  {
   "cell_type": "code",
   "execution_count": null,
   "metadata": {},
   "outputs": [],
   "source": [
    "# Part 1: for loop to print multiples of 3\n",
    "print(\"Multiples of 3:\")\n",
    "# Your code here\n",
    "\n",
    "\n",
    "# Part 2: while loop for countdown\n",
    "print(\"\\nCountdown:\")\n",
    "# Your code here"
   ]
  },
  {
   "cell_type": "markdown",
   "metadata": {},
   "source": [
    "Try running your code to make sure it produces the correct output!"
   ]
  },
  {
   "cell_type": "markdown",
   "metadata": {},
   "source": [
    "## 3. Loop Control Statements\n",
    "\n",
    "Loop control statements allow you to change the execution flow of loops. They provide more fine-grained control over when a loop should terminate or when certain iterations should be skipped."
   ]
  },
  {
   "cell_type": "markdown",
   "metadata": {},
   "source": [
    "### 3.1 break Statement\n",
    "\n",
    "The `break` statement is used to exit a loop prematurely, regardless of whether the loop condition is still true."
   ]
  },
  {
   "cell_type": "markdown",
   "metadata": {},
   "source": [
    "#### Example:"
   ]
  },
  {
   "cell_type": "code",
   "execution_count": 2,
   "metadata": {},
   "outputs": [
    {
     "name": "stdout",
     "output_type": "stream",
     "text": [
      "1\n",
      "2\n",
      "3\n",
      "4\n",
      "Breaking the loop!\n",
      "Loop ended\n"
     ]
    }
   ],
   "source": [
    "for i in range(1, 11):\n",
    "    if i == 5:\n",
    "        print(\"Breaking the loop!\")\n",
    "        break\n",
    "    print(i)\n",
    "\n",
    "print(\"Loop ended\")"
   ]
  },
  {
   "cell_type": "markdown",
   "metadata": {},
   "source": [
    "In this example:\n",
    "- We start a loop that would normally print numbers from 1 to 10.\n",
    "- However, when `i` becomes 5, we print a message and then `break` out of the loop.\n",
    "- As a result, only numbers 1 through 4 are printed, followed by the \"Breaking the loop!\" message.\n",
    "- After breaking, the program continues with the code after the loop.\n",
    "\n",
    "The `break` statement is particularly useful when you're searching for something and want to stop as soon as you find it, or when you want to exit a loop based on a certain condition."
   ]
  },
  {
   "cell_type": "markdown",
   "metadata": {},
   "source": [
    "### 3.2 continue Statement\n",
    "\n",
    "The `continue` statement skips the rest of the code inside the loop for the current iteration and moves to the next iteration."
   ]
  },
  {
   "cell_type": "markdown",
   "metadata": {},
   "source": [
    "#### Example:"
   ]
  },
  {
   "cell_type": "code",
   "execution_count": 4,
   "metadata": {},
   "outputs": [
    {
     "name": "stdout",
     "output_type": "stream",
     "text": [
      "1\n",
      "2\n",
      "Skipping number 3\n"
     ]
    }
   ],
   "source": [
    "for i in range(1, 6):\n",
    "    if i == 3:\n",
    "        print(\"Skipping number 3\")\n",
    "        continue\n",
    "    print(i)"
   ]
  },
  {
   "cell_type": "markdown",
   "metadata": {},
   "source": [
    "In this example:\n",
    "- We loop through numbers 1 to 5.\n",
    "- When `i` is 3, we print a message and then `continue` to the next iteration.\n",
    "- As a result, all numbers from 1 to 5 are printed, except for 3.\n",
    "\n",
    "The `continue` statement is useful when you want to skip certain iterations based on a condition, without terminating the entire loop."
   ]
  },
  {
   "cell_type": "markdown",
   "metadata": {},
   "source": [
    "### 3.3 else Clause in Loops\n",
    "\n",
    "Python allows you to use an `else` clause with both `for` and `while` loops. The `else` block is executed when the loop has exhausted all items in an iterable (in a `for` loop) or when the condition becomes false (in a `while` loop), but not when the loop is terminated by a `break` statement."
   ]
  },
  {
   "cell_type": "markdown",
   "metadata": {},
   "source": [
    "#### Example with for loop:"
   ]
  },
  {
   "cell_type": "code",
   "execution_count": 7,
   "metadata": {},
   "outputs": [
    {
     "name": "stdout",
     "output_type": "stream",
     "text": [
      "1\n",
      "2\n",
      "4\n",
      "5\n",
      "This won't be printed because the loop was broken\n"
     ]
    }
   ],
   "source": [
    "# for i in range(1, 6):\n",
    "#     print(i)\n",
    "# else:\n",
    "#     print(\"Loop completed successfully\")\n",
    "\n",
    "#print(\"---\")\n",
    "\n",
    "for i in range(1, 6):\n",
    "    if i == 3:\n",
    "        break\n",
    "    print(i)\n",
    "else:\n",
    "    print(\"This won't be printed because the loop was broken\")"
   ]
  },
  {
   "cell_type": "markdown",
   "metadata": {},
   "source": [
    "In this example:\n",
    "- The first loop completes normally, so the `else` block is executed.\n",
    "- The second loop is terminated by a `break` statement, so its `else` block is not executed."
   ]
  },
  {
   "cell_type": "markdown",
   "metadata": {},
   "source": [
    "#### Example with while loop:"
   ]
  },
  {
   "cell_type": "code",
   "execution_count": null,
   "metadata": {},
   "outputs": [],
   "source": [
    "count = 0\n",
    "while count < 3:\n",
    "    print(count)\n",
    "    count += 1\n",
    "else:\n",
    "    print(\"While loop completed successfully\")\n",
    "\n",
    "print(\"---\")\n",
    "\n",
    "count = 0\n",
    "while count < 5:\n",
    "    if count == 3:\n",
    "        break\n",
    "    print(count)\n",
    "    count += 1\n",
    "else:\n",
    "    print(\"This won't be printed because the loop was broken\")"
   ]
  },
  {
   "cell_type": "markdown",
   "metadata": {},
   "source": [
    "The `else` clause in loops is useful for executing code that should run only if the loop completes normally, without encountering a `break` statement."
   ]
  },
  {
   "cell_type": "markdown",
   "metadata": {},
   "source": [
    "### Task 3: Loop Control Statements\n",
    "\n",
    "Now it's your turn to practice! Write a program that does the following:\n",
    "\n",
    "1. Use a `for` loop to iterate through numbers 1 to 20.\n",
    "2. If the number is divisible by 3, print \"Fizz\" instead of the number.\n",
    "3. If the number is divisible by 5, print \"Buzz\" instead of the number.\n",
    "4. If the number is divisible by both 3 and 5, print \"FizzBuzz\".\n",
    "5. Use a `continue` statement to skip printing numbers that are not divisible by 3 or 5.\n",
    "6. Use a `break` statement to exit the loop if you encounter the number 18.\n",
    "7. Add an `else` clause to print \"Loop completed\" if the loop finishes without encountering a `break`.\n",
    "\n",
    "Here's a starter code for you:"
   ]
  },
  {
   "cell_type": "code",
   "execution_count": 2,
   "metadata": {},
   "outputs": [
    {
     "name": "stdout",
     "output_type": "stream",
     "text": [
      "Fizz\n",
      "Buzz\n",
      "Fizz\n",
      "Fizz\n",
      "Buzz\n",
      "Fizz\n",
      "FizzBuzz\n",
      "Fizz\n",
      "Buzz\n",
      "Loop completed\n"
     ]
    }
   ],
   "source": [
    "for i in range(1, 21):\n",
    "    if i % 3 == 0 and i % 5 == 0:\n",
    "        print(\"FizzBuzz\")\n",
    "    elif i % 3 == 0:\n",
    "        print(\"Fizz\")\n",
    "    elif i % 5 == 0:\n",
    "        print(\"Buzz\")\n",
    "    elif i == 18:\n",
    "        break\n",
    "    else:\n",
    "        continue\n",
    "else:\n",
    "    print(\"Loop completed\")"
   ]
  },
  {
   "cell_type": "markdown",
   "metadata": {},
   "source": [
    "Try running your code to make sure it produces the correct output according to the specifications!"
   ]
  },
  {
   "cell_type": "markdown",
   "metadata": {},
   "source": [
    "## Conclusion\n",
    "\n",
    "In this class, we've covered the fundamental concepts of control flow in Python:\n",
    "\n",
    "1. Conditional Statements (if/else/elif) for making decisions in our code.\n",
    "2. Loops (for and while) for repeating actions efficiently.\n",
    "3. Loop Control Statements (break, continue, else) for fine-tuning our loops.\n",
    "\n",
    "These tools are essential for creating dynamic and responsive programs. As you practice and become more comfortable with these concepts, you'll find that you can solve increasingly complex problems and create more sophisticated programs.\n",
    "\n",
    "Remember, the key to mastering these concepts is practice. Try to use them in various scenarios, experiment with different combinations, and don't be afraid to make mistakes – they're a crucial part of the learning process!\n",
    "\n",
    "In our next class, we'll build upon these fundamentals and explore more advanced Python concepts. Keep coding, and have fun exploring the world of Python programming!"
   ]
  }
 ],
 "metadata": {
  "kernelspec": {
   "display_name": "Python 3",
   "language": "python",
   "name": "python3"
  },
  "language_info": {
   "codemirror_mode": {
    "name": "ipython",
    "version": 3
   },
   "file_extension": ".py",
   "mimetype": "text/x-python",
   "name": "python",
   "nbconvert_exporter": "python",
   "pygments_lexer": "ipython3",
   "version": "3.12.6"
  }
 },
 "nbformat": 4,
 "nbformat_minor": 2
}
