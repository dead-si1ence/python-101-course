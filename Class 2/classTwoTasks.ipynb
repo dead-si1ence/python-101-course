{
 "cells": [
  {
   "cell_type": "markdown",
   "metadata": {},
   "source": [
    "## Class One Tasks Part Two:"
   ]
  },
  {
   "cell_type": "markdown",
   "metadata": {},
   "source": [
    "Solve these tasks before the next lecture and upload th solved Jupyter Notebook file to the Google Form named **Class Two Tasks**"
   ]
  },
  {
   "cell_type": "markdown",
   "metadata": {},
   "source": [
    "<hr>"
   ]
  },
  {
   "cell_type": "markdown",
   "metadata": {},
   "source": [
    "**Exercise 1:** Write a program that asks the user for their name, age, and favorite color, then prints a formatted message using this information."
   ]
  },
  {
   "cell_type": "code",
   "execution_count": null,
   "metadata": {},
   "outputs": [],
   "source": [
    "# Your code here"
   ]
  },
  {
   "cell_type": "markdown",
   "metadata": {},
   "source": [
    "<hr>"
   ]
  },
  {
   "cell_type": "markdown",
   "metadata": {},
   "source": [
    "**Exercise 2:** Write a program that converts temperatures between Celsius and Fahrenheit. Ask the user for the temperature and the unit they're converting from, then print the result."
   ]
  },
  {
   "cell_type": "code",
   "execution_count": null,
   "metadata": {},
   "outputs": [],
   "source": [
    "# Your code here"
   ]
  },
  {
   "cell_type": "markdown",
   "metadata": {},
   "source": [
    "<hr>"
   ]
  },
  {
   "cell_type": "markdown",
   "metadata": {},
   "source": [
    "## Class Two Tasks:"
   ]
  },
  {
   "cell_type": "markdown",
   "metadata": {},
   "source": [
    "Solve these tasks before the next lecture and upload th solved Jupyter Notebook file to the Google Form named **Class Two Tasks**"
   ]
  },
  {
   "cell_type": "markdown",
   "metadata": {},
   "source": [
    "<hr>"
   ]
  },
  {
   "cell_type": "markdown",
   "metadata": {},
   "source": [
    "### Task 1: Conditional Statements\n",
    "\n",
    "Now it's your turn to practice! Write a program that does the following:\n",
    "\n",
    "1. Ask the user for their age using `input()`.\n",
    "2. Convert the input to an integer using `int()`.\n",
    "3. Use conditional statements to print a message based on the following conditions:\n",
    "   - If the age is less than 13, print \"You're a child.\"\n",
    "   - If the age is between 13 and 19 (inclusive), print \"You're a teenager.\"\n",
    "   - If the age is between 20 and 64 (inclusive), print \"You're an adult.\"\n",
    "   - If the age is 65 or older, print \"You're a senior citizen.\"\n",
    "\n",
    "Here's a starter code for you:"
   ]
  },
  {
   "cell_type": "code",
   "execution_count": null,
   "metadata": {},
   "outputs": [],
   "source": [
    "# Your code here\n",
    "age = int(input(\"Please enter your age: \"))\n",
    "\n",
    "# Write your conditional statements here"
   ]
  },
  {
   "cell_type": "markdown",
   "metadata": {},
   "source": [
    "<hr>"
   ]
  },
  {
   "cell_type": "markdown",
   "metadata": {},
   "source": [
    "### Task 2: Loops\n",
    "\n",
    "Now it's your turn to practice! Write a program that does the following:\n",
    "\n",
    "1. Use a `for` loop to print the first 10 multiples of 3.\n",
    "2. Use a `while` loop to print the countdown from 10 to 1.\n",
    "\n",
    "Here's a starter code for you:"
   ]
  },
  {
   "cell_type": "code",
   "execution_count": null,
   "metadata": {},
   "outputs": [],
   "source": [
    "# Part 1: for loop to print multiples of 3\n",
    "print(\"Multiples of 3:\")\n",
    "# Your code here\n",
    "\n",
    "\n",
    "# Part 2: while loop for countdown\n",
    "print(\"\\nCountdown:\")\n",
    "# Your code here"
   ]
  },
  {
   "cell_type": "markdown",
   "metadata": {},
   "source": [
    "<hr>"
   ]
  }
 ],
 "metadata": {
  "language_info": {
   "name": "python"
  }
 },
 "nbformat": 4,
 "nbformat_minor": 2
}
